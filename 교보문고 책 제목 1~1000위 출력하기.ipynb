{
 "cells": [
  {
   "cell_type": "code",
   "execution_count": null,
   "id": "6967ba4d",
   "metadata": {},
   "outputs": [],
   "source": []
  },
  {
   "cell_type": "markdown",
   "id": "05f3a1cb",
   "metadata": {},
   "source": [
    "### 교보문고 온라인 베스트순위 순으로 제목 1000개 출력 후 텍스트파일로 저장\n",
    "\n",
    "#### 원래 과제\n",
    "네이버 등 자주 사용하는 웹페이지에서 가치있다고 생각할 수 있는 데이터를 가져와서 활용할 수 있는 형태로 출력하세요.(최소 1000개 이상)\n",
    "\n",
    "<br>\n",
    "point\n",
    "\n",
    "1. 1~49 페이지 까지 있는 목록 페이지 전체를 사용해야 함.(1 페이지 당 20개의 책 제목)\n",
    "\n",
    "2. 출력 목록을 텍스트 파일로 저장하여 활용할 수 있는 형태로 만들기"
   ]
  },
  {
   "cell_type": "code",
   "execution_count": 2,
   "id": "b69f5b2a",
   "metadata": {},
   "outputs": [
    {
     "data": {
      "text/html": [
       "<style>.container { width:100% !important; }</style>"
      ],
      "text/plain": [
       "<IPython.core.display.HTML object>"
      ]
     },
     "metadata": {},
     "output_type": "display_data"
    },
    {
     "name": "stderr",
     "output_type": "stream",
     "text": [
      "C:\\Users\\hh\\AppData\\Local\\Temp\\ipykernel_7944\\3640597556.py:12: DeprecationWarning: executable_path has been deprecated, please pass in a Service object\n",
      "  driver = webdriver.Chrome('C:/tool/chromedriver.exe')\n"
     ]
    },
    {
     "name": "stdout",
     "output_type": "stream",
     "text": [
      "980\n"
     ]
    }
   ],
   "source": [
    "# 실행코드\n",
    "from IPython.display import display, HTML\n",
    "display(HTML(\"<style>.container { width:100% !important; }</style>\"))\n",
    "\n",
    "import selenium\n",
    "from selenium import webdriver\n",
    "from selenium.webdriver.common.by import By\n",
    "import time\n",
    "from time import sleep\n",
    "\n",
    "url = 'https://product.kyobobook.co.kr/bestseller/online?period=001#?page=1&per=20&ymw=&period=001&saleCmdtClstCode=&dsplDvsnCode=000&dsplTrgtDvsnCode=001&saleCmdtDsplDvsnCode='\n",
    "driver = webdriver.Chrome('C:/tool/chromedriver.exe')\n",
    "driver.get(url)\n",
    "\n",
    "lists=[]\n",
    "\n",
    "titles1 = driver.find_elements(By.CLASS_NAME,'prod_name') #20개\n",
    "for title in titles1:\n",
    "    lists.append(title.text)\n",
    "    \n",
    "for i in range(1,49):\n",
    "    page = driver.find_element(By.XPATH,'//*[@id=\"tabRoot\"]/div[2]/div[1]/button[2]')\n",
    "    page.click()\n",
    "    time.sleep(3)\n",
    "    titles = driver.find_elements(By.CLASS_NAME,'prod_name')\n",
    "    for title in titles:\n",
    "        lists.append(title.text)\n",
    "        \n",
    "# 출력시 대괄호 없애기\n",
    "# for item in lists:\n",
    "#     print(item)\n",
    "\n",
    "with open('kyo.txt','w',encoding=('utf-8')) as f:\n",
    "    print(len(lists))\n",
    "    print(lists, file=f)"
   ]
  },
  {
   "cell_type": "markdown",
   "id": "a8a6414b",
   "metadata": {},
   "source": [
    "#### 처음 구상<br>\n",
    "1. 책 제목 출력 후 2페이지 버튼 클릭 -> 3페이지 버튼 클릭 -> ... -> 마지막 버튼까지 클릭<br>\n",
    "2. 모든 파일을 텍스트 파일로 저장\n",
    "<br>\n",
    "\n",
    "- [버튼 클릭]\n",
    "\n",
    "2page -> //*[@id=\"tabRoot\"]/div[2]/div[1]/div/a[2] <br>\n",
    "3page -> //*[@id=\"tabRoot\"]/div[2]/div[1]/div/a[3]\n",
    "\n",
    "==> 페이지 버튼 넘기는 XPATH -> //*[@id=\"tabRoot\"]/div[2]/div[1]/div/a['+str(i+1)+']로 구상.\n",
    "<br><br>\n",
    "#### 코드 수정 과정 <br>\n",
    "\n",
    "- > 출력문제\n",
    "- 문제 1. 페이지는 넘어가나 1페이지의 책 제목들이 반복출력 됨.<br>\n",
    "- 문제 2. 페이지는 넘어가나 출력이 왕왕 되지 않는 경우 발생.<br>\n",
    "- 문제 3. 출력 결과가 문자열 형태로, 쉽게 활용할 수 없는 데이터.<br>\n",
    "<br>\n",
    "    해결 --> for문 수정 및 time.sleep() 사용으로 문제 해결, 문자열 형태(lists='')에서 리스트 형태(lists=[])로 변경.<br>\n",
    "<br>\n",
    "- > 페이지 이동문제 \n",
    "- 문제 4. 페이지 이동 시 버튼이 2,3,4,5,6,7,49로 넘어감<br>\n",
    "<br>\n",
    "    해결 --> 2페이지, 3페이지 버튼을 누르는 방식이 아닌 다음버튼(>)을 마지막까지 누르는 방식으로 변경, 이 방식 변경으로 비교적 간단해진 코드!\n",
    "<br>\n",
    "- > 추가적인 수정 과정\n",
    "    1. 전체적인 for 문 수정\n",
    "    2. with open 방식으로 텍스트파일 저장하기\n",
    "    3. 암묵적 대기 사용 -> 사용했으나 이유모를 에러 -> 기존의 time.sleep()함수 사용<br>\n",
    "<br><br>\n",
    "\n",
    "#### 마무리 <br>\n",
    "1. 평소 헷갈렸던 텍스트 파일 저장 방법을 완벽하게 숙지\n",
    "2. for 반복문을 내가 원하는 대로 사용 가능\n",
    "3. 셀레니움을 통해 동적인 표현가능, 훨씬 유용한 데이터 관리 가능"
   ]
  }
 ],
 "metadata": {
  "kernelspec": {
   "display_name": "Python 3 (ipykernel)",
   "language": "python",
   "name": "python3"
  },
  "language_info": {
   "codemirror_mode": {
    "name": "ipython",
    "version": 3
   },
   "file_extension": ".py",
   "mimetype": "text/x-python",
   "name": "python",
   "nbconvert_exporter": "python",
   "pygments_lexer": "ipython3",
   "version": "3.9.13"
  }
 },
 "nbformat": 4,
 "nbformat_minor": 5
}
