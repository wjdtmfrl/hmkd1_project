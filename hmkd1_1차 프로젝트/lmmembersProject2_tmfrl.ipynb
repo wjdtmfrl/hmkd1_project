{
 "cells": [
  {
   "cell_type": "code",
   "execution_count": 3,
   "id": "ea07104d",
   "metadata": {},
   "outputs": [],
   "source": [
    "import cx_Oracle\n",
    "import pandas as pd\n",
    "import numpy as np\n",
    "import pickle\n",
    "import seaborn as sns\n",
    "import matplotlib.pyplot as plt\n",
    "import re\n",
    "from matplotlib import rc\n",
    "rc(\"font\", family = \"Malgun Gothic\")\n",
    "from sklearn.model_selection import train_test_split, GridSearchCV\n",
    "from sklearn.metrics import accuracy_score, precision_score, recall_score, f1_score, roc_auc_score, r2_score\n",
    "from sklearn.metrics import confusion_matrix, precision_recall_curve, roc_curve\n",
    "from sklearn.metrics import mean_squared_error, mean_squared_log_error \n",
    "from sklearn.preprocessing import StandardScaler\n",
    "from sklearn.preprocessing import LabelEncoder, MinMaxScaler, StandardScaler\n",
    "from sklearn.tree import DecisionTreeClassifier\n",
    "from sklearn.ensemble import RandomForestClassifier\n",
    "from sklearn.linear_model import LinearRegression, Ridge, Lasso, LogisticRegression\n",
    "import pandas as pd\n",
    "pd.set_option('display.max_columns', None)\n",
    "\n",
    "import warnings\n",
    "warnings.filterwarnings(\"ignore\")"
   ]
  },
  {
   "cell_type": "code",
   "execution_count": 2,
   "id": "5f69eeae",
   "metadata": {},
   "outputs": [],
   "source": [
    "db = cx_Oracle.connect(\"c##lm\", \"lm\", \"localhost:1521/xe\")\n",
    "cursor = db.cursor()\n",
    "cursor.execute(\"select * from CUSTOMERDATA\")\n",
    "x = cursor.fetchall()\n",
    "\n",
    "customerdata = pd.DataFrame(x)\n",
    "\n",
    "cursor.execute(\"select column_name from user_tab_columns where table_name = 'CUSTOMERDATA'\")\n",
    "col = cursor.fetchall()\n",
    "list1 = []\n",
    "for i in col:\n",
    "    for j in i:\n",
    "        list1.append(j)\n",
    "        \n",
    "customerdata.columns = list1"
   ]
  },
  {
   "cell_type": "code",
   "execution_count": 3,
   "id": "eea77c4e",
   "metadata": {},
   "outputs": [],
   "source": [
    "customerdata[\"14_1분기\"].fillna(0, inplace = True)\n",
    "customerdata[\"14_2분기\"].fillna(0, inplace = True)\n",
    "customerdata[\"14_3분기\"].fillna(0, inplace = True)\n",
    "customerdata[\"14_4분기\"].fillna(0, inplace = True)\n",
    "customerdata[\"15_1분기\"].fillna(0, inplace = True)\n",
    "customerdata[\"15_2분기\"].fillna(0, inplace = True)\n",
    "customerdata[\"15_3분기\"].fillna(0, inplace = True)\n",
    "customerdata[\"15_4분기\"].fillna(0, inplace = True)"
   ]
  },
  {
   "cell_type": "code",
   "execution_count": 4,
   "id": "407ab500",
   "metadata": {},
   "outputs": [],
   "source": [
    "customerdata[\"14_1분기\"] = round(customerdata[\"14_1분기\"] * 1.0109552634860561)\n",
    "customerdata[\"14_2분기\"] = round(customerdata[\"14_2분기\"] * 1.005856410415038)\n",
    "customerdata[\"14_3분기\"] = round(customerdata[\"14_3분기\"] * 1.0238994118951612)\n",
    "customerdata[\"14_4분기\"] = round(customerdata[\"14_4분기\"] * 0.9669899689775655)\n",
    "customerdata[\"15_1분기\"] = round(customerdata[\"15_1분기\"] * 1.0109552634859216)\n",
    "customerdata[\"15_2분기\"] = round(customerdata[\"15_2분기\"] * 1.005856410415038)\n",
    "customerdata[\"15_3분기\"] = round(customerdata[\"15_3분기\"] * 1.0238994118951612)\n",
    "customerdata[\"15_4분기\"] = round(customerdata[\"15_4분기\"] * 0.9669899689775655)"
   ]
  },
  {
   "cell_type": "code",
   "execution_count": 5,
   "id": "90dc0e1e",
   "metadata": {},
   "outputs": [],
   "source": [
    "customerdata[\"분기 총변화\"] = (\n",
    "    customerdata[\"14_2분기변화\"]+\n",
    "    customerdata[\"14_3분기변화\"]+\n",
    "    customerdata[\"14_4분기변화\"]+\n",
    "    customerdata[\"15_1분기변화\"]+\n",
    "    customerdata[\"15_2분기변화\"]+\n",
    "    customerdata[\"15_3분기변화\"]+\n",
    "    customerdata[\"15_4분기변화\"]\n",
    ")"
   ]
  },
  {
   "cell_type": "code",
   "execution_count": 6,
   "id": "a6d48b49",
   "metadata": {},
   "outputs": [],
   "source": [
    "def get_loss_target(amount):\n",
    "    cat = ''\n",
    "    if amount < 0: cat = 1\n",
    "    else: cat = 0\n",
    "    return cat"
   ]
  },
  {
   "cell_type": "code",
   "execution_count": 7,
   "id": "b8cd6da8",
   "metadata": {},
   "outputs": [],
   "source": [
    "customerdata[\"감소고객\"] = customerdata[\"분기 총변화\"].apply(lambda x : get_loss_target(x))"
   ]
  },
  {
   "cell_type": "code",
   "execution_count": 8,
   "id": "7cda93aa",
   "metadata": {},
   "outputs": [],
   "source": [
    "def get_Rrank(amount):\n",
    "    cat = ''\n",
    "    if amount <= -1: cat = 'Unknown'\n",
    "    elif amount < 4: cat = 1\n",
    "    elif amount < 8: cat = 2\n",
    "    elif amount < 31: cat = 3\n",
    "    elif amount < 183: cat = 4\n",
    "    else : cat = 5\n",
    "    \n",
    "    return cat"
   ]
  },
  {
   "cell_type": "code",
   "execution_count": 9,
   "id": "d4351379",
   "metadata": {},
   "outputs": [],
   "source": [
    "def get_Frank(amount):\n",
    "    cat = ''\n",
    "    if amount <= -1: cat = 'Unknown'\n",
    "    elif amount < 618: cat = 11\n",
    "    elif amount < 772: cat = 10\n",
    "    elif amount < 938: cat = 9\n",
    "    elif amount < 1124: cat = 8\n",
    "    elif amount < 1333: cat = 7\n",
    "    elif amount < 1556: cat = 6\n",
    "    elif amount < 1808: cat = 5\n",
    "    elif amount < 2114: cat = 4\n",
    "    elif amount < 2541: cat = 3\n",
    "    elif amount < 4000: cat = 2\n",
    "    else : cat = 1\n",
    "    \n",
    "    return cat"
   ]
  },
  {
   "cell_type": "code",
   "execution_count": 10,
   "id": "ce8fb1bf",
   "metadata": {},
   "outputs": [],
   "source": [
    "def get_Mrank(amount):\n",
    "    cat = ''\n",
    "    if amount <= -1: cat = 'Unknown'\n",
    "    elif amount < 8000000: cat = 11\n",
    "    elif amount < 10000000: cat = 10\n",
    "    elif amount < 12000000: cat = 9\n",
    "    elif amount < 14500000: cat = 8\n",
    "    elif amount < 17500000: cat = 7\n",
    "    elif amount < 22000000: cat = 6\n",
    "    elif amount < 32000000: cat = 5\n",
    "    elif amount < 50000000: cat = 4\n",
    "    elif amount < 80000000: cat = 3\n",
    "    elif amount < 120000000: cat = 2\n",
    "    else : cat = 1\n",
    "    \n",
    "    return cat"
   ]
  },
  {
   "cell_type": "code",
   "execution_count": 11,
   "id": "56b20f45",
   "metadata": {},
   "outputs": [],
   "source": [
    "def get_Frank2(amount):\n",
    "    cat = ''\n",
    "    if amount <= -1: cat = 'Unknown'\n",
    "    elif amount < 538: cat = 11\n",
    "    elif amount < 675: cat = 10\n",
    "    elif amount < 820: cat = 9\n",
    "    elif amount < 987: cat = 8\n",
    "    elif amount < 1171: cat = 7\n",
    "    elif amount < 1370: cat = 6\n",
    "    elif amount < 1592: cat = 5\n",
    "    elif amount < 1867: cat = 4\n",
    "    elif amount < 2247: cat = 3\n",
    "    elif amount < 3500: cat = 2\n",
    "    else : cat = 1\n",
    "    \n",
    "    return cat"
   ]
  },
  {
   "cell_type": "code",
   "execution_count": 12,
   "id": "defa2b77",
   "metadata": {},
   "outputs": [],
   "source": [
    "def get_Mrank2(amount):\n",
    "    cat = ''\n",
    "    if amount <= -1: cat = 'Unknown'\n",
    "    elif amount < 6600000: cat = 11\n",
    "    elif amount < 8700000: cat = 10\n",
    "    elif amount < 11000000: cat = 9\n",
    "    elif amount < 13000000: cat = 8\n",
    "    elif amount < 15000000: cat = 7\n",
    "    elif amount < 20000000: cat = 6\n",
    "    elif amount < 27000000: cat = 5\n",
    "    elif amount < 43000000: cat = 4\n",
    "    elif amount < 70000000: cat = 3\n",
    "    elif amount < 100000000: cat = 2\n",
    "    else : cat = 1\n",
    "    \n",
    "    return cat"
   ]
  },
  {
   "cell_type": "code",
   "execution_count": 13,
   "id": "8aeb27b2",
   "metadata": {},
   "outputs": [],
   "source": [
    "def get_AMrank(amount):\n",
    "    cat = ''\n",
    "    if amount <= -1: cat = 'Unknown'\n",
    "    elif amount < 5000: cat = 11\n",
    "    elif amount < 6000: cat = 10\n",
    "    elif amount < 8000: cat = 9\n",
    "    elif amount < 9000: cat = 8\n",
    "    elif amount < 12000: cat = 7\n",
    "    elif amount < 18000: cat = 6\n",
    "    elif amount < 31000: cat = 5\n",
    "    elif amount < 53000: cat = 4\n",
    "    elif amount < 100000: cat = 3\n",
    "    elif amount < 150000: cat = 2\n",
    "    else : cat = 1\n",
    "    \n",
    "    return cat"
   ]
  },
  {
   "cell_type": "code",
   "execution_count": 14,
   "id": "366b0ac8",
   "metadata": {},
   "outputs": [],
   "source": [
    "def get_age(x):\n",
    "    cat = ''\n",
    "    if x == \"19세 이하\" or x == \"20세~24세\": cat = \"학생층\"\n",
    "    elif x == \"25세~29세\" or x == \"30세~34세\": cat = \"청년층\"\n",
    "    elif x == \"35세~39세\" or x == \"40세~44세\": cat = \"중년층\"\n",
    "    elif x == \"45세~49세\" or x == \"50세~54세\": cat = \"장년층\"\n",
    "    else : cat = \"노년층\"\n",
    "    \n",
    "    return cat\n"
   ]
  },
  {
   "cell_type": "code",
   "execution_count": 15,
   "id": "b821acf2",
   "metadata": {},
   "outputs": [],
   "source": [
    "def get_region(x):\n",
    "    cat = ''\n",
    "    if x == \"110\": cat = \"경기\"\n",
    "    elif x == \"210\": cat = \"인천\"\n",
    "    elif x == \"240\": cat = \"강원\"\n",
    "    elif x == \"270\": cat = \"충북\"\n",
    "    elif x == \"300\": cat = \"세종\"\n",
    "    elif x == \"310\": cat = \"충남\"\n",
    "    elif x == \"340\": cat = \"대전\"\n",
    "    elif x == \"360\": cat = \"경북\"\n",
    "    elif x == \"410\": cat = \"대구\"\n",
    "    elif x == \"440\": cat = \"울산\"\n",
    "    elif x == \"460\": cat = \"부산\"\n",
    "    elif x == \"500\": cat = \"경남\"\n",
    "    elif x == \"540\": cat = \"전북\"\n",
    "    elif x == \"570\": cat = \"전남\"\n",
    "    elif x == \"610\": cat = \"광주\"\n",
    "    elif x == \"630\": cat = \"제주\"\n",
    "    else : cat = \"서울\"\n",
    "    \n",
    "    return cat"
   ]
  },
  {
   "cell_type": "code",
   "execution_count": 16,
   "id": "3a319291",
   "metadata": {},
   "outputs": [],
   "source": [
    "def make_pie(count, title = None):\n",
    "    index = list(count.index)\n",
    "    value = list(count)\n",
    "    plt.pie(value, labels = index, autopct='%1.1f%%')\n",
    "    if title:\n",
    "        plt.title(title)"
   ]
  },
  {
   "cell_type": "code",
   "execution_count": 17,
   "id": "c42cae4c",
   "metadata": {},
   "outputs": [],
   "source": [
    "customerdata[\"R 등급\"] = customerdata[\"최근성\"].apply(lambda x : get_Rrank(x))\n",
    "customerdata[\"F 등급\"] = customerdata[\"행동 빈도\"].apply(lambda x : get_Frank(x))\n",
    "customerdata[\"M 등급\"] = customerdata[\"구매 총액\"].apply(lambda x : get_Mrank(x))\n",
    "customerdata[\"AM 등급\"] = customerdata[\"평균구매액\"].apply(lambda x : get_AMrank(x))\n",
    "customerdata[\"거주지역\"] = customerdata[\"거주지역\"].apply(lambda x : get_region(x))\n",
    "customerdata[\"연령대\"] = customerdata[\"연령대\"].apply(lambda x : get_age(x))"
   ]
  },
  {
   "cell_type": "code",
   "execution_count": 18,
   "id": "c4d3521a",
   "metadata": {},
   "outputs": [
    {
     "name": "stdout",
     "output_type": "stream",
     "text": [
      "<class 'pandas.core.frame.DataFrame'>\n",
      "RangeIndex: 19383 entries, 0 to 19382\n",
      "Columns: 132 entries, 고객번호 to AM 등급\n",
      "dtypes: float64(21), int64(105), object(6)\n",
      "memory usage: 19.5+ MB\n"
     ]
    }
   ],
   "source": [
    "customerdata.info()"
   ]
  },
  {
   "cell_type": "code",
   "execution_count": 19,
   "id": "3f8cd22e",
   "metadata": {},
   "outputs": [
    {
     "data": {
      "text/plain": [
       "Text(0.5, 1.0, '계절성 제거')"
      ]
     },
     "execution_count": 19,
     "metadata": {},
     "output_type": "execute_result"
    },
    {
     "data": {
      "image/png": "[encoded data removed]",
      "text/plain": [
       "<Figure size 640x480 with 1 Axes>"
      ]
     },
     "metadata": {},
     "output_type": "display_data"
    }
   ],
   "source": [
    "count = customerdata[\"감소고객\"].value_counts()\n",
    "index = list(count.index)\n",
    "value = list(count)\n",
    "a = plt.pie(value, labels = [\"증가\", \"감소\"], autopct='%1.1f%%')\n",
    "plt.title(\"계절성 제거\")"
   ]
  },
  {
   "cell_type": "code",
   "execution_count": 20,
   "id": "bbe8fc33",
   "metadata": {},
   "outputs": [
    {
     "data": {
      "text/plain": [
       "[11319, 8064]"
      ]
     },
     "execution_count": 20,
     "metadata": {},
     "output_type": "execute_result"
    }
   ],
   "source": [
    "value"
   ]
  },
  {
   "cell_type": "code",
   "execution_count": 21,
   "id": "ff5d0f2a",
   "metadata": {},
   "outputs": [],
   "source": [
    "delta1 = customerdata[customerdata[\"감소고객\"] == 1]\n",
    "delta0 = customerdata[customerdata[\"감소고객\"] == 0]\n",
    "\n",
    "up = delta0[['14_1분기', '14_2분기', '14_3분기', '14_4분기',\n",
    "       '15_1분기', '15_2분기', '15_3분기', '15_4분기']].sum().sum()\n",
    "\n",
    "down = delta1[['14_1분기', '14_2분기', '14_3분기', '14_4분기',\n",
    "       '15_1분기', '15_2분기', '15_3분기', '15_4분기']].sum().sum()"
   ]
  },
  {
   "cell_type": "code",
   "execution_count": 22,
   "id": "227ee7fc",
   "metadata": {},
   "outputs": [
    {
     "data": {
      "text/plain": [
       "Text(0.5, 1.0, '증가/감소고객 매출 차이')"
      ]
     },
     "execution_count": 22,
     "metadata": {},
     "output_type": "execute_result"
    },
    {
     "data": {
      "image/png": "[encoded data removed]",
      "text/plain": [
       "<Figure size 640x480 with 1 Axes>"
      ]
     },
     "metadata": {},
     "output_type": "display_data"
    }
   ],
   "source": [
    "sns.barplot(x = [\"증가\",\"감소\"], y = [up, down])\n",
    "plt.title(\"증가/감소고객 매출 차이\")"
   ]
  },
  {
   "cell_type": "code",
   "execution_count": 23,
   "id": "63113937",
   "metadata": {},
   "outputs": [],
   "source": [
    "customerdata[\"14_2변화율\"] = round(customerdata[\"14_2분기\"] / customerdata[\"14_1분기\"]* 100,2)\n",
    "customerdata[\"14_3변화율\"] = round(customerdata[\"14_3분기\"] / customerdata[\"14_2분기\"]* 100,2)\n",
    "customerdata[\"14_4변화율\"] = round(customerdata[\"14_4분기\"] / customerdata[\"14_3분기\"]* 100,2)\n",
    "customerdata[\"15_1변화율\"] = round(customerdata[\"15_1분기\"] / customerdata[\"14_4분기\"]* 100,2)\n",
    "customerdata[\"15_2변화율\"] = round(customerdata[\"15_2분기\"] / customerdata[\"15_1분기\"]* 100,2)\n",
    "customerdata[\"15_3변화율\"] = round(customerdata[\"15_3분기\"] / customerdata[\"15_2분기\"]* 100,2)\n",
    "customerdata[\"15_4변화율\"] = round(customerdata[\"15_4분기\"] / customerdata[\"15_3분기\"]* 100,2)"
   ]
  },
  {
   "cell_type": "code",
   "execution_count": null,
   "id": "c7c2d6f3",
   "metadata": {},
   "outputs": [],
   "source": []
  },
  {
   "cell_type": "code",
   "execution_count": 24,
   "id": "6f1a9927",
   "metadata": {},
   "outputs": [
    {
     "name": "stdout",
     "output_type": "stream",
     "text": [
      "14754    0\n",
      "Name: 감소고객, dtype: int64\n"
     ]
    },
    {
     "data": {
      "text/plain": [
       "<AxesSubplot:>"
      ]
     },
     "execution_count": 24,
     "metadata": {},
     "output_type": "execute_result"
    },
    {
     "data": {
      "image/png": "[encoded data removed]",
      "text/plain": [
       "<Figure size 640x480 with 1 Axes>"
      ]
     },
     "metadata": {},
     "output_type": "display_data"
    }
   ],
   "source": [
    "c = customerdata[customerdata[\"고객번호\"] == \"15999\"]\n",
    "print(c[\"감소고객\"])\n",
    "sns.lineplot(c[['14_1분기', '14_2분기', '14_3분기', '14_4분기','15_1분기', '15_2분기', '15_3분기', '15_4분기']].transpose())"
   ]
  },
  {
   "cell_type": "code",
   "execution_count": 25,
   "id": "dbf57743",
   "metadata": {},
   "outputs": [],
   "source": [
    "delta = customerdata[customerdata[\"감소고객\"] == 1]"
   ]
  },
  {
   "cell_type": "code",
   "execution_count": 26,
   "id": "8fef946e",
   "metadata": {},
   "outputs": [],
   "source": [
    "delta[\"14_2예측\"] = delta[\"14_1분기\"] * 1.0320933400038665\n",
    "delta[\"14_3예측\"] = delta[\"14_2예측\"] * 0.9269852979723926\n",
    "delta[\"14_4예측\"] = delta[\"14_3예측\"] * 1.282609129616268\n",
    "delta[\"15_1예측\"] = delta[\"14_4예측\"] * 0.8748904692123978\n",
    "delta[\"15_2예측\"] = delta[\"15_1예측\"] * 1.003773385020013\n",
    "delta[\"15_3예측\"] = delta[\"15_2예측\"] * 0.9375962335791909\n",
    "delta[\"15_4예측\"] = delta[\"15_3예측\"] * 1.238677904420186\n",
    "delta[\"예상이득\"] = (\n",
    "    delta[\"14_2예측\"] - delta[\"14_2분기\"]+\n",
    "    delta[\"14_3예측\"] - delta[\"14_3분기\"]+\n",
    "    delta[\"14_4예측\"] - delta[\"14_4분기\"]+\n",
    "    delta[\"15_1예측\"] - delta[\"15_1분기\"]+\n",
    "    delta[\"15_2예측\"] - delta[\"15_2분기\"]+\n",
    "    delta[\"15_3예측\"] - delta[\"15_3분기\"]+\n",
    "    delta[\"15_4예측\"] - delta[\"15_4분기\"]\n",
    ")"
   ]
  },
  {
   "cell_type": "code",
   "execution_count": 27,
   "id": "1715a79b",
   "metadata": {},
   "outputs": [
    {
     "data": {
      "text/plain": [
       "115066924797"
      ]
     },
     "execution_count": 27,
     "metadata": {},
     "output_type": "execute_result"
    }
   ],
   "source": [
    "profit = delta[[\"예상이득\"]].sum()\n",
    "int(profit)"
   ]
  },
  {
   "cell_type": "code",
   "execution_count": 28,
   "id": "48ef35a6",
   "metadata": {},
   "outputs": [
    {
     "data": {
      "text/plain": [
       "347485728658.0"
      ]
     },
     "execution_count": 28,
     "metadata": {},
     "output_type": "execute_result"
    }
   ],
   "source": [
    "total15 = customerdata[['15_1분기', '15_2분기', '15_3분기', '15_4분기']].sum().sum()\n",
    "total15"
   ]
  },
  {
   "cell_type": "code",
   "execution_count": 29,
   "id": "c2c2bf0f",
   "metadata": {},
   "outputs": [],
   "source": [
    "total14 = customerdata[['14_1분기', '14_2분기', '14_3분기', '14_4분기']].sum().sum()"
   ]
  },
  {
   "cell_type": "code",
   "execution_count": 30,
   "id": "e15505a5",
   "metadata": {},
   "outputs": [
    {
     "data": {
      "text/plain": [
       "Text(0.5, 1.0, '예상 매출액')"
      ]
     },
     "execution_count": 30,
     "metadata": {},
     "output_type": "execute_result"
    },
    {
     "data": {
      "image/png": "[encoded data removed]",
      "text/plain": [
       "<Figure size 640x480 with 1 Axes>"
      ]
     },
     "metadata": {},
     "output_type": "display_data"
    }
   ],
   "source": [
    "sns.barplot(x = [\"14년 매출\", \"15년 예상 증가 매출\"], y = [total14, total15+int(profit)])\n",
    "plt.title(\"예상 매출액\")"
   ]
  },
  {
   "cell_type": "code",
   "execution_count": 31,
   "id": "ddbccd33",
   "metadata": {},
   "outputs": [
    {
     "data": {
      "text/plain": [
       "Index(['고객번호', '성별', '연령대', '거주지역', 'A선호점포', 'B선호점포', 'C선호점포', 'D선호점포',\n",
       "       '선호제휴사', '선호점포',\n",
       "       ...\n",
       "       'F 등급', 'M 등급', 'AM 등급', '14_2변화율', '14_3변화율', '14_4변화율', '15_1변화율',\n",
       "       '15_2변화율', '15_3변화율', '15_4변화율'],\n",
       "      dtype='object', length=139)"
      ]
     },
     "execution_count": 31,
     "metadata": {},
     "output_type": "execute_result"
    }
   ],
   "source": [
    "customerdata.columns"
   ]
  },
  {
   "cell_type": "code",
   "execution_count": 32,
   "id": "ba8663c5",
   "metadata": {},
   "outputs": [],
   "source": [
    "df1 = customerdata[customerdata[\"R 등급\"] == 1]\n",
    "df0 = customerdata[customerdata[\"R 등급\"] != 1]\n",
    "df2 = df0[df0[\"R 등급\"] != 2]"
   ]
  },
  {
   "cell_type": "code",
   "execution_count": 33,
   "id": "a615f982",
   "metadata": {},
   "outputs": [
    {
     "data": {
      "text/plain": [
       "<AxesSubplot:xlabel='행동 빈도', ylabel='구매 총액'>"
      ]
     },
     "execution_count": 33,
     "metadata": {},
     "output_type": "execute_result"
    },
    {
     "data": {
      "image/png": "[encoded data removed]",
      "text/plain": [
       "<Figure size 640x480 with 1 Axes>"
      ]
     },
     "metadata": {},
     "output_type": "display_data"
    }
   ],
   "source": [
    "my_palette = [\"blue\", \"green\", \"limegreen\", \"orange\", \"red\"]\n",
    "sns.scatterplot(data = customerdata, x = \"행동 빈도\", y = \"구매 총액\", hue=\"R 등급\", palette=my_palette)"
   ]
  },
  {
   "cell_type": "code",
   "execution_count": 34,
   "id": "3241aae5",
   "metadata": {},
   "outputs": [
    {
     "data": {
      "text/plain": [
       "<AxesSubplot:xlabel='행동 빈도', ylabel='구매 총액'>"
      ]
     },
     "execution_count": 34,
     "metadata": {},
     "output_type": "execute_result"
    },
    {
     "data": {
      "image/png": "[encoded data removed]",
      "text/plain": [
       "<Figure size 640x480 with 1 Axes>"
      ]
     },
     "metadata": {},
     "output_type": "display_data"
    }
   ],
   "source": [
    "my_palette = [\"green\", \"limegreen\", \"orange\", \"red\"]\n",
    "sns.scatterplot(data = df1, x = \"행동 빈도\", y = \"구매 총액\", palette= \"blue\", alpha = 0.5, label = \"1\")\n",
    "sns.scatterplot(data = df0, x = \"행동 빈도\", y = \"구매 총액\", hue=\"R 등급\", palette=my_palette)"
   ]
  },
  {
   "cell_type": "code",
   "execution_count": 35,
   "id": "e33313fc",
   "metadata": {},
   "outputs": [
    {
     "data": {
      "text/plain": [
       "<AxesSubplot:xlabel='행동 빈도', ylabel='구매 총액'>"
      ]
     },
     "execution_count": 35,
     "metadata": {},
     "output_type": "execute_result"
    },
    {
     "data": {
      "image/png": "[encoded data removed]",
      "text/plain": [
       "<Figure size 640x480 with 1 Axes>"
      ]
     },
     "metadata": {},
     "output_type": "display_data"
    }
   ],
   "source": [
    "sns.scatterplot(data = customerdata, x = \"행동 빈도\", y = \"구매 총액\", hue = \"AM 등급\")"
   ]
  },
  {
   "cell_type": "code",
   "execution_count": 36,
   "id": "338583ec",
   "metadata": {},
   "outputs": [
    {
     "data": {
      "text/plain": [
       "9     2808\n",
       "11    2338\n",
       "3     2078\n",
       "7     2065\n",
       "5     1946\n",
       "4     1928\n",
       "6     1776\n",
       "10    1623\n",
       "8     1077\n",
       "2      945\n",
       "1      799\n",
       "Name: AM 등급, dtype: int64"
      ]
     },
     "execution_count": 36,
     "metadata": {},
     "output_type": "execute_result"
    }
   ],
   "source": [
    "customerdata[\"AM 등급\"].value_counts()"
   ]
  },
  {
   "cell_type": "code",
   "execution_count": 37,
   "id": "0568abf9",
   "metadata": {},
   "outputs": [
    {
     "data": {
      "text/html": [
       "<div>\n",
       "<style scoped>\n",
       "    .dataframe tbody tr th:only-of-type {\n",
       "        vertical-align: middle;\n",
       "    }\n",
       "\n",
       "    .dataframe tbody tr th {\n",
       "        vertical-align: top;\n",
       "    }\n",
       "\n",
       "    .dataframe thead th {\n",
       "        text-align: right;\n",
       "    }\n",
       "</style>\n",
       "<table border=\"1\" class=\"dataframe\">\n",
       "  <thead>\n",
       "    <tr style=\"text-align: right;\">\n",
       "      <th></th>\n",
       "      <th>고객번호</th>\n",
       "      <th>성별</th>\n",
       "      <th>연령대</th>\n",
       "      <th>거주지역</th>\n",
       "      <th>A선호점포</th>\n",
       "      <th>B선호점포</th>\n",
       "      <th>C선호점포</th>\n",
       "      <th>D선호점포</th>\n",
       "      <th>선호제휴사</th>\n",
       "      <th>선호점포</th>\n",
       "      <th>...</th>\n",
       "      <th>F 등급</th>\n",
       "      <th>M 등급</th>\n",
       "      <th>AM 등급</th>\n",
       "      <th>14_2변화율</th>\n",
       "      <th>14_3변화율</th>\n",
       "      <th>14_4변화율</th>\n",
       "      <th>15_1변화율</th>\n",
       "      <th>15_2변화율</th>\n",
       "      <th>15_3변화율</th>\n",
       "      <th>15_4변화율</th>\n",
       "    </tr>\n",
       "  </thead>\n",
       "  <tbody>\n",
       "    <tr>\n",
       "      <th>14754</th>\n",
       "      <td>15999</td>\n",
       "      <td>M</td>\n",
       "      <td>중년층</td>\n",
       "      <td>서울</td>\n",
       "      <td>30.0</td>\n",
       "      <td>5.0</td>\n",
       "      <td>NaN</td>\n",
       "      <td>NaN</td>\n",
       "      <td>A</td>\n",
       "      <td>30</td>\n",
       "      <td>...</td>\n",
       "      <td>9</td>\n",
       "      <td>1</td>\n",
       "      <td>1</td>\n",
       "      <td>63.3</td>\n",
       "      <td>101.52</td>\n",
       "      <td>83.56</td>\n",
       "      <td>165.48</td>\n",
       "      <td>159.77</td>\n",
       "      <td>58.06</td>\n",
       "      <td>226.36</td>\n",
       "    </tr>\n",
       "  </tbody>\n",
       "</table>\n",
       "<p>1 rows × 139 columns</p>\n",
       "</div>"
      ],
      "text/plain": [
       "        고객번호 성별  연령대 거주지역  A선호점포  B선호점포  C선호점포  D선호점포 선호제휴사  선호점포  ... F 등급  \\\n",
       "14754  15999  M  중년층   서울   30.0    5.0    NaN    NaN     A    30  ...    9   \n",
       "\n",
       "       M 등급  AM 등급  14_2변화율  14_3변화율  14_4변화율  15_1변화율  15_2변화율  15_3변화율  \\\n",
       "14754     1      1     63.3   101.52    83.56   165.48   159.77    58.06   \n",
       "\n",
       "       15_4변화율  \n",
       "14754   226.36  \n",
       "\n",
       "[1 rows x 139 columns]"
      ]
     },
     "execution_count": 37,
     "metadata": {},
     "output_type": "execute_result"
    }
   ],
   "source": [
    "c"
   ]
  },
  {
   "cell_type": "code",
   "execution_count": 38,
   "id": "f544db28",
   "metadata": {},
   "outputs": [
    {
     "data": {
      "text/plain": [
       "9     1232\n",
       "11    1037\n",
       "7      899\n",
       "5      802\n",
       "4      765\n",
       "10     756\n",
       "3      755\n",
       "6      732\n",
       "8      485\n",
       "2      319\n",
       "1      282\n",
       "Name: AM 등급, dtype: int64"
      ]
     },
     "execution_count": 38,
     "metadata": {},
     "output_type": "execute_result"
    }
   ],
   "source": [
    "customerdata[customerdata[\"감소고객\"] == 1][\"AM 등급\"].value_counts()"
   ]
  },
  {
   "cell_type": "code",
   "execution_count": 39,
   "id": "92d4b52c",
   "metadata": {},
   "outputs": [
    {
     "data": {
      "text/plain": [
       "Index(['고객번호', '성별', '연령대', '거주지역', 'A선호점포', 'B선호점포', 'C선호점포', 'D선호점포',\n",
       "       '선호제휴사', '선호점포',\n",
       "       ...\n",
       "       'F 등급', 'M 등급', 'AM 등급', '14_2변화율', '14_3변화율', '14_4변화율', '15_1변화율',\n",
       "       '15_2변화율', '15_3변화율', '15_4변화율'],\n",
       "      dtype='object', length=139)"
      ]
     },
     "execution_count": 39,
     "metadata": {},
     "output_type": "execute_result"
    }
   ],
   "source": [
    "customerdata.columns"
   ]
  },
  {
   "cell_type": "code",
   "execution_count": 40,
   "id": "957f309a",
   "metadata": {},
   "outputs": [
    {
     "name": "stdout",
     "output_type": "stream",
     "text": [
      "0    58.4\n",
      "1    41.6\n",
      "Name: 감소고객, dtype: float64\n"
     ]
    }
   ],
   "source": [
    "count = customerdata[\"감소고객\"].value_counts()\n",
    "total = count.sum()\n",
    "print(round(count/total* 100,2))"
   ]
  },
  {
   "cell_type": "code",
   "execution_count": 41,
   "id": "19f54aac",
   "metadata": {},
   "outputs": [],
   "source": [
    "db = cx_Oracle.connect(\"c##lm\", \"lm\", \"localhost:1521/xe\")\n",
    "cursor = db.cursor()\n",
    "cursor.execute(\"select * from PREDICTDATA\")\n",
    "x = cursor.fetchall()\n",
    "\n",
    "predictdata = pd.DataFrame(x)\n",
    "\n",
    "cursor.execute(\"select column_name from user_tab_columns where table_name = 'PREDICTDATA'\")\n",
    "col = cursor.fetchall()\n",
    "list1 = []\n",
    "for i in col:\n",
    "    for j in i:\n",
    "        list1.append(j)\n",
    "        \n",
    "predictdata.columns = list1"
   ]
  },
  {
   "cell_type": "code",
   "execution_count": 42,
   "id": "aad7cd81",
   "metadata": {},
   "outputs": [
    {
     "data": {
      "text/html": [
       "<div>\n",
       "<style scoped>\n",
       "    .dataframe tbody tr th:only-of-type {\n",
       "        vertical-align: middle;\n",
       "    }\n",
       "\n",
       "    .dataframe tbody tr th {\n",
       "        vertical-align: top;\n",
       "    }\n",
       "\n",
       "    .dataframe thead th {\n",
       "        text-align: right;\n",
       "    }\n",
       "</style>\n",
       "<table border=\"1\" class=\"dataframe\">\n",
       "  <thead>\n",
       "    <tr style=\"text-align: right;\">\n",
       "      <th></th>\n",
       "      <th>고객번호</th>\n",
       "      <th>성별</th>\n",
       "      <th>연령대</th>\n",
       "      <th>거주지역</th>\n",
       "      <th>14_1분기</th>\n",
       "      <th>14_2분기</th>\n",
       "      <th>14_3분기</th>\n",
       "      <th>14_4분기</th>\n",
       "      <th>15_1분기</th>\n",
       "      <th>15_2분기</th>\n",
       "      <th>...</th>\n",
       "      <th>명품Q15_3</th>\n",
       "      <th>명품Q15_4</th>\n",
       "      <th>기타Q14_1</th>\n",
       "      <th>기타Q14_2</th>\n",
       "      <th>기타Q14_3</th>\n",
       "      <th>기타Q14_4</th>\n",
       "      <th>기타Q15_1</th>\n",
       "      <th>기타Q15_2</th>\n",
       "      <th>기타Q15_3</th>\n",
       "      <th>기타Q15_4</th>\n",
       "    </tr>\n",
       "  </thead>\n",
       "  <tbody>\n",
       "    <tr>\n",
       "      <th>0</th>\n",
       "      <td>00077</td>\n",
       "      <td>F</td>\n",
       "      <td>60세이상</td>\n",
       "      <td>460</td>\n",
       "      <td>4160660.0</td>\n",
       "      <td>5207551.0</td>\n",
       "      <td>4014420.0</td>\n",
       "      <td>4297405.0</td>\n",
       "      <td>3833980.0</td>\n",
       "      <td>4059738.0</td>\n",
       "      <td>...</td>\n",
       "      <td>125837</td>\n",
       "      <td>86062</td>\n",
       "      <td>0</td>\n",
       "      <td>0</td>\n",
       "      <td>40752</td>\n",
       "      <td>97560</td>\n",
       "      <td>0</td>\n",
       "      <td>43151</td>\n",
       "      <td>255054</td>\n",
       "      <td>393371</td>\n",
       "    </tr>\n",
       "    <tr>\n",
       "      <th>1</th>\n",
       "      <td>00078</td>\n",
       "      <td>F</td>\n",
       "      <td>60세이상</td>\n",
       "      <td>100</td>\n",
       "      <td>9661046.0</td>\n",
       "      <td>6476746.0</td>\n",
       "      <td>9442940.0</td>\n",
       "      <td>10077320.0</td>\n",
       "      <td>11834320.0</td>\n",
       "      <td>21860531.0</td>\n",
       "      <td>...</td>\n",
       "      <td>2784074</td>\n",
       "      <td>1837280</td>\n",
       "      <td>0</td>\n",
       "      <td>0</td>\n",
       "      <td>145803</td>\n",
       "      <td>0</td>\n",
       "      <td>0</td>\n",
       "      <td>29171</td>\n",
       "      <td>759785</td>\n",
       "      <td>5802</td>\n",
       "    </tr>\n",
       "    <tr>\n",
       "      <th>2</th>\n",
       "      <td>00079</td>\n",
       "      <td>F</td>\n",
       "      <td>60세이상</td>\n",
       "      <td>055</td>\n",
       "      <td>1929173.0</td>\n",
       "      <td>1926940.0</td>\n",
       "      <td>2251060.0</td>\n",
       "      <td>2298768.0</td>\n",
       "      <td>1383812.0</td>\n",
       "      <td>2223819.0</td>\n",
       "      <td>...</td>\n",
       "      <td>0</td>\n",
       "      <td>0</td>\n",
       "      <td>0</td>\n",
       "      <td>71617</td>\n",
       "      <td>17406</td>\n",
       "      <td>23208</td>\n",
       "      <td>44483</td>\n",
       "      <td>12071</td>\n",
       "      <td>11263</td>\n",
       "      <td>100470</td>\n",
       "    </tr>\n",
       "    <tr>\n",
       "      <th>3</th>\n",
       "      <td>00080</td>\n",
       "      <td>F</td>\n",
       "      <td>60세이상</td>\n",
       "      <td>055</td>\n",
       "      <td>1018370.0</td>\n",
       "      <td>803539.0</td>\n",
       "      <td>1184877.0</td>\n",
       "      <td>1499466.0</td>\n",
       "      <td>1274220.0</td>\n",
       "      <td>1705319.0</td>\n",
       "      <td>...</td>\n",
       "      <td>0</td>\n",
       "      <td>0</td>\n",
       "      <td>0</td>\n",
       "      <td>0</td>\n",
       "      <td>162186</td>\n",
       "      <td>28043</td>\n",
       "      <td>0</td>\n",
       "      <td>724218</td>\n",
       "      <td>51</td>\n",
       "      <td>172124</td>\n",
       "    </tr>\n",
       "    <tr>\n",
       "      <th>4</th>\n",
       "      <td>00081</td>\n",
       "      <td>F</td>\n",
       "      <td>60세이상</td>\n",
       "      <td>016</td>\n",
       "      <td>9648280.0</td>\n",
       "      <td>5345640.0</td>\n",
       "      <td>8569870.0</td>\n",
       "      <td>5524898.0</td>\n",
       "      <td>7236120.0</td>\n",
       "      <td>12309970.0</td>\n",
       "      <td>...</td>\n",
       "      <td>13598991</td>\n",
       "      <td>3326446</td>\n",
       "      <td>23757</td>\n",
       "      <td>17100</td>\n",
       "      <td>0</td>\n",
       "      <td>2901</td>\n",
       "      <td>657890</td>\n",
       "      <td>0</td>\n",
       "      <td>0</td>\n",
       "      <td>237928</td>\n",
       "    </tr>\n",
       "    <tr>\n",
       "      <th>...</th>\n",
       "      <td>...</td>\n",
       "      <td>...</td>\n",
       "      <td>...</td>\n",
       "      <td>...</td>\n",
       "      <td>...</td>\n",
       "      <td>...</td>\n",
       "      <td>...</td>\n",
       "      <td>...</td>\n",
       "      <td>...</td>\n",
       "      <td>...</td>\n",
       "      <td>...</td>\n",
       "      <td>...</td>\n",
       "      <td>...</td>\n",
       "      <td>...</td>\n",
       "      <td>...</td>\n",
       "      <td>...</td>\n",
       "      <td>...</td>\n",
       "      <td>...</td>\n",
       "      <td>...</td>\n",
       "      <td>...</td>\n",
       "      <td>...</td>\n",
       "    </tr>\n",
       "    <tr>\n",
       "      <th>19378</th>\n",
       "      <td>19249</td>\n",
       "      <td>F</td>\n",
       "      <td>25세~29세</td>\n",
       "      <td>100</td>\n",
       "      <td>648790.0</td>\n",
       "      <td>720477.0</td>\n",
       "      <td>1041635.0</td>\n",
       "      <td>834577.0</td>\n",
       "      <td>11391938.0</td>\n",
       "      <td>11417164.0</td>\n",
       "      <td>...</td>\n",
       "      <td>0</td>\n",
       "      <td>0</td>\n",
       "      <td>0</td>\n",
       "      <td>0</td>\n",
       "      <td>5119</td>\n",
       "      <td>0</td>\n",
       "      <td>7077</td>\n",
       "      <td>6036</td>\n",
       "      <td>11263</td>\n",
       "      <td>16438</td>\n",
       "    </tr>\n",
       "    <tr>\n",
       "      <th>19379</th>\n",
       "      <td>19250</td>\n",
       "      <td>F</td>\n",
       "      <td>35세~39세</td>\n",
       "      <td>360</td>\n",
       "      <td>1224368.0</td>\n",
       "      <td>1682732.0</td>\n",
       "      <td>1291760.0</td>\n",
       "      <td>1383615.0</td>\n",
       "      <td>1396725.0</td>\n",
       "      <td>1228261.0</td>\n",
       "      <td>...</td>\n",
       "      <td>0</td>\n",
       "      <td>0</td>\n",
       "      <td>31845</td>\n",
       "      <td>57838</td>\n",
       "      <td>27135</td>\n",
       "      <td>33360</td>\n",
       "      <td>37912</td>\n",
       "      <td>19615</td>\n",
       "      <td>5120</td>\n",
       "      <td>967</td>\n",
       "    </tr>\n",
       "    <tr>\n",
       "      <th>19380</th>\n",
       "      <td>19251</td>\n",
       "      <td>M</td>\n",
       "      <td>30세~34세</td>\n",
       "      <td>460</td>\n",
       "      <td>1128600.0</td>\n",
       "      <td>931868.0</td>\n",
       "      <td>2229388.0</td>\n",
       "      <td>2698199.0</td>\n",
       "      <td>2909795.0</td>\n",
       "      <td>4112798.0</td>\n",
       "      <td>...</td>\n",
       "      <td>0</td>\n",
       "      <td>0</td>\n",
       "      <td>0</td>\n",
       "      <td>0</td>\n",
       "      <td>0</td>\n",
       "      <td>2949</td>\n",
       "      <td>0</td>\n",
       "      <td>7846</td>\n",
       "      <td>1075</td>\n",
       "      <td>2901</td>\n",
       "    </tr>\n",
       "    <tr>\n",
       "      <th>19381</th>\n",
       "      <td>19252</td>\n",
       "      <td>F</td>\n",
       "      <td>35세~39세</td>\n",
       "      <td>100</td>\n",
       "      <td>1037577.0</td>\n",
       "      <td>1223049.0</td>\n",
       "      <td>970575.0</td>\n",
       "      <td>1088815.0</td>\n",
       "      <td>850905.0</td>\n",
       "      <td>1175824.0</td>\n",
       "      <td>...</td>\n",
       "      <td>0</td>\n",
       "      <td>0</td>\n",
       "      <td>0</td>\n",
       "      <td>0</td>\n",
       "      <td>0</td>\n",
       "      <td>0</td>\n",
       "      <td>0</td>\n",
       "      <td>16094</td>\n",
       "      <td>0</td>\n",
       "      <td>0</td>\n",
       "    </tr>\n",
       "    <tr>\n",
       "      <th>19382</th>\n",
       "      <td>19253</td>\n",
       "      <td>F</td>\n",
       "      <td>45세~49세</td>\n",
       "      <td>210</td>\n",
       "      <td>5066525.0</td>\n",
       "      <td>9793534.0</td>\n",
       "      <td>2900009.0</td>\n",
       "      <td>2460053.0</td>\n",
       "      <td>6528849.0</td>\n",
       "      <td>3022646.0</td>\n",
       "      <td>...</td>\n",
       "      <td>0</td>\n",
       "      <td>0</td>\n",
       "      <td>278826</td>\n",
       "      <td>313223</td>\n",
       "      <td>227409</td>\n",
       "      <td>258283</td>\n",
       "      <td>716673</td>\n",
       "      <td>491060</td>\n",
       "      <td>182149</td>\n",
       "      <td>131704</td>\n",
       "    </tr>\n",
       "  </tbody>\n",
       "</table>\n",
       "<p>19383 rows × 124 columns</p>\n",
       "</div>"
      ],
      "text/plain": [
       "        고객번호 성별      연령대 거주지역     14_1분기     14_2분기     14_3분기      14_4분기  \\\n",
       "0      00077  F    60세이상  460  4160660.0  5207551.0  4014420.0   4297405.0   \n",
       "1      00078  F    60세이상  100  9661046.0  6476746.0  9442940.0  10077320.0   \n",
       "2      00079  F    60세이상  055  1929173.0  1926940.0  2251060.0   2298768.0   \n",
       "3      00080  F    60세이상  055  1018370.0   803539.0  1184877.0   1499466.0   \n",
       "4      00081  F    60세이상  016  9648280.0  5345640.0  8569870.0   5524898.0   \n",
       "...      ... ..      ...  ...        ...        ...        ...         ...   \n",
       "19378  19249  F  25세~29세  100   648790.0   720477.0  1041635.0    834577.0   \n",
       "19379  19250  F  35세~39세  360  1224368.0  1682732.0  1291760.0   1383615.0   \n",
       "19380  19251  M  30세~34세  460  1128600.0   931868.0  2229388.0   2698199.0   \n",
       "19381  19252  F  35세~39세  100  1037577.0  1223049.0   970575.0   1088815.0   \n",
       "19382  19253  F  45세~49세  210  5066525.0  9793534.0  2900009.0   2460053.0   \n",
       "\n",
       "           15_1분기      15_2분기  ...   명품Q15_3  명품Q15_4  기타Q14_1  기타Q14_2  \\\n",
       "0       3833980.0   4059738.0  ...    125837    86062        0        0   \n",
       "1      11834320.0  21860531.0  ...   2784074  1837280        0        0   \n",
       "2       1383812.0   2223819.0  ...         0        0        0    71617   \n",
       "3       1274220.0   1705319.0  ...         0        0        0        0   \n",
       "4       7236120.0  12309970.0  ...  13598991  3326446    23757    17100   \n",
       "...           ...         ...  ...       ...      ...      ...      ...   \n",
       "19378  11391938.0  11417164.0  ...         0        0        0        0   \n",
       "19379   1396725.0   1228261.0  ...         0        0    31845    57838   \n",
       "19380   2909795.0   4112798.0  ...         0        0        0        0   \n",
       "19381    850905.0   1175824.0  ...         0        0        0        0   \n",
       "19382   6528849.0   3022646.0  ...         0        0   278826   313223   \n",
       "\n",
       "       기타Q14_3  기타Q14_4  기타Q15_1  기타Q15_2  기타Q15_3  기타Q15_4  \n",
       "0        40752    97560        0    43151   255054   393371  \n",
       "1       145803        0        0    29171   759785     5802  \n",
       "2        17406    23208    44483    12071    11263   100470  \n",
       "3       162186    28043        0   724218       51   172124  \n",
       "4            0     2901   657890        0        0   237928  \n",
       "...        ...      ...      ...      ...      ...      ...  \n",
       "19378     5119        0     7077     6036    11263    16438  \n",
       "19379    27135    33360    37912    19615     5120      967  \n",
       "19380        0     2949        0     7846     1075     2901  \n",
       "19381        0        0        0    16094        0        0  \n",
       "19382   227409   258283   716673   491060   182149   131704  \n",
       "\n",
       "[19383 rows x 124 columns]"
      ]
     },
     "execution_count": 42,
     "metadata": {},
     "output_type": "execute_result"
    }
   ],
   "source": [
    "predictdata"
   ]
  },
  {
   "cell_type": "code",
   "execution_count": 43,
   "id": "8c905121",
   "metadata": {},
   "outputs": [],
   "source": [
    "predictdata[\"R 등급\"] = predictdata[\"최근성\"].apply(lambda x : get_Rrank(x))\n",
    "predictdata[\"거주지역\"] = predictdata[\"거주지역\"].apply(lambda x : get_region(x))\n",
    "predictdata[\"연령대\"] = predictdata[\"연령대\"].apply(lambda x : get_age(x))\n",
    "predictdata[\"F 등급\"] = predictdata[\"행동 빈도\"].apply(lambda x : get_Frank2(x))\n",
    "predictdata[\"M 등급\"] = predictdata[\"구매 총액\"].apply(lambda x : get_Mrank2(x))"
   ]
  },
  {
   "cell_type": "code",
   "execution_count": 44,
   "id": "322288ee",
   "metadata": {},
   "outputs": [],
   "source": [
    "predictdata = predictdata.dropna(subset=[\"최근성\"])"
   ]
  },
  {
   "cell_type": "code",
   "execution_count": 45,
   "id": "3fb039fb",
   "metadata": {},
   "outputs": [
    {
     "name": "stdout",
     "output_type": "stream",
     "text": [
      "<class 'pandas.core.frame.DataFrame'>\n",
      "Int64Index: 19380 entries, 0 to 19382\n",
      "Columns: 127 entries, 고객번호 to M 등급\n",
      "dtypes: float64(22), int64(99), object(6)\n",
      "memory usage: 18.9+ MB\n"
     ]
    }
   ],
   "source": [
    "predictdata.info()"
   ]
  },
  {
   "cell_type": "code",
   "execution_count": 46,
   "id": "e598d5b3",
   "metadata": {},
   "outputs": [
    {
     "data": {
      "text/html": [
       "<div>\n",
       "<style scoped>\n",
       "    .dataframe tbody tr th:only-of-type {\n",
       "        vertical-align: middle;\n",
       "    }\n",
       "\n",
       "    .dataframe tbody tr th {\n",
       "        vertical-align: top;\n",
       "    }\n",
       "\n",
       "    .dataframe thead th {\n",
       "        text-align: right;\n",
       "    }\n",
       "</style>\n",
       "<table border=\"1\" class=\"dataframe\">\n",
       "  <thead>\n",
       "    <tr style=\"text-align: right;\">\n",
       "      <th></th>\n",
       "      <th>고객번호</th>\n",
       "      <th>성별</th>\n",
       "      <th>연령대</th>\n",
       "      <th>거주지역</th>\n",
       "      <th>14_1분기</th>\n",
       "      <th>14_2분기</th>\n",
       "      <th>14_3분기</th>\n",
       "      <th>14_4분기</th>\n",
       "      <th>15_1분기</th>\n",
       "      <th>15_2분기</th>\n",
       "      <th>...</th>\n",
       "      <th>기타Q14_2</th>\n",
       "      <th>기타Q14_3</th>\n",
       "      <th>기타Q14_4</th>\n",
       "      <th>기타Q15_1</th>\n",
       "      <th>기타Q15_2</th>\n",
       "      <th>기타Q15_3</th>\n",
       "      <th>기타Q15_4</th>\n",
       "      <th>R 등급</th>\n",
       "      <th>F 등급</th>\n",
       "      <th>M 등급</th>\n",
       "    </tr>\n",
       "  </thead>\n",
       "  <tbody>\n",
       "    <tr>\n",
       "      <th>0</th>\n",
       "      <td>00077</td>\n",
       "      <td>F</td>\n",
       "      <td>노년층</td>\n",
       "      <td>부산</td>\n",
       "      <td>4160660.0</td>\n",
       "      <td>5207551.0</td>\n",
       "      <td>4014420.0</td>\n",
       "      <td>4297405.0</td>\n",
       "      <td>3833980.0</td>\n",
       "      <td>4059738.0</td>\n",
       "      <td>...</td>\n",
       "      <td>0</td>\n",
       "      <td>40752</td>\n",
       "      <td>97560</td>\n",
       "      <td>0</td>\n",
       "      <td>43151</td>\n",
       "      <td>255054</td>\n",
       "      <td>393371</td>\n",
       "      <td>1</td>\n",
       "      <td>8</td>\n",
       "      <td>4</td>\n",
       "    </tr>\n",
       "    <tr>\n",
       "      <th>1</th>\n",
       "      <td>00078</td>\n",
       "      <td>F</td>\n",
       "      <td>노년층</td>\n",
       "      <td>서울</td>\n",
       "      <td>9661046.0</td>\n",
       "      <td>6476746.0</td>\n",
       "      <td>9442940.0</td>\n",
       "      <td>10077320.0</td>\n",
       "      <td>11834320.0</td>\n",
       "      <td>21860531.0</td>\n",
       "      <td>...</td>\n",
       "      <td>0</td>\n",
       "      <td>145803</td>\n",
       "      <td>0</td>\n",
       "      <td>0</td>\n",
       "      <td>29171</td>\n",
       "      <td>759785</td>\n",
       "      <td>5802</td>\n",
       "      <td>2</td>\n",
       "      <td>8</td>\n",
       "      <td>2</td>\n",
       "    </tr>\n",
       "    <tr>\n",
       "      <th>2</th>\n",
       "      <td>00079</td>\n",
       "      <td>F</td>\n",
       "      <td>노년층</td>\n",
       "      <td>서울</td>\n",
       "      <td>1929173.0</td>\n",
       "      <td>1926940.0</td>\n",
       "      <td>2251060.0</td>\n",
       "      <td>2298768.0</td>\n",
       "      <td>1383812.0</td>\n",
       "      <td>2223819.0</td>\n",
       "      <td>...</td>\n",
       "      <td>71617</td>\n",
       "      <td>17406</td>\n",
       "      <td>23208</td>\n",
       "      <td>44483</td>\n",
       "      <td>12071</td>\n",
       "      <td>11263</td>\n",
       "      <td>100470</td>\n",
       "      <td>1</td>\n",
       "      <td>4</td>\n",
       "      <td>7</td>\n",
       "    </tr>\n",
       "    <tr>\n",
       "      <th>3</th>\n",
       "      <td>00080</td>\n",
       "      <td>F</td>\n",
       "      <td>노년층</td>\n",
       "      <td>서울</td>\n",
       "      <td>1018370.0</td>\n",
       "      <td>803539.0</td>\n",
       "      <td>1184877.0</td>\n",
       "      <td>1499466.0</td>\n",
       "      <td>1274220.0</td>\n",
       "      <td>1705319.0</td>\n",
       "      <td>...</td>\n",
       "      <td>0</td>\n",
       "      <td>162186</td>\n",
       "      <td>28043</td>\n",
       "      <td>0</td>\n",
       "      <td>724218</td>\n",
       "      <td>51</td>\n",
       "      <td>172124</td>\n",
       "      <td>1</td>\n",
       "      <td>5</td>\n",
       "      <td>10</td>\n",
       "    </tr>\n",
       "    <tr>\n",
       "      <th>4</th>\n",
       "      <td>00081</td>\n",
       "      <td>F</td>\n",
       "      <td>노년층</td>\n",
       "      <td>서울</td>\n",
       "      <td>9648280.0</td>\n",
       "      <td>5345640.0</td>\n",
       "      <td>8569870.0</td>\n",
       "      <td>5524898.0</td>\n",
       "      <td>7236120.0</td>\n",
       "      <td>12309970.0</td>\n",
       "      <td>...</td>\n",
       "      <td>17100</td>\n",
       "      <td>0</td>\n",
       "      <td>2901</td>\n",
       "      <td>657890</td>\n",
       "      <td>0</td>\n",
       "      <td>0</td>\n",
       "      <td>237928</td>\n",
       "      <td>1</td>\n",
       "      <td>9</td>\n",
       "      <td>3</td>\n",
       "    </tr>\n",
       "    <tr>\n",
       "      <th>...</th>\n",
       "      <td>...</td>\n",
       "      <td>...</td>\n",
       "      <td>...</td>\n",
       "      <td>...</td>\n",
       "      <td>...</td>\n",
       "      <td>...</td>\n",
       "      <td>...</td>\n",
       "      <td>...</td>\n",
       "      <td>...</td>\n",
       "      <td>...</td>\n",
       "      <td>...</td>\n",
       "      <td>...</td>\n",
       "      <td>...</td>\n",
       "      <td>...</td>\n",
       "      <td>...</td>\n",
       "      <td>...</td>\n",
       "      <td>...</td>\n",
       "      <td>...</td>\n",
       "      <td>...</td>\n",
       "      <td>...</td>\n",
       "      <td>...</td>\n",
       "    </tr>\n",
       "    <tr>\n",
       "      <th>19378</th>\n",
       "      <td>19249</td>\n",
       "      <td>F</td>\n",
       "      <td>청년층</td>\n",
       "      <td>서울</td>\n",
       "      <td>648790.0</td>\n",
       "      <td>720477.0</td>\n",
       "      <td>1041635.0</td>\n",
       "      <td>834577.0</td>\n",
       "      <td>11391938.0</td>\n",
       "      <td>11417164.0</td>\n",
       "      <td>...</td>\n",
       "      <td>0</td>\n",
       "      <td>5119</td>\n",
       "      <td>0</td>\n",
       "      <td>7077</td>\n",
       "      <td>6036</td>\n",
       "      <td>11263</td>\n",
       "      <td>16438</td>\n",
       "      <td>1</td>\n",
       "      <td>9</td>\n",
       "      <td>4</td>\n",
       "    </tr>\n",
       "    <tr>\n",
       "      <th>19379</th>\n",
       "      <td>19250</td>\n",
       "      <td>F</td>\n",
       "      <td>중년층</td>\n",
       "      <td>경북</td>\n",
       "      <td>1224368.0</td>\n",
       "      <td>1682732.0</td>\n",
       "      <td>1291760.0</td>\n",
       "      <td>1383615.0</td>\n",
       "      <td>1396725.0</td>\n",
       "      <td>1228261.0</td>\n",
       "      <td>...</td>\n",
       "      <td>57838</td>\n",
       "      <td>27135</td>\n",
       "      <td>33360</td>\n",
       "      <td>37912</td>\n",
       "      <td>19615</td>\n",
       "      <td>5120</td>\n",
       "      <td>967</td>\n",
       "      <td>1</td>\n",
       "      <td>2</td>\n",
       "      <td>9</td>\n",
       "    </tr>\n",
       "    <tr>\n",
       "      <th>19380</th>\n",
       "      <td>19251</td>\n",
       "      <td>M</td>\n",
       "      <td>청년층</td>\n",
       "      <td>부산</td>\n",
       "      <td>1128600.0</td>\n",
       "      <td>931868.0</td>\n",
       "      <td>2229388.0</td>\n",
       "      <td>2698199.0</td>\n",
       "      <td>2909795.0</td>\n",
       "      <td>4112798.0</td>\n",
       "      <td>...</td>\n",
       "      <td>0</td>\n",
       "      <td>0</td>\n",
       "      <td>2949</td>\n",
       "      <td>0</td>\n",
       "      <td>7846</td>\n",
       "      <td>1075</td>\n",
       "      <td>2901</td>\n",
       "      <td>1</td>\n",
       "      <td>4</td>\n",
       "      <td>6</td>\n",
       "    </tr>\n",
       "    <tr>\n",
       "      <th>19381</th>\n",
       "      <td>19252</td>\n",
       "      <td>F</td>\n",
       "      <td>중년층</td>\n",
       "      <td>서울</td>\n",
       "      <td>1037577.0</td>\n",
       "      <td>1223049.0</td>\n",
       "      <td>970575.0</td>\n",
       "      <td>1088815.0</td>\n",
       "      <td>850905.0</td>\n",
       "      <td>1175824.0</td>\n",
       "      <td>...</td>\n",
       "      <td>0</td>\n",
       "      <td>0</td>\n",
       "      <td>0</td>\n",
       "      <td>0</td>\n",
       "      <td>16094</td>\n",
       "      <td>0</td>\n",
       "      <td>0</td>\n",
       "      <td>1</td>\n",
       "      <td>4</td>\n",
       "      <td>10</td>\n",
       "    </tr>\n",
       "    <tr>\n",
       "      <th>19382</th>\n",
       "      <td>19253</td>\n",
       "      <td>F</td>\n",
       "      <td>장년층</td>\n",
       "      <td>인천</td>\n",
       "      <td>5066525.0</td>\n",
       "      <td>9793534.0</td>\n",
       "      <td>2900009.0</td>\n",
       "      <td>2460053.0</td>\n",
       "      <td>6528849.0</td>\n",
       "      <td>3022646.0</td>\n",
       "      <td>...</td>\n",
       "      <td>313223</td>\n",
       "      <td>227409</td>\n",
       "      <td>258283</td>\n",
       "      <td>716673</td>\n",
       "      <td>491060</td>\n",
       "      <td>182149</td>\n",
       "      <td>131704</td>\n",
       "      <td>2</td>\n",
       "      <td>3</td>\n",
       "      <td>4</td>\n",
       "    </tr>\n",
       "  </tbody>\n",
       "</table>\n",
       "<p>19380 rows × 127 columns</p>\n",
       "</div>"
      ],
      "text/plain": [
       "        고객번호 성별  연령대 거주지역     14_1분기     14_2분기     14_3분기      14_4분기  \\\n",
       "0      00077  F  노년층   부산  4160660.0  5207551.0  4014420.0   4297405.0   \n",
       "1      00078  F  노년층   서울  9661046.0  6476746.0  9442940.0  10077320.0   \n",
       "2      00079  F  노년층   서울  1929173.0  1926940.0  2251060.0   2298768.0   \n",
       "3      00080  F  노년층   서울  1018370.0   803539.0  1184877.0   1499466.0   \n",
       "4      00081  F  노년층   서울  9648280.0  5345640.0  8569870.0   5524898.0   \n",
       "...      ... ..  ...  ...        ...        ...        ...         ...   \n",
       "19378  19249  F  청년층   서울   648790.0   720477.0  1041635.0    834577.0   \n",
       "19379  19250  F  중년층   경북  1224368.0  1682732.0  1291760.0   1383615.0   \n",
       "19380  19251  M  청년층   부산  1128600.0   931868.0  2229388.0   2698199.0   \n",
       "19381  19252  F  중년층   서울  1037577.0  1223049.0   970575.0   1088815.0   \n",
       "19382  19253  F  장년층   인천  5066525.0  9793534.0  2900009.0   2460053.0   \n",
       "\n",
       "           15_1분기      15_2분기  ...  기타Q14_2  기타Q14_3  기타Q14_4  기타Q15_1  \\\n",
       "0       3833980.0   4059738.0  ...        0    40752    97560        0   \n",
       "1      11834320.0  21860531.0  ...        0   145803        0        0   \n",
       "2       1383812.0   2223819.0  ...    71617    17406    23208    44483   \n",
       "3       1274220.0   1705319.0  ...        0   162186    28043        0   \n",
       "4       7236120.0  12309970.0  ...    17100        0     2901   657890   \n",
       "...           ...         ...  ...      ...      ...      ...      ...   \n",
       "19378  11391938.0  11417164.0  ...        0     5119        0     7077   \n",
       "19379   1396725.0   1228261.0  ...    57838    27135    33360    37912   \n",
       "19380   2909795.0   4112798.0  ...        0        0     2949        0   \n",
       "19381    850905.0   1175824.0  ...        0        0        0        0   \n",
       "19382   6528849.0   3022646.0  ...   313223   227409   258283   716673   \n",
       "\n",
       "       기타Q15_2  기타Q15_3  기타Q15_4  R 등급  F 등급  M 등급  \n",
       "0        43151   255054   393371     1     8     4  \n",
       "1        29171   759785     5802     2     8     2  \n",
       "2        12071    11263   100470     1     4     7  \n",
       "3       724218       51   172124     1     5    10  \n",
       "4            0        0   237928     1     9     3  \n",
       "...        ...      ...      ...   ...   ...   ...  \n",
       "19378     6036    11263    16438     1     9     4  \n",
       "19379    19615     5120      967     1     2     9  \n",
       "19380     7846     1075     2901     1     4     6  \n",
       "19381    16094        0        0     1     4    10  \n",
       "19382   491060   182149   131704     2     3     4  \n",
       "\n",
       "[19380 rows x 127 columns]"
      ]
     },
     "execution_count": 46,
     "metadata": {},
     "output_type": "execute_result"
    }
   ],
   "source": [
    "predictdata"
   ]
  },
  {
   "cell_type": "code",
   "execution_count": 47,
   "id": "b8283f82",
   "metadata": {},
   "outputs": [],
   "source": [
    "#for i in [10,20,30,40,50,60,70,80,90,100]:\n",
    "    #count = np.percentile(predictdata[\"구매 총액\"], i)\n",
    "    #print(i, \"%\")\n",
    "    #print(count)\n",
    "    #print(len(predictdata[(predictdata[\"구매 총액\"] <= count)]),\"\\n\")"
   ]
  },
  {
   "cell_type": "code",
   "execution_count": 48,
   "id": "831a4697",
   "metadata": {},
   "outputs": [],
   "source": [
    "predictdata[\"14_1분기\"].fillna(0, inplace = True)\n",
    "predictdata[\"14_2분기\"].fillna(0, inplace = True)\n",
    "predictdata[\"14_3분기\"].fillna(0, inplace = True)\n",
    "predictdata[\"14_4분기\"].fillna(0, inplace = True)\n",
    "predictdata[\"15_1분기\"].fillna(0, inplace = True)\n",
    "predictdata[\"15_2분기\"].fillna(0, inplace = True)\n",
    "predictdata[\"15_3분기\"].fillna(0, inplace = True)\n",
    "predictdata[\"15_4분기\"].fillna(0, inplace = True)"
   ]
  },
  {
   "cell_type": "code",
   "execution_count": 49,
   "id": "2016c04e",
   "metadata": {},
   "outputs": [],
   "source": [
    "predictdata[\"14_1분기\"] = round(predictdata[\"14_1분기\"] * 1.0109552634860561)\n",
    "predictdata[\"14_2분기\"] = round(predictdata[\"14_2분기\"] * 1.005856410415038)\n",
    "predictdata[\"14_3분기\"] = round(predictdata[\"14_3분기\"] * 1.0238994118951612)\n",
    "predictdata[\"14_4분기\"] = round(predictdata[\"14_4분기\"] * 0.9669899689775655)\n",
    "predictdata[\"15_1분기\"] = round(predictdata[\"15_1분기\"] * 1.0109552634859216)\n",
    "predictdata[\"15_2분기\"] = round(predictdata[\"15_2분기\"] * 1.005856410415038)\n",
    "predictdata[\"15_3분기\"] = round(predictdata[\"15_3분기\"] * 1.0238994118951612)\n",
    "predictdata[\"15_4분기\"] = round(predictdata[\"15_4분기\"] * 0.9669899689775655)"
   ]
  },
  {
   "cell_type": "code",
   "execution_count": 50,
   "id": "d7d741d7",
   "metadata": {},
   "outputs": [],
   "source": [
    "predictdata[\"14_2분기변화\"] = predictdata[\"14_2분기\"] - predictdata[\"14_1분기\"]\n",
    "predictdata[\"14_3분기변화\"] = predictdata[\"14_3분기\"] - predictdata[\"14_2분기\"]\n",
    "predictdata[\"14_4분기변화\"] = predictdata[\"14_4분기\"] - predictdata[\"14_3분기\"]\n",
    "predictdata[\"15_1분기변화\"] = predictdata[\"15_1분기\"] - predictdata[\"14_4분기\"]\n",
    "predictdata[\"15_2분기변화\"] = predictdata[\"15_2분기\"] - predictdata[\"15_1분기\"]\n",
    "predictdata[\"15_3분기변화\"] = predictdata[\"15_3분기\"] - predictdata[\"15_2분기\"]\n",
    "predictdata[\"15_4분기변화\"] = predictdata[\"15_4분기\"] - predictdata[\"15_3분기\"]"
   ]
  },
  {
   "cell_type": "code",
   "execution_count": 51,
   "id": "42022c52",
   "metadata": {},
   "outputs": [],
   "source": [
    "predictdata[\"14_2분기변화율\"] = round(predictdata[\"14_2분기\"] / predictdata[\"14_1분기\"] * 100,2)\n",
    "predictdata[\"14_3분기변화율\"] = round(predictdata[\"14_3분기\"] / predictdata[\"14_2분기\"] * 100,2)\n",
    "predictdata[\"14_4분기변화율\"] = round(predictdata[\"14_4분기\"] / predictdata[\"14_3분기\"] * 100,2)\n",
    "predictdata[\"15_1분기변화율\"] = round(predictdata[\"15_1분기\"] / predictdata[\"14_4분기\"] * 100,2)\n",
    "predictdata[\"15_2분기변화율\"] = round(predictdata[\"15_2분기\"] / predictdata[\"15_1분기\"] * 100,2)\n",
    "predictdata[\"15_3분기변화율\"] = round(predictdata[\"15_3분기\"] / predictdata[\"15_2분기\"] * 100,2)\n",
    "predictdata[\"15_4분기변화율\"] = round(predictdata[\"15_4분기\"] / predictdata[\"15_3분기\"] * 100,2)"
   ]
  },
  {
   "cell_type": "code",
   "execution_count": 52,
   "id": "b16f6278",
   "metadata": {},
   "outputs": [],
   "source": [
    "columns = [\"14_2분기변화율\", \"14_3분기변화율\", \"14_4분기변화율\", \"15_1분기변화율\", \"15_2분기변화율\", \"15_3분기변화율\", \"15_4분기변화율\"]\n",
    "for col in columns:\n",
    "    predictdata[col] = predictdata[col].replace([np.inf, -np.inf], 100)"
   ]
  },
  {
   "cell_type": "code",
   "execution_count": 53,
   "id": "4ad72acc",
   "metadata": {},
   "outputs": [],
   "source": [
    "def deltarank(pct):\n",
    "    cat = ''\n",
    "    if pct <= 110 and pct > 90 : cat = 3\n",
    "    elif pct <= 150 and pct > 110: cat = 2\n",
    "    elif pct > 150: cat = 1\n",
    "    elif pct <= 90 and pct > 75: cat = 4\n",
    "    else: cat = 5\n",
    "    \n",
    "    return cat"
   ]
  },
  {
   "cell_type": "code",
   "execution_count": 54,
   "id": "71a66e6b",
   "metadata": {},
   "outputs": [],
   "source": [
    "def labelrank(pct):\n",
    "    cat = ''\n",
    "    if pct <= 110 and pct > 90 : cat = 2\n",
    "    elif pct > 110: cat = 1\n",
    "    else: cat = 3\n",
    "    \n",
    "    return cat"
   ]
  },
  {
   "cell_type": "code",
   "execution_count": 55,
   "id": "98d3bc2a",
   "metadata": {},
   "outputs": [
    {
     "data": {
      "text/html": [
       "<div>\n",
       "<style scoped>\n",
       "    .dataframe tbody tr th:only-of-type {\n",
       "        vertical-align: middle;\n",
       "    }\n",
       "\n",
       "    .dataframe tbody tr th {\n",
       "        vertical-align: top;\n",
       "    }\n",
       "\n",
       "    .dataframe thead th {\n",
       "        text-align: right;\n",
       "    }\n",
       "</style>\n",
       "<table border=\"1\" class=\"dataframe\">\n",
       "  <thead>\n",
       "    <tr style=\"text-align: right;\">\n",
       "      <th></th>\n",
       "      <th>15_4분기변화율</th>\n",
       "    </tr>\n",
       "  </thead>\n",
       "  <tbody>\n",
       "    <tr>\n",
       "      <th>count</th>\n",
       "      <td>19343.000000</td>\n",
       "    </tr>\n",
       "    <tr>\n",
       "      <th>mean</th>\n",
       "      <td>135.052486</td>\n",
       "    </tr>\n",
       "    <tr>\n",
       "      <th>std</th>\n",
       "      <td>450.895266</td>\n",
       "    </tr>\n",
       "    <tr>\n",
       "      <th>min</th>\n",
       "      <td>0.000000</td>\n",
       "    </tr>\n",
       "    <tr>\n",
       "      <th>25%</th>\n",
       "      <td>72.060000</td>\n",
       "    </tr>\n",
       "    <tr>\n",
       "      <th>50%</th>\n",
       "      <td>97.120000</td>\n",
       "    </tr>\n",
       "    <tr>\n",
       "      <th>75%</th>\n",
       "      <td>136.160000</td>\n",
       "    </tr>\n",
       "    <tr>\n",
       "      <th>max</th>\n",
       "      <td>35808.850000</td>\n",
       "    </tr>\n",
       "  </tbody>\n",
       "</table>\n",
       "</div>"
      ],
      "text/plain": [
       "          15_4분기변화율\n",
       "count  19343.000000\n",
       "mean     135.052486\n",
       "std      450.895266\n",
       "min        0.000000\n",
       "25%       72.060000\n",
       "50%       97.120000\n",
       "75%      136.160000\n",
       "max    35808.850000"
      ]
     },
     "execution_count": 55,
     "metadata": {},
     "output_type": "execute_result"
    }
   ],
   "source": [
    "predictdata[[\"15_4분기변화율\"]].describe()"
   ]
  },
  {
   "cell_type": "code",
   "execution_count": 56,
   "id": "8c499942",
   "metadata": {},
   "outputs": [
    {
     "data": {
      "text/plain": [
       "<AxesSubplot:xlabel='14_2분기변화율', ylabel='Count'>"
      ]
     },
     "execution_count": 56,
     "metadata": {},
     "output_type": "execute_result"
    },
    {
     "data": {
      "image/png": "[encoded data removed]",
      "text/plain": [
       "<Figure size 640x480 with 1 Axes>"
      ]
     },
     "metadata": {},
     "output_type": "display_data"
    }
   ],
   "source": [
    "sns.histplot(predictdata[predictdata[\"14_2분기변화율\"] < 500][\"14_2분기변화율\"])"
   ]
  },
  {
   "cell_type": "code",
   "execution_count": 57,
   "id": "d68f64ea",
   "metadata": {},
   "outputs": [],
   "source": [
    "predictdata[\"14_2변화등급\"] = predictdata[\"14_2분기변화율\"].apply(lambda x : deltarank(x))\n",
    "predictdata[\"14_3변화등급\"] = predictdata[\"14_3분기변화율\"].apply(lambda x : deltarank(x))\n",
    "predictdata[\"14_4변화등급\"] = predictdata[\"14_4분기변화율\"].apply(lambda x : deltarank(x))\n",
    "predictdata[\"15_1변화등급\"] = predictdata[\"15_1분기변화율\"].apply(lambda x : deltarank(x))\n",
    "predictdata[\"15_2변화등급\"] = predictdata[\"15_2분기변화율\"].apply(lambda x : deltarank(x))\n",
    "predictdata[\"15_3변화등급\"] = predictdata[\"15_3분기변화율\"].apply(lambda x : deltarank(x))\n",
    "predictdata[\"15_4변화등급\"] = predictdata[\"15_4분기변화율\"].apply(lambda x : labelrank(x))"
   ]
  },
  {
   "cell_type": "code",
   "execution_count": 58,
   "id": "57397a70",
   "metadata": {},
   "outputs": [
    {
     "data": {
      "text/plain": [
       "Index(['고객번호', '성별', '연령대', '거주지역', '14_1분기', '14_2분기', '14_3분기', '14_4분기',\n",
       "       '15_1분기', '15_2분기',\n",
       "       ...\n",
       "       '15_2분기변화율', '15_3분기변화율', '15_4분기변화율', '14_2변화등급', '14_3변화등급',\n",
       "       '14_4변화등급', '15_1변화등급', '15_2변화등급', '15_3변화등급', '15_4변화등급'],\n",
       "      dtype='object', length=142)"
      ]
     },
     "execution_count": 58,
     "metadata": {},
     "output_type": "execute_result"
    }
   ],
   "source": [
    "predictdata.columns"
   ]
  },
  {
   "cell_type": "code",
   "execution_count": 59,
   "id": "3152b6ab",
   "metadata": {},
   "outputs": [],
   "source": [
    "#scaler = MinMaxScaler()\n",
    "#predictdata[\"거주지역\"] = scaler.fit_transform(predictdata[\"거주지역\"])"
   ]
  },
  {
   "cell_type": "code",
   "execution_count": 60,
   "id": "2acc2db3",
   "metadata": {},
   "outputs": [],
   "source": [
    "index = ['14_2분기변화율', '14_3분기변화율', '14_4분기변화율',\n",
    "       '15_1분기변화율', '15_2분기변화율', '15_3분기변화율', '15_4분기변화율']\n",
    "for i in index:\n",
    "    predictdata[str(i)] = np.log1p(predictdata[str(i)])"
   ]
  },
  {
   "cell_type": "code",
   "execution_count": 69,
   "id": "bb3393e6",
   "metadata": {},
   "outputs": [
    {
     "data": {
      "text/plain": [
       "Index(['고객번호', '성별', '연령대', '거주지역', '14_1분기', '14_2분기', '14_3분기', '14_4분기',\n",
       "       '15_1분기', '15_2분기',\n",
       "       ...\n",
       "       '15_2분기변화율', '15_3분기변화율', '15_4분기변화율', '14_2변화등급', '14_3변화등급',\n",
       "       '14_4변화등급', '15_1변화등급', '15_2변화등급', '15_3변화등급', '15_4변화등급'],\n",
       "      dtype='object', length=142)"
      ]
     },
     "execution_count": 69,
     "metadata": {},
     "output_type": "execute_result"
    }
   ],
   "source": [
    "predictdata.columns"
   ]
  },
  {
   "cell_type": "code",
   "execution_count": 61,
   "id": "c9e26fea",
   "metadata": {},
   "outputs": [],
   "source": [
    "def get_rmse(model):\n",
    "    pred = model.predict(X_test)\n",
    "    mse = mean_squared_error(y_test, pred)\n",
    "    rmse = np.sqrt(mse)\n",
    "    print(f\"{model.__class__.__name__} 로그 변환된 RMSE : {np.round(rmse, 3)}\")\n",
    "    return rmse\n",
    "\n",
    "def get_rmses(models):\n",
    "    rmses = []\n",
    "    for model in models:\n",
    "        rmse = get_rmse(model)\n",
    "        rmses.append(rmse)\n",
    "    return rmses"
   ]
  },
  {
   "cell_type": "code",
   "execution_count": 62,
   "id": "58bebf77",
   "metadata": {},
   "outputs": [],
   "source": [
    "def get_rmsle(model):\n",
    "    pred = model.predict(X_test)\n",
    "    pred = np.expm1(pred)  # 로그 역변환 (inverse log transformation)\n",
    "    y_test_exp = np.expm1(y_test)  # 로그 역변환 (inverse log transformation)\n",
    "    rmsle = np.sqrt(mean_squared_log_error(y_test_exp, pred))\n",
    "    print(f\"{model.__class__.__name__} RMSLE: {np.round(rmsle, 3)}\")\n",
    "    return rmsle\n",
    "\n",
    "def get_rmsles(models):\n",
    "    rmsles = []\n",
    "    for model in models:\n",
    "        rmsle = get_rmsle(model)\n",
    "        rmsles.append(rmsle)\n",
    "    return rmsles"
   ]
  },
  {
   "cell_type": "code",
   "execution_count": 63,
   "id": "6b3a5771",
   "metadata": {},
   "outputs": [],
   "source": [
    "pdd = predictdata.drop([\"고객번호\",'14_2분기변화', '14_3분기변화', '14_4분기변화', '15_1분기변화',\n",
    "       '15_2분기변화', '15_3분기변화','선호제휴사','R 등급', 'F 등급',\n",
    "       'M 등급', '15_4분기변화', '14_2변화등급', '14_3변화등급',\n",
    "       '14_4변화등급', '15_1변화등급', '15_2변화등급', '15_3변화등급', '15_4변화등급',\n",
    "       '선호점포',], axis = 1)\n",
    "predictdata_ohe = pd.get_dummies(pdd)\n",
    "predictdata_ohe[\"14_2분기변화율\"].fillna(0, inplace = True)\n",
    "predictdata_ohe[\"14_3분기변화율\"].fillna(0, inplace = True)\n",
    "predictdata_ohe[\"14_4분기변화율\"].fillna(0, inplace = True)\n",
    "predictdata_ohe[\"15_1분기변화율\"].fillna(0, inplace = True)\n",
    "predictdata_ohe[\"15_2분기변화율\"].fillna(0, inplace = True)\n",
    "predictdata_ohe[\"15_3분기변화율\"].fillna(0, inplace = True)\n",
    "predictdata_ohe[\"15_4분기변화율\"].fillna(0, inplace = True)"
   ]
  },
  {
   "cell_type": "code",
   "execution_count": 64,
   "id": "ce15c20b",
   "metadata": {},
   "outputs": [],
   "source": [
    "y_target = predictdata_ohe[\"15_4분기변화율\"]\n",
    "X_data = predictdata_ohe.drop([\"15_4분기변화율\",\"A선호점포\",\"B선호점포\",\"C선호점포\",\"D선호점포\"], axis = 1)\n",
    "\n",
    "X_train, X_test, y_train, y_test = train_test_split(X_data, y_target, test_size = 0.2, random_state = 156)"
   ]
  },
  {
   "cell_type": "code",
   "execution_count": 65,
   "id": "a088922f",
   "metadata": {},
   "outputs": [
    {
     "data": {
      "text/plain": [
       "0        5.332284\n",
       "1        4.549869\n",
       "2        4.153713\n",
       "3        5.244072\n",
       "4        3.960432\n",
       "           ...   \n",
       "19378    3.721105\n",
       "19379    3.731220\n",
       "19380    4.087152\n",
       "19381    4.392348\n",
       "19382    4.101155\n",
       "Name: 15_4분기변화율, Length: 19380, dtype: float64"
      ]
     },
     "execution_count": 65,
     "metadata": {},
     "output_type": "execute_result"
    }
   ],
   "source": [
    "predictdata_ohe[\"15_4분기변화율\"]"
   ]
  },
  {
   "cell_type": "code",
   "execution_count": 66,
   "id": "f4079493",
   "metadata": {},
   "outputs": [
    {
     "data": {
      "text/plain": [
       "count    19380.000000\n",
       "mean         4.605339\n",
       "std          0.696065\n",
       "min          0.000000\n",
       "25%          4.288643\n",
       "50%          4.584916\n",
       "75%          4.920090\n",
       "max         10.485978\n",
       "Name: 15_4분기변화율, dtype: float64"
      ]
     },
     "execution_count": 66,
     "metadata": {},
     "output_type": "execute_result"
    }
   ],
   "source": [
    "predictdata_ohe[\"15_4분기변화율\"].describe()"
   ]
  },
  {
   "cell_type": "code",
   "execution_count": 67,
   "id": "19f64747",
   "metadata": {},
   "outputs": [
    {
     "ename": "ValueError",
     "evalue": "Mean Squared Logarithmic Error cannot be used when targets contain negative values.",
     "output_type": "error",
     "traceback": [
      "\u001b[1;31m---------------------------------------------------------------------------\u001b[0m",
      "\u001b[1;31mValueError\u001b[0m                                Traceback (most recent call last)",
      "\u001b[1;32m~\\AppData\\Local\\Temp\\ipykernel_12108\\344936102.py\u001b[0m in \u001b[0;36m<module>\u001b[1;34m\u001b[0m\n\u001b[0;32m      9\u001b[0m \u001b[1;33m\u001b[0m\u001b[0m\n\u001b[0;32m     10\u001b[0m \u001b[0mmodels\u001b[0m \u001b[1;33m=\u001b[0m \u001b[1;33m[\u001b[0m\u001b[0mlr\u001b[0m\u001b[1;33m,\u001b[0m \u001b[0mridge\u001b[0m\u001b[1;33m,\u001b[0m \u001b[0mlasso\u001b[0m\u001b[1;33m]\u001b[0m\u001b[1;33m\u001b[0m\u001b[1;33m\u001b[0m\u001b[0m\n\u001b[1;32m---> 11\u001b[1;33m \u001b[0mget_rmsles\u001b[0m\u001b[1;33m(\u001b[0m\u001b[0mmodels\u001b[0m\u001b[1;33m)\u001b[0m\u001b[1;33m\u001b[0m\u001b[1;33m\u001b[0m\u001b[0m\n\u001b[0m",
      "\u001b[1;32m~\\AppData\\Local\\Temp\\ipykernel_12108\\1830404380.py\u001b[0m in \u001b[0;36mget_rmsles\u001b[1;34m(models)\u001b[0m\n\u001b[0;32m     10\u001b[0m     \u001b[0mrmsles\u001b[0m \u001b[1;33m=\u001b[0m \u001b[1;33m[\u001b[0m\u001b[1;33m]\u001b[0m\u001b[1;33m\u001b[0m\u001b[1;33m\u001b[0m\u001b[0m\n\u001b[0;32m     11\u001b[0m     \u001b[1;32mfor\u001b[0m \u001b[0mmodel\u001b[0m \u001b[1;32min\u001b[0m \u001b[0mmodels\u001b[0m\u001b[1;33m:\u001b[0m\u001b[1;33m\u001b[0m\u001b[1;33m\u001b[0m\u001b[0m\n\u001b[1;32m---> 12\u001b[1;33m         \u001b[0mrmsle\u001b[0m \u001b[1;33m=\u001b[0m \u001b[0mget_rmsle\u001b[0m\u001b[1;33m(\u001b[0m\u001b[0mmodel\u001b[0m\u001b[1;33m)\u001b[0m\u001b[1;33m\u001b[0m\u001b[1;33m\u001b[0m\u001b[0m\n\u001b[0m\u001b[0;32m     13\u001b[0m         \u001b[0mrmsles\u001b[0m\u001b[1;33m.\u001b[0m\u001b[0mappend\u001b[0m\u001b[1;33m(\u001b[0m\u001b[0mrmsle\u001b[0m\u001b[1;33m)\u001b[0m\u001b[1;33m\u001b[0m\u001b[1;33m\u001b[0m\u001b[0m\n\u001b[0;32m     14\u001b[0m     \u001b[1;32mreturn\u001b[0m \u001b[0mrmsles\u001b[0m\u001b[1;33m\u001b[0m\u001b[1;33m\u001b[0m\u001b[0m\n",
      "\u001b[1;32m~\\AppData\\Local\\Temp\\ipykernel_12108\\1830404380.py\u001b[0m in \u001b[0;36mget_rmsle\u001b[1;34m(model)\u001b[0m\n\u001b[0;32m      3\u001b[0m     \u001b[0mpred\u001b[0m \u001b[1;33m=\u001b[0m \u001b[0mnp\u001b[0m\u001b[1;33m.\u001b[0m\u001b[0mexpm1\u001b[0m\u001b[1;33m(\u001b[0m\u001b[0mpred\u001b[0m\u001b[1;33m)\u001b[0m  \u001b[1;31m# 로그 역변환 (inverse log transformation)\u001b[0m\u001b[1;33m\u001b[0m\u001b[1;33m\u001b[0m\u001b[0m\n\u001b[0;32m      4\u001b[0m     \u001b[0my_test_exp\u001b[0m \u001b[1;33m=\u001b[0m \u001b[0mnp\u001b[0m\u001b[1;33m.\u001b[0m\u001b[0mexpm1\u001b[0m\u001b[1;33m(\u001b[0m\u001b[0my_test\u001b[0m\u001b[1;33m)\u001b[0m  \u001b[1;31m# 로그 역변환 (inverse log transformation)\u001b[0m\u001b[1;33m\u001b[0m\u001b[1;33m\u001b[0m\u001b[0m\n\u001b[1;32m----> 5\u001b[1;33m     \u001b[0mrmsle\u001b[0m \u001b[1;33m=\u001b[0m \u001b[0mnp\u001b[0m\u001b[1;33m.\u001b[0m\u001b[0msqrt\u001b[0m\u001b[1;33m(\u001b[0m\u001b[0mmean_squared_log_error\u001b[0m\u001b[1;33m(\u001b[0m\u001b[0my_test_exp\u001b[0m\u001b[1;33m,\u001b[0m \u001b[0mpred\u001b[0m\u001b[1;33m)\u001b[0m\u001b[1;33m)\u001b[0m\u001b[1;33m\u001b[0m\u001b[1;33m\u001b[0m\u001b[0m\n\u001b[0m\u001b[0;32m      6\u001b[0m     \u001b[0mprint\u001b[0m\u001b[1;33m(\u001b[0m\u001b[1;34mf\"{model.__class__.__name__} RMSLE: {np.round(rmsle, 3)}\"\u001b[0m\u001b[1;33m)\u001b[0m\u001b[1;33m\u001b[0m\u001b[1;33m\u001b[0m\u001b[0m\n\u001b[0;32m      7\u001b[0m     \u001b[1;32mreturn\u001b[0m \u001b[0mrmsle\u001b[0m\u001b[1;33m\u001b[0m\u001b[1;33m\u001b[0m\u001b[0m\n",
      "\u001b[1;32m~\\Anaconda3\\lib\\site-packages\\sklearn\\metrics\\_regression.py\u001b[0m in \u001b[0;36mmean_squared_log_error\u001b[1;34m(y_true, y_pred, sample_weight, multioutput, squared)\u001b[0m\n\u001b[0;32m    523\u001b[0m \u001b[1;33m\u001b[0m\u001b[0m\n\u001b[0;32m    524\u001b[0m     \u001b[1;32mif\u001b[0m \u001b[1;33m(\u001b[0m\u001b[0my_true\u001b[0m \u001b[1;33m<\u001b[0m \u001b[1;36m0\u001b[0m\u001b[1;33m)\u001b[0m\u001b[1;33m.\u001b[0m\u001b[0many\u001b[0m\u001b[1;33m(\u001b[0m\u001b[1;33m)\u001b[0m \u001b[1;32mor\u001b[0m \u001b[1;33m(\u001b[0m\u001b[0my_pred\u001b[0m \u001b[1;33m<\u001b[0m \u001b[1;36m0\u001b[0m\u001b[1;33m)\u001b[0m\u001b[1;33m.\u001b[0m\u001b[0many\u001b[0m\u001b[1;33m(\u001b[0m\u001b[1;33m)\u001b[0m\u001b[1;33m:\u001b[0m\u001b[1;33m\u001b[0m\u001b[1;33m\u001b[0m\u001b[0m\n\u001b[1;32m--> 525\u001b[1;33m         raise ValueError(\n\u001b[0m\u001b[0;32m    526\u001b[0m             \u001b[1;34m\"Mean Squared Logarithmic Error cannot be used when \"\u001b[0m\u001b[1;33m\u001b[0m\u001b[1;33m\u001b[0m\u001b[0m\n\u001b[0;32m    527\u001b[0m             \u001b[1;34m\"targets contain negative values.\"\u001b[0m\u001b[1;33m\u001b[0m\u001b[1;33m\u001b[0m\u001b[0m\n",
      "\u001b[1;31mValueError\u001b[0m: Mean Squared Logarithmic Error cannot be used when targets contain negative values."
     ]
    }
   ],
   "source": [
    "lr = LinearRegression()\n",
    "lr.fit(X_train, y_train)\n",
    "\n",
    "ridge = Ridge()\n",
    "ridge.fit(X_train, y_train)\n",
    "\n",
    "lasso = Lasso()\n",
    "lasso.fit(X_train, y_train)\n",
    "\n",
    "models = [lr, ridge, lasso]\n",
    "get_rmsles(models)"
   ]
  },
  {
   "cell_type": "code",
   "execution_count": null,
   "id": "753ffbda",
   "metadata": {},
   "outputs": [],
   "source": [
    "coef = pd.Series(lr.coef_, index = X_data.columns)\n",
    "coef"
   ]
  },
  {
   "cell_type": "code",
   "execution_count": null,
   "id": "610f022d",
   "metadata": {},
   "outputs": [],
   "source": [
    "def get_top_bottom_coef(model):\n",
    "    coef = pd.Series(model.coef_, index = X_data.columns)\n",
    "    \n",
    "    coef_high = coef.sort_values(ascending = False).head(10)\n",
    "    coef_low = coef.sort_values(ascending = False).tail(10)\n",
    "    return coef_high, coef_low"
   ]
  },
  {
   "cell_type": "code",
   "execution_count": null,
   "id": "8851e5c5",
   "metadata": {},
   "outputs": [],
   "source": [
    "def visualize_coefficient(models):\n",
    "    # 3개 회귀 모델의 시각화를 위해 3개의 컬럼을 가지는 subplot 생성\n",
    "    fig, axs = plt.subplots(figsize=(24,10),nrows=1, ncols=3)\n",
    "    fig.tight_layout() \n",
    "    # 입력인자로 받은 list객체인 models에서 차례로 model을 추출하여 회귀 계수 시각화. \n",
    "    for i_num, model in enumerate(models):\n",
    "        # 상위 10개, 하위 10개 회귀 계수를 구하고, 이를 판다스 concat으로 결합. \n",
    "        coef_high, coef_low = get_top_bottom_coef(model)\n",
    "        coef_concat = pd.concat( [coef_high , coef_low] )\n",
    "        # 순차적으로 ax subplot에 barchar로 표현. 한 화면에 표현하기 위해 tick label 위치와 font 크기 조정. \n",
    "        axs[i_num].set_title(model.__class__.__name__+' Coeffiecents', size=25)\n",
    "        axs[i_num].tick_params(axis=\"y\",direction=\"in\", pad=-120)\n",
    "        for label in (axs[i_num].get_xticklabels() + axs[i_num].get_yticklabels()):\n",
    "            label.set_fontsize(22)\n",
    "        sns.barplot(x=coef_concat.values, y=coef_concat.index , ax=axs[i_num])\n",
    "\n",
    "# 앞 예제에서 학습한 lr_reg, ridge_reg, lasso_reg 모델의 회귀 계수 시각화.    \n",
    "models = [lr, ridge, lasso]\n",
    "visualize_coefficient(models)"
   ]
  },
  {
   "cell_type": "code",
   "execution_count": null,
   "id": "aef781bd",
   "metadata": {},
   "outputs": [],
   "source": [
    "predictdata_ohe[\"15_4분기변화율\"].describe()"
   ]
  },
  {
   "cell_type": "code",
   "execution_count": null,
   "id": "75c2311f",
   "metadata": {},
   "outputs": [],
   "source": [
    "def convert_values(arr):\n",
    "    result = []\n",
    "    for value in arr:\n",
    "        if value < 90:\n",
    "            result.append(3)\n",
    "        elif value < 110:\n",
    "            result.append(2)\n",
    "        else:\n",
    "            result.append(1)\n",
    "    return result\n"
   ]
  },
  {
   "cell_type": "code",
   "execution_count": null,
   "id": "cdaf0f52",
   "metadata": {},
   "outputs": [],
   "source": [
    "def compare_arrays(arr1, arr2):\n",
    "    count = 0\n",
    "    for i in range(len(arr1)):\n",
    "        if arr1[i] == arr2[i]:\n",
    "            count += 1\n",
    "    return count"
   ]
  },
  {
   "cell_type": "code",
   "execution_count": null,
   "id": "aedfbd73",
   "metadata": {},
   "outputs": [],
   "source": [
    "pre = np.expm1(ridge.predict(X_test))\n",
    "real = np.array(np.expm1(y_test))\n",
    "pre_cat = convert_values(pre)\n",
    "real_cat = convert_values(real)\n",
    "matching_count = compare_arrays(pre_cat, real_cat)\n",
    "print(matching_count)\n",
    "round(matching_count/len(pre)*100,2)"
   ]
  },
  {
   "cell_type": "code",
   "execution_count": null,
   "id": "fd58f435",
   "metadata": {},
   "outputs": [],
   "source": [
    "def get_scores(arr1, arr2):\n",
    "    TP = 0\n",
    "    FP = 0\n",
    "    FN = 0\n",
    "    TN = 0\n",
    "    for i in range(len(arr1)):\n",
    "        if arr2[i] == 3 and arr1[i] == 3:\n",
    "            TP += 1\n",
    "        elif arr2[i] == 3 and arr1[i] != 3:\n",
    "            FN += 1\n",
    "        elif arr2[i] != 3 and arr1[i] != 3:\n",
    "            TN += 1\n",
    "        else:\n",
    "            FP += 1\n",
    "    print(f\"[{TP}   {FP}]\\n[{FN}   {TN}]\")\n",
    "    print(f\"정밀도 : {round(TP/ (FP+TP)*100,2)}%\")\n",
    "    print(f\"재현율 : {round(TP/ (FN+TP)*100,2)}%\")\n",
    "    print(f\"정확도 : {round((TP+TN)/len(arr1)*100,2)}%\")"
   ]
  },
  {
   "cell_type": "code",
   "execution_count": null,
   "id": "c372cf0e",
   "metadata": {},
   "outputs": [],
   "source": [
    "get_scores(pre_cat, real_cat)"
   ]
  },
  {
   "cell_type": "code",
   "execution_count": null,
   "id": "804f2237",
   "metadata": {},
   "outputs": [],
   "source": [
    "def print_best_params(model, params):\n",
    "    grid_model = GridSearchCV(model, param_grid = params, scoring = \"neg_mean_squared_error\", cv = 5)\n",
    "    grid_model.fit(X_data, y_target)\n",
    "    rmse = np.sqrt(-1 * grid_model.best_score_)\n",
    "    print(\"{0} 5 CV 시 최적 평균 RMSE 값 : {1}, 최적 alpha : {2}\".format(model.__class__.__name__,\n",
    "                                                                np.round(rmse, 4), grid_model.best_params_))\n",
    "    return grid_model.best_estimator_"
   ]
  },
  {
   "cell_type": "code",
   "execution_count": null,
   "id": "338bd391",
   "metadata": {},
   "outputs": [],
   "source": [
    "#ridge_params = {\"alpha\" : [0.05, 0.1, 1, 5, 8, 10, 12, 15, 20, 25, 30, 35, 40, 45, 50]}\n",
    "#lasso_params = {\"alpha\" : [0.00001, 0.0001, 0.001, 0.005, 0.008, 0.05, 0.03, 0.1, 0.5, 1.5, 10]}\n",
    "#best_ridge = print_best_params(ridge, ridge_params)\n",
    "#best_lasso = print_best_params(lasso, lasso_params)"
   ]
  },
  {
   "cell_type": "code",
   "execution_count": null,
   "id": "85e750f8",
   "metadata": {},
   "outputs": [],
   "source": [
    "lr = LinearRegression()\n",
    "ridge = Ridge(alpha = 40)\n",
    "lasso = Lasso(alpha = 0.001)\n",
    "\n",
    "lr.fit(X_train, y_train)\n",
    "ridge.fit(X_train, y_train)\n",
    "lasso.fit(X_train, y_train)\n",
    "\n",
    "models = [lr, ridge, lasso]\n",
    "get_rmses(models)\n",
    "\n",
    "visualize_coefficient(models)"
   ]
  },
  {
   "cell_type": "code",
   "execution_count": null,
   "id": "b1cb1ae4",
   "metadata": {},
   "outputs": [],
   "source": [
    "pre = np.expm1(ridge.predict(X_test))\n",
    "real = np.array(np.expm1(y_test))\n",
    "pre_cat = convert_values(pre)\n",
    "real_cat = convert_values(real)\n",
    "matching_count = compare_arrays(pre_cat, real_cat)\n",
    "print(matching_count)\n",
    "round(matching_count/len(pre)*100,2)"
   ]
  },
  {
   "cell_type": "code",
   "execution_count": null,
   "id": "7616badd",
   "metadata": {},
   "outputs": [],
   "source": [
    "get_scores(pre_cat, real_cat)"
   ]
  },
  {
   "cell_type": "code",
   "execution_count": null,
   "id": "0e60b11f",
   "metadata": {},
   "outputs": [],
   "source": [
    "count = predictdata[\"15_4변화등급\"].value_counts()\n",
    "make_pie(count,\"원본 파이\")"
   ]
  },
  {
   "cell_type": "code",
   "execution_count": null,
   "id": "b2d83c26",
   "metadata": {},
   "outputs": [],
   "source": [
    "count = predictdata[predictdata[\"선호제휴점포\"] == \"A41\"][\"15_4변화등급\"].value_counts()\n",
    "make_pie(count)"
   ]
  },
  {
   "cell_type": "code",
   "execution_count": null,
   "id": "00e6b596",
   "metadata": {},
   "outputs": [],
   "source": []
  },
  {
   "cell_type": "code",
   "execution_count": null,
   "id": "b8a06aba",
   "metadata": {},
   "outputs": [],
   "source": []
  },
  {
   "cell_type": "code",
   "execution_count": null,
   "id": "9a34abfa",
   "metadata": {},
   "outputs": [],
   "source": []
  },
  {
   "cell_type": "code",
   "execution_count": 5,
   "id": "36ab6f98",
   "metadata": {},
   "outputs": [],
   "source": [
    "import pandas as pd\n",
    "pd.set_option('display.max_columns', None)"
   ]
  },
  {
   "cell_type": "code",
   "execution_count": 11,
   "id": "7ace072f",
   "metadata": {},
   "outputs": [],
   "source": [
    "import pickle\n",
    "\n",
    "with open('../dataset/scustomerdata.pkl', 'rb') as f:\n",
    "    loaded_data = pickle.load(f)"
   ]
  },
  {
   "cell_type": "code",
   "execution_count": 12,
   "id": "ea655d38",
   "metadata": {
    "scrolled": true
   },
   "outputs": [
    {
     "data": {
      "text/html": [
       "<div>\n",
       "<style scoped>\n",
       "    .dataframe tbody tr th:only-of-type {\n",
       "        vertical-align: middle;\n",
       "    }\n",
       "\n",
       "    .dataframe tbody tr th {\n",
       "        vertical-align: top;\n",
       "    }\n",
       "\n",
       "    .dataframe thead th {\n",
       "        text-align: right;\n",
       "    }\n",
       "</style>\n",
       "<table border=\"1\" class=\"dataframe\">\n",
       "  <thead>\n",
       "    <tr style=\"text-align: right;\">\n",
       "      <th></th>\n",
       "      <th>고객번호</th>\n",
       "      <th>성별</th>\n",
       "      <th>연령대</th>\n",
       "      <th>거주지역</th>\n",
       "      <th>A선호점포</th>\n",
       "      <th>B선호점포</th>\n",
       "      <th>C선호점포</th>\n",
       "      <th>D선호점포</th>\n",
       "      <th>선호제휴사</th>\n",
       "      <th>선호점포</th>\n",
       "      <th>선호제휴점포</th>\n",
       "      <th>14_1분기</th>\n",
       "      <th>14_2분기</th>\n",
       "      <th>14_3분기</th>\n",
       "      <th>14_4분기</th>\n",
       "      <th>15_1분기</th>\n",
       "      <th>15_2분기</th>\n",
       "      <th>15_3분기</th>\n",
       "      <th>15_4분기</th>\n",
       "      <th>14_2분기변화</th>\n",
       "      <th>14_3분기변화</th>\n",
       "      <th>14_4분기변화</th>\n",
       "      <th>15_1분기변화</th>\n",
       "      <th>15_2분기변화</th>\n",
       "      <th>15_3분기변화</th>\n",
       "      <th>15_4분기변화</th>\n",
       "      <th>최근성</th>\n",
       "      <th>행동 빈도</th>\n",
       "      <th>구매 총액</th>\n",
       "      <th>평균구매액</th>\n",
       "      <th>선호제품1</th>\n",
       "      <th>선호제품2</th>\n",
       "      <th>선호제품3</th>\n",
       "      <th>선호제품14_1</th>\n",
       "      <th>선호제품14_2</th>\n",
       "      <th>선호제품14_3</th>\n",
       "      <th>선호제품15_3</th>\n",
       "      <th>선호제품15_2</th>\n",
       "      <th>선호제품15_1</th>\n",
       "      <th>분기 총변화</th>\n",
       "      <th>감소고객</th>\n",
       "      <th>R 등급</th>\n",
       "      <th>F 등급</th>\n",
       "      <th>M 등급</th>\n",
       "      <th>AM 등급</th>\n",
       "      <th>14_2변화율</th>\n",
       "      <th>14_3변화율</th>\n",
       "      <th>14_4변화율</th>\n",
       "      <th>15_1변화율</th>\n",
       "      <th>15_2변화율</th>\n",
       "      <th>15_3변화율</th>\n",
       "      <th>15_4변화율</th>\n",
       "    </tr>\n",
       "  </thead>\n",
       "  <tbody>\n",
       "    <tr>\n",
       "      <th>0</th>\n",
       "      <td>00752</td>\n",
       "      <td>M</td>\n",
       "      <td>노년층</td>\n",
       "      <td>울산</td>\n",
       "      <td>14.0</td>\n",
       "      <td>NaN</td>\n",
       "      <td>NaN</td>\n",
       "      <td>NaN</td>\n",
       "      <td>A</td>\n",
       "      <td>14</td>\n",
       "      <td>A14</td>\n",
       "      <td>8204832.0</td>\n",
       "      <td>3889436.0</td>\n",
       "      <td>4091932.0</td>\n",
       "      <td>3373364.0</td>\n",
       "      <td>4700689.0</td>\n",
       "      <td>5258195.0</td>\n",
       "      <td>7600201.0</td>\n",
       "      <td>7109948.0</td>\n",
       "      <td>-4249130.0</td>\n",
       "      <td>129630.0</td>\n",
       "      <td>-507900.0</td>\n",
       "      <td>1161230.0</td>\n",
       "      <td>577830.0</td>\n",
       "      <td>2195220.0</td>\n",
       "      <td>-70140.0</td>\n",
       "      <td>1</td>\n",
       "      <td>627</td>\n",
       "      <td>44120440</td>\n",
       "      <td>70367.53</td>\n",
       "      <td>일상용품</td>\n",
       "      <td>패션잡화</td>\n",
       "      <td>가공식품</td>\n",
       "      <td>일상용품</td>\n",
       "      <td>패션잡화</td>\n",
       "      <td>가공식품</td>\n",
       "      <td>디지털/가전</td>\n",
       "      <td>패션잡화</td>\n",
       "      <td>일상용품</td>\n",
       "      <td>-763260.0</td>\n",
       "      <td>1</td>\n",
       "      <td>1</td>\n",
       "      <td>10</td>\n",
       "      <td>4</td>\n",
       "      <td>3</td>\n",
       "      <td>47.40</td>\n",
       "      <td>105.21</td>\n",
       "      <td>82.44</td>\n",
       "      <td>139.35</td>\n",
       "      <td>111.86</td>\n",
       "      <td>144.54</td>\n",
       "      <td>93.55</td>\n",
       "    </tr>\n",
       "    <tr>\n",
       "      <th>1</th>\n",
       "      <td>00754</td>\n",
       "      <td>F</td>\n",
       "      <td>노년층</td>\n",
       "      <td>서울</td>\n",
       "      <td>2.0</td>\n",
       "      <td>13.0</td>\n",
       "      <td>13.0</td>\n",
       "      <td>NaN</td>\n",
       "      <td>A</td>\n",
       "      <td>2</td>\n",
       "      <td>A2</td>\n",
       "      <td>5648899.0</td>\n",
       "      <td>6560856.0</td>\n",
       "      <td>4868150.0</td>\n",
       "      <td>19591410.0</td>\n",
       "      <td>3494579.0</td>\n",
       "      <td>4871427.0</td>\n",
       "      <td>1973879.0</td>\n",
       "      <td>12647258.0</td>\n",
       "      <td>934973.0</td>\n",
       "      <td>-1768137.0</td>\n",
       "      <td>15505680.0</td>\n",
       "      <td>-16803490.0</td>\n",
       "      <td>1386354.0</td>\n",
       "      <td>-2915258.0</td>\n",
       "      <td>11151190.0</td>\n",
       "      <td>6</td>\n",
       "      <td>619</td>\n",
       "      <td>60431637</td>\n",
       "      <td>97627.85</td>\n",
       "      <td>가공식품</td>\n",
       "      <td>일상용품</td>\n",
       "      <td>신선식품</td>\n",
       "      <td>가공식품</td>\n",
       "      <td>일상용품</td>\n",
       "      <td>신선식품</td>\n",
       "      <td>신선식품</td>\n",
       "      <td>일상용품</td>\n",
       "      <td>가공식품</td>\n",
       "      <td>7491312.0</td>\n",
       "      <td>0</td>\n",
       "      <td>2</td>\n",
       "      <td>10</td>\n",
       "      <td>3</td>\n",
       "      <td>3</td>\n",
       "      <td>116.14</td>\n",
       "      <td>74.20</td>\n",
       "      <td>402.44</td>\n",
       "      <td>17.84</td>\n",
       "      <td>139.40</td>\n",
       "      <td>40.52</td>\n",
       "      <td>640.73</td>\n",
       "    </tr>\n",
       "    <tr>\n",
       "      <th>2</th>\n",
       "      <td>00758</td>\n",
       "      <td>F</td>\n",
       "      <td>노년층</td>\n",
       "      <td>서울</td>\n",
       "      <td>37.0</td>\n",
       "      <td>54.0</td>\n",
       "      <td>NaN</td>\n",
       "      <td>NaN</td>\n",
       "      <td>A</td>\n",
       "      <td>37</td>\n",
       "      <td>A37</td>\n",
       "      <td>3879096.0</td>\n",
       "      <td>25507579.0</td>\n",
       "      <td>5745857.0</td>\n",
       "      <td>5290043.0</td>\n",
       "      <td>10555637.0</td>\n",
       "      <td>27922567.0</td>\n",
       "      <td>9408581.0</td>\n",
       "      <td>25724991.0</td>\n",
       "      <td>21522006.0</td>\n",
       "      <td>-19747326.0</td>\n",
       "      <td>-141111.0</td>\n",
       "      <td>4970621.0</td>\n",
       "      <td>17318743.0</td>\n",
       "      <td>-18571023.0</td>\n",
       "      <td>17414192.0</td>\n",
       "      <td>1</td>\n",
       "      <td>1124</td>\n",
       "      <td>114271870</td>\n",
       "      <td>101665.36</td>\n",
       "      <td>일상용품</td>\n",
       "      <td>가공식품</td>\n",
       "      <td>신선식품</td>\n",
       "      <td>가공식품</td>\n",
       "      <td>일상용품</td>\n",
       "      <td>신선식품</td>\n",
       "      <td>신선식품</td>\n",
       "      <td>가공식품</td>\n",
       "      <td>일상용품</td>\n",
       "      <td>22766102.0</td>\n",
       "      <td>0</td>\n",
       "      <td>1</td>\n",
       "      <td>7</td>\n",
       "      <td>2</td>\n",
       "      <td>2</td>\n",
       "      <td>657.57</td>\n",
       "      <td>22.53</td>\n",
       "      <td>92.07</td>\n",
       "      <td>199.54</td>\n",
       "      <td>264.53</td>\n",
       "      <td>33.70</td>\n",
       "      <td>273.42</td>\n",
       "    </tr>\n",
       "  </tbody>\n",
       "</table>\n",
       "</div>"
      ],
      "text/plain": [
       "    고객번호 성별  연령대 거주지역  A선호점포  B선호점포  C선호점포  D선호점포 선호제휴사  선호점포 선호제휴점포  \\\n",
       "0  00752  M  노년층   울산   14.0    NaN    NaN    NaN     A    14    A14   \n",
       "1  00754  F  노년층   서울    2.0   13.0   13.0    NaN     A     2     A2   \n",
       "2  00758  F  노년층   서울   37.0   54.0    NaN    NaN     A    37    A37   \n",
       "\n",
       "      14_1분기      14_2분기     14_3분기      14_4분기      15_1분기      15_2분기  \\\n",
       "0  8204832.0   3889436.0  4091932.0   3373364.0   4700689.0   5258195.0   \n",
       "1  5648899.0   6560856.0  4868150.0  19591410.0   3494579.0   4871427.0   \n",
       "2  3879096.0  25507579.0  5745857.0   5290043.0  10555637.0  27922567.0   \n",
       "\n",
       "      15_3분기      15_4분기    14_2분기변화    14_3분기변화    14_4분기변화    15_1분기변화  \\\n",
       "0  7600201.0   7109948.0  -4249130.0    129630.0   -507900.0   1161230.0   \n",
       "1  1973879.0  12647258.0    934973.0  -1768137.0  15505680.0 -16803490.0   \n",
       "2  9408581.0  25724991.0  21522006.0 -19747326.0   -141111.0   4970621.0   \n",
       "\n",
       "     15_2분기변화    15_3분기변화    15_4분기변화  최근성  행동 빈도      구매 총액      평균구매액 선호제품1  \\\n",
       "0    577830.0   2195220.0    -70140.0    1    627   44120440   70367.53  일상용품   \n",
       "1   1386354.0  -2915258.0  11151190.0    6    619   60431637   97627.85  가공식품   \n",
       "2  17318743.0 -18571023.0  17414192.0    1   1124  114271870  101665.36  일상용품   \n",
       "\n",
       "  선호제품2 선호제품3 선호제품14_1 선호제품14_2 선호제품14_3 선호제품15_3 선호제품15_2 선호제품15_1  \\\n",
       "0  패션잡화  가공식품     일상용품     패션잡화     가공식품   디지털/가전     패션잡화     일상용품   \n",
       "1  일상용품  신선식품     가공식품     일상용품     신선식품     신선식품     일상용품     가공식품   \n",
       "2  가공식품  신선식품     가공식품     일상용품     신선식품     신선식품     가공식품     일상용품   \n",
       "\n",
       "       분기 총변화  감소고객  R 등급  F 등급  M 등급  AM 등급  14_2변화율  14_3변화율  14_4변화율  \\\n",
       "0   -763260.0     1     1    10     4      3    47.40   105.21    82.44   \n",
       "1   7491312.0     0     2    10     3      3   116.14    74.20   402.44   \n",
       "2  22766102.0     0     1     7     2      2   657.57    22.53    92.07   \n",
       "\n",
       "   15_1변화율  15_2변화율  15_3변화율  15_4변화율  \n",
       "0   139.35   111.86   144.54    93.55  \n",
       "1    17.84   139.40    40.52   640.73  \n",
       "2   199.54   264.53    33.70   273.42  "
      ]
     },
     "execution_count": 12,
     "metadata": {},
     "output_type": "execute_result"
    }
   ],
   "source": [
    "df = loaded_data\n",
    "df.head(3)"
   ]
  },
  {
   "cell_type": "code",
   "execution_count": null,
   "id": "64407c23",
   "metadata": {},
   "outputs": [],
   "source": []
  },
  {
   "cell_type": "code",
   "execution_count": null,
   "id": "fe0928e8",
   "metadata": {},
   "outputs": [],
   "source": []
  },
  {
   "cell_type": "code",
   "execution_count": null,
   "id": "3bffae89",
   "metadata": {},
   "outputs": [],
   "source": []
  },
  {
   "cell_type": "code",
   "execution_count": null,
   "id": "2b03c5f5",
   "metadata": {},
   "outputs": [],
   "source": []
  },
  {
   "cell_type": "code",
   "execution_count": null,
   "id": "1bd9cb36",
   "metadata": {},
   "outputs": [],
   "source": []
  },
  {
   "cell_type": "code",
   "execution_count": null,
   "id": "c1114a31",
   "metadata": {},
   "outputs": [],
   "source": []
  }
 ],
 "metadata": {
  "kernelspec": {
   "display_name": "Python 3 (ipykernel)",
   "language": "python",
   "name": "python3"
  },
  "language_info": {
   "codemirror_mode": {
    "name": "ipython",
    "version": 3
   },
   "file_extension": ".py",
   "mimetype": "text/x-python",
   "name": "python",
   "nbconvert_exporter": "python",
   "pygments_lexer": "ipython3",
   "version": "3.9.13"
  }
 },
 "nbformat": 4,
 "nbformat_minor": 5
}
