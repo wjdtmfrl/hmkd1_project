{
 "cells": [
  {
   "cell_type": "code",
   "execution_count": 1,
   "id": "c8a12b51",
   "metadata": {
    "scrolled": true
   },
   "outputs": [
    {
     "data": {
      "text/html": [
       "<style>.container { width:100% !important; }</style>"
      ],
      "text/plain": [
       "<IPython.core.display.HTML object>"
      ]
     },
     "metadata": {},
     "output_type": "display_data"
    }
   ],
   "source": [
    "from IPython.display import display, HTML\n",
    "display(HTML(\"<style>.container { width:100% !important; }</style>\"))\n",
    "import matplotlib.pyplot as plt\n",
    "import warnings\n",
    "warnings.filterwarnings('ignore')\n",
    "from matplotlib import rc\n",
    "rc('font', family='Malgun Gothic')      #한글 폰트설정\n",
    "plt.rcParams['axes.unicode_minus']=False      #마이너스 부호 출력 설정\n",
    "import pickle\n",
    "\n",
    "with open('../dataset/PRO_SUB1.pkl', 'rb') as f:\n",
    "    loaded_data = pickle.load(f)"
   ]
  },
  {
   "cell_type": "code",
   "execution_count": 127,
   "id": "505392ef",
   "metadata": {},
   "outputs": [],
   "source": [
    "import pickle\n",
    "\n",
    "with open('../dataset/PRO_SUB1.pkl', 'rb') as f:\n",
    "    loaded_data = pickle.load(f)"
   ]
  },
  {
   "cell_type": "code",
   "execution_count": 128,
   "id": "1cfdccd2",
   "metadata": {},
   "outputs": [],
   "source": [
    "pro_sub1 = loaded_data.copy()"
   ]
  },
  {
   "cell_type": "code",
   "execution_count": 129,
   "id": "67c3ac84",
   "metadata": {},
   "outputs": [
    {
     "data": {
      "text/html": [
       "<div>\n",
       "<style scoped>\n",
       "    .dataframe tbody tr th:only-of-type {\n",
       "        vertical-align: middle;\n",
       "    }\n",
       "\n",
       "    .dataframe tbody tr th {\n",
       "        vertical-align: top;\n",
       "    }\n",
       "\n",
       "    .dataframe thead th {\n",
       "        text-align: right;\n",
       "    }\n",
       "</style>\n",
       "<table border=\"1\" class=\"dataframe\">\n",
       "  <thead>\n",
       "    <tr style=\"text-align: right;\">\n",
       "      <th></th>\n",
       "      <th>Q3_DIF</th>\n",
       "      <th>Q4_DIF</th>\n",
       "      <th>제휴사</th>\n",
       "      <th>대분류코드</th>\n",
       "      <th>Q1_14</th>\n",
       "      <th>Q2_14</th>\n",
       "      <th>Q3_14</th>\n",
       "      <th>Q4_14</th>\n",
       "      <th>Q1_15</th>\n",
       "      <th>Q2_15</th>\n",
       "      <th>Q3_15</th>\n",
       "      <th>Q4_15</th>\n",
       "      <th>총금액_14</th>\n",
       "      <th>총금액_15</th>\n",
       "      <th>Q1_DIF</th>\n",
       "      <th>Q2_DIF</th>\n",
       "    </tr>\n",
       "  </thead>\n",
       "  <tbody>\n",
       "    <tr>\n",
       "      <th>0</th>\n",
       "      <td>A</td>\n",
       "      <td>1</td>\n",
       "      <td>8130669340</td>\n",
       "      <td>7153497950</td>\n",
       "      <td>8951465690</td>\n",
       "      <td>7485342190</td>\n",
       "      <td>9246173600</td>\n",
       "      <td>7589921150</td>\n",
       "      <td>9368255240</td>\n",
       "      <td>7624915720</td>\n",
       "      <td>31720975170</td>\n",
       "      <td>33829265710</td>\n",
       "      <td>1115504260</td>\n",
       "      <td>436423200</td>\n",
       "      <td>416789550</td>\n",
       "      <td>139573530</td>\n",
       "    </tr>\n",
       "    <tr>\n",
       "      <th>1</th>\n",
       "      <td>A</td>\n",
       "      <td>2</td>\n",
       "      <td>8143544140</td>\n",
       "      <td>9953235950</td>\n",
       "      <td>9025336230</td>\n",
       "      <td>11320193380</td>\n",
       "      <td>8800778760</td>\n",
       "      <td>10286355600</td>\n",
       "      <td>8915442640</td>\n",
       "      <td>10567554430</td>\n",
       "      <td>38442309700</td>\n",
       "      <td>38570131430</td>\n",
       "      <td>657234620</td>\n",
       "      <td>333119650</td>\n",
       "      <td>-109893590</td>\n",
       "      <td>-752638950</td>\n",
       "    </tr>\n",
       "    <tr>\n",
       "      <th>2</th>\n",
       "      <td>A</td>\n",
       "      <td>3</td>\n",
       "      <td>1908145190</td>\n",
       "      <td>2133991210</td>\n",
       "      <td>1753170960</td>\n",
       "      <td>2511107080</td>\n",
       "      <td>2098275660</td>\n",
       "      <td>2145458250</td>\n",
       "      <td>1740886520</td>\n",
       "      <td>2484724450</td>\n",
       "      <td>8306414440</td>\n",
       "      <td>8469344880</td>\n",
       "      <td>190130470</td>\n",
       "      <td>11467040</td>\n",
       "      <td>-12284440</td>\n",
       "      <td>-26382630</td>\n",
       "    </tr>\n",
       "    <tr>\n",
       "      <th>3</th>\n",
       "      <td>A</td>\n",
       "      <td>4</td>\n",
       "      <td>18011684490</td>\n",
       "      <td>16498566560</td>\n",
       "      <td>14287020870</td>\n",
       "      <td>24512867240</td>\n",
       "      <td>19037166180</td>\n",
       "      <td>17905906380</td>\n",
       "      <td>15196109930</td>\n",
       "      <td>24910401940</td>\n",
       "      <td>73310139160</td>\n",
       "      <td>77049584430</td>\n",
       "      <td>1025481690</td>\n",
       "      <td>1407339820</td>\n",
       "      <td>909089060</td>\n",
       "      <td>397534700</td>\n",
       "    </tr>\n",
       "    <tr>\n",
       "      <th>4</th>\n",
       "      <td>A</td>\n",
       "      <td>5</td>\n",
       "      <td>3613474040</td>\n",
       "      <td>4116608020</td>\n",
       "      <td>2866761420</td>\n",
       "      <td>5603301310</td>\n",
       "      <td>4083581330</td>\n",
       "      <td>4300572900</td>\n",
       "      <td>2892899170</td>\n",
       "      <td>5384679730</td>\n",
       "      <td>16200144790</td>\n",
       "      <td>16661733130</td>\n",
       "      <td>470107290</td>\n",
       "      <td>183964880</td>\n",
       "      <td>26137750</td>\n",
       "      <td>-218621580</td>\n",
       "    </tr>\n",
       "    <tr>\n",
       "      <th>...</th>\n",
       "      <td>...</td>\n",
       "      <td>...</td>\n",
       "      <td>...</td>\n",
       "      <td>...</td>\n",
       "      <td>...</td>\n",
       "      <td>...</td>\n",
       "      <td>...</td>\n",
       "      <td>...</td>\n",
       "      <td>...</td>\n",
       "      <td>...</td>\n",
       "      <td>...</td>\n",
       "      <td>...</td>\n",
       "      <td>...</td>\n",
       "      <td>...</td>\n",
       "      <td>...</td>\n",
       "      <td>...</td>\n",
       "    </tr>\n",
       "    <tr>\n",
       "      <th>121</th>\n",
       "      <td>D</td>\n",
       "      <td>4</td>\n",
       "      <td>8601950</td>\n",
       "      <td>8624130</td>\n",
       "      <td>9840480</td>\n",
       "      <td>16586080</td>\n",
       "      <td>19321200</td>\n",
       "      <td>17543870</td>\n",
       "      <td>17253490</td>\n",
       "      <td>18459710</td>\n",
       "      <td>43652640</td>\n",
       "      <td>72578270</td>\n",
       "      <td>10719250</td>\n",
       "      <td>8919740</td>\n",
       "      <td>7413010</td>\n",
       "      <td>1873630</td>\n",
       "    </tr>\n",
       "    <tr>\n",
       "      <th>122</th>\n",
       "      <td>D</td>\n",
       "      <td>5</td>\n",
       "      <td>1388070</td>\n",
       "      <td>1669030</td>\n",
       "      <td>2876950</td>\n",
       "      <td>5617830</td>\n",
       "      <td>3394030</td>\n",
       "      <td>3865830</td>\n",
       "      <td>4653580</td>\n",
       "      <td>5743460</td>\n",
       "      <td>11551880</td>\n",
       "      <td>17656900</td>\n",
       "      <td>2005960</td>\n",
       "      <td>2196800</td>\n",
       "      <td>1776630</td>\n",
       "      <td>125630</td>\n",
       "    </tr>\n",
       "    <tr>\n",
       "      <th>123</th>\n",
       "      <td>D</td>\n",
       "      <td>6</td>\n",
       "      <td>1816160</td>\n",
       "      <td>3504770</td>\n",
       "      <td>4228060</td>\n",
       "      <td>6170740</td>\n",
       "      <td>6190910</td>\n",
       "      <td>6721100</td>\n",
       "      <td>7103940</td>\n",
       "      <td>10231630</td>\n",
       "      <td>15719730</td>\n",
       "      <td>30247580</td>\n",
       "      <td>4374750</td>\n",
       "      <td>3216330</td>\n",
       "      <td>2875880</td>\n",
       "      <td>4060890</td>\n",
       "    </tr>\n",
       "    <tr>\n",
       "      <th>124</th>\n",
       "      <td>D</td>\n",
       "      <td>7</td>\n",
       "      <td>1504600</td>\n",
       "      <td>2970570</td>\n",
       "      <td>2188700</td>\n",
       "      <td>5676300</td>\n",
       "      <td>4640040</td>\n",
       "      <td>5662740</td>\n",
       "      <td>4640730</td>\n",
       "      <td>6458720</td>\n",
       "      <td>12340170</td>\n",
       "      <td>21402230</td>\n",
       "      <td>3135440</td>\n",
       "      <td>2692170</td>\n",
       "      <td>2452030</td>\n",
       "      <td>782420</td>\n",
       "    </tr>\n",
       "    <tr>\n",
       "      <th>125</th>\n",
       "      <td>D</td>\n",
       "      <td>8</td>\n",
       "      <td>6277100</td>\n",
       "      <td>8171670</td>\n",
       "      <td>10619090</td>\n",
       "      <td>20666900</td>\n",
       "      <td>23534510</td>\n",
       "      <td>18419110</td>\n",
       "      <td>20203530</td>\n",
       "      <td>24292730</td>\n",
       "      <td>45734760</td>\n",
       "      <td>86449880</td>\n",
       "      <td>17257410</td>\n",
       "      <td>10247440</td>\n",
       "      <td>9584440</td>\n",
       "      <td>3625830</td>\n",
       "    </tr>\n",
       "  </tbody>\n",
       "</table>\n",
       "<p>126 rows × 16 columns</p>\n",
       "</div>"
      ],
      "text/plain": [
       "    Q3_DIF  Q4_DIF          제휴사        대분류코드        Q1_14        Q2_14  \\\n",
       "0        A       1   8130669340   7153497950   8951465690   7485342190   \n",
       "1        A       2   8143544140   9953235950   9025336230  11320193380   \n",
       "2        A       3   1908145190   2133991210   1753170960   2511107080   \n",
       "3        A       4  18011684490  16498566560  14287020870  24512867240   \n",
       "4        A       5   3613474040   4116608020   2866761420   5603301310   \n",
       "..     ...     ...          ...          ...          ...          ...   \n",
       "121      D       4      8601950      8624130      9840480     16586080   \n",
       "122      D       5      1388070      1669030      2876950      5617830   \n",
       "123      D       6      1816160      3504770      4228060      6170740   \n",
       "124      D       7      1504600      2970570      2188700      5676300   \n",
       "125      D       8      6277100      8171670     10619090     20666900   \n",
       "\n",
       "           Q3_14        Q4_14        Q1_15        Q2_15        Q3_15  \\\n",
       "0     9246173600   7589921150   9368255240   7624915720  31720975170   \n",
       "1     8800778760  10286355600   8915442640  10567554430  38442309700   \n",
       "2     2098275660   2145458250   1740886520   2484724450   8306414440   \n",
       "3    19037166180  17905906380  15196109930  24910401940  73310139160   \n",
       "4     4083581330   4300572900   2892899170   5384679730  16200144790   \n",
       "..           ...          ...          ...          ...          ...   \n",
       "121     19321200     17543870     17253490     18459710     43652640   \n",
       "122      3394030      3865830      4653580      5743460     11551880   \n",
       "123      6190910      6721100      7103940     10231630     15719730   \n",
       "124      4640040      5662740      4640730      6458720     12340170   \n",
       "125     23534510     18419110     20203530     24292730     45734760   \n",
       "\n",
       "           Q4_15      총금액_14      총금액_15     Q1_DIF     Q2_DIF  \n",
       "0    33829265710  1115504260   436423200  416789550  139573530  \n",
       "1    38570131430   657234620   333119650 -109893590 -752638950  \n",
       "2     8469344880   190130470    11467040  -12284440  -26382630  \n",
       "3    77049584430  1025481690  1407339820  909089060  397534700  \n",
       "4    16661733130   470107290   183964880   26137750 -218621580  \n",
       "..           ...         ...         ...        ...        ...  \n",
       "121     72578270    10719250     8919740    7413010    1873630  \n",
       "122     17656900     2005960     2196800    1776630     125630  \n",
       "123     30247580     4374750     3216330    2875880    4060890  \n",
       "124     21402230     3135440     2692170    2452030     782420  \n",
       "125     86449880    17257410    10247440    9584440    3625830  \n",
       "\n",
       "[126 rows x 16 columns]"
      ]
     },
     "execution_count": 129,
     "metadata": {},
     "output_type": "execute_result"
    }
   ],
   "source": [
    "pro_sub1"
   ]
  },
  {
   "cell_type": "code",
   "execution_count": 133,
   "id": "e1d01d3c",
   "metadata": {},
   "outputs": [],
   "source": [
    "import pickle\n",
    "\n",
    "with open('../dataset/PRO_SUB.pkl', 'rb') as f:\n",
    "    loaded_data = pickle.load(f)"
   ]
  },
  {
   "cell_type": "code",
   "execution_count": 134,
   "id": "397d472c",
   "metadata": {},
   "outputs": [
    {
     "data": {
      "text/html": [
       "<div>\n",
       "<style scoped>\n",
       "    .dataframe tbody tr th:only-of-type {\n",
       "        vertical-align: middle;\n",
       "    }\n",
       "\n",
       "    .dataframe tbody tr th {\n",
       "        vertical-align: top;\n",
       "    }\n",
       "\n",
       "    .dataframe thead th {\n",
       "        text-align: right;\n",
       "    }\n",
       "</style>\n",
       "<table border=\"1\" class=\"dataframe\">\n",
       "  <thead>\n",
       "    <tr style=\"text-align: right;\">\n",
       "      <th></th>\n",
       "      <th>제휴사</th>\n",
       "      <th>대분류코드</th>\n",
       "      <th>Q1_14</th>\n",
       "      <th>Q2_14</th>\n",
       "      <th>Q3_14</th>\n",
       "      <th>Q4_14</th>\n",
       "      <th>Q1_15</th>\n",
       "      <th>Q2_15</th>\n",
       "      <th>Q3_15</th>\n",
       "      <th>Q4_15</th>\n",
       "      <th>총금액_14</th>\n",
       "      <th>총금액_15</th>\n",
       "      <th>Q1_DIF</th>\n",
       "      <th>Q2_DIF</th>\n",
       "      <th>Q3_DIF</th>\n",
       "      <th>Q4_DIF</th>\n",
       "    </tr>\n",
       "  </thead>\n",
       "  <tbody>\n",
       "    <tr>\n",
       "      <th>0</th>\n",
       "      <td>A</td>\n",
       "      <td>1</td>\n",
       "      <td>8130669340</td>\n",
       "      <td>7153497950</td>\n",
       "      <td>8951465690</td>\n",
       "      <td>7485342190</td>\n",
       "      <td>9246173600</td>\n",
       "      <td>7589921150</td>\n",
       "      <td>9368255240</td>\n",
       "      <td>7624915720</td>\n",
       "      <td>31720975170</td>\n",
       "      <td>33829265710</td>\n",
       "      <td>1115504260</td>\n",
       "      <td>1115504260</td>\n",
       "      <td>1115504260</td>\n",
       "      <td>1115504260</td>\n",
       "    </tr>\n",
       "    <tr>\n",
       "      <th>1</th>\n",
       "      <td>A</td>\n",
       "      <td>2</td>\n",
       "      <td>8143544140</td>\n",
       "      <td>9953235950</td>\n",
       "      <td>9025336230</td>\n",
       "      <td>11320193380</td>\n",
       "      <td>8800778760</td>\n",
       "      <td>10286355600</td>\n",
       "      <td>8915442640</td>\n",
       "      <td>10567554430</td>\n",
       "      <td>38442309700</td>\n",
       "      <td>38570131430</td>\n",
       "      <td>657234620</td>\n",
       "      <td>657234620</td>\n",
       "      <td>657234620</td>\n",
       "      <td>657234620</td>\n",
       "    </tr>\n",
       "    <tr>\n",
       "      <th>2</th>\n",
       "      <td>A</td>\n",
       "      <td>3</td>\n",
       "      <td>1908145190</td>\n",
       "      <td>2133991210</td>\n",
       "      <td>1753170960</td>\n",
       "      <td>2511107080</td>\n",
       "      <td>2098275660</td>\n",
       "      <td>2145458250</td>\n",
       "      <td>1740886520</td>\n",
       "      <td>2484724450</td>\n",
       "      <td>8306414440</td>\n",
       "      <td>8469344880</td>\n",
       "      <td>190130470</td>\n",
       "      <td>190130470</td>\n",
       "      <td>190130470</td>\n",
       "      <td>190130470</td>\n",
       "    </tr>\n",
       "    <tr>\n",
       "      <th>3</th>\n",
       "      <td>A</td>\n",
       "      <td>4</td>\n",
       "      <td>18011684490</td>\n",
       "      <td>16498566560</td>\n",
       "      <td>14287020870</td>\n",
       "      <td>24512867240</td>\n",
       "      <td>19037166180</td>\n",
       "      <td>17905906380</td>\n",
       "      <td>15196109930</td>\n",
       "      <td>24910401940</td>\n",
       "      <td>73310139160</td>\n",
       "      <td>77049584430</td>\n",
       "      <td>1025481690</td>\n",
       "      <td>1025481690</td>\n",
       "      <td>1025481690</td>\n",
       "      <td>1025481690</td>\n",
       "    </tr>\n",
       "    <tr>\n",
       "      <th>4</th>\n",
       "      <td>A</td>\n",
       "      <td>5</td>\n",
       "      <td>3613474040</td>\n",
       "      <td>4116608020</td>\n",
       "      <td>2866761420</td>\n",
       "      <td>5603301310</td>\n",
       "      <td>4083581330</td>\n",
       "      <td>4300572900</td>\n",
       "      <td>2892899170</td>\n",
       "      <td>5384679730</td>\n",
       "      <td>16200144790</td>\n",
       "      <td>16661733130</td>\n",
       "      <td>470107290</td>\n",
       "      <td>470107290</td>\n",
       "      <td>470107290</td>\n",
       "      <td>470107290</td>\n",
       "    </tr>\n",
       "    <tr>\n",
       "      <th>...</th>\n",
       "      <td>...</td>\n",
       "      <td>...</td>\n",
       "      <td>...</td>\n",
       "      <td>...</td>\n",
       "      <td>...</td>\n",
       "      <td>...</td>\n",
       "      <td>...</td>\n",
       "      <td>...</td>\n",
       "      <td>...</td>\n",
       "      <td>...</td>\n",
       "      <td>...</td>\n",
       "      <td>...</td>\n",
       "      <td>...</td>\n",
       "      <td>...</td>\n",
       "      <td>...</td>\n",
       "      <td>...</td>\n",
       "    </tr>\n",
       "    <tr>\n",
       "      <th>121</th>\n",
       "      <td>D</td>\n",
       "      <td>4</td>\n",
       "      <td>8601950</td>\n",
       "      <td>8624130</td>\n",
       "      <td>9840480</td>\n",
       "      <td>16586080</td>\n",
       "      <td>19321200</td>\n",
       "      <td>17543870</td>\n",
       "      <td>17253490</td>\n",
       "      <td>18459710</td>\n",
       "      <td>43652640</td>\n",
       "      <td>72578270</td>\n",
       "      <td>10719250</td>\n",
       "      <td>10719250</td>\n",
       "      <td>10719250</td>\n",
       "      <td>10719250</td>\n",
       "    </tr>\n",
       "    <tr>\n",
       "      <th>122</th>\n",
       "      <td>D</td>\n",
       "      <td>5</td>\n",
       "      <td>1388070</td>\n",
       "      <td>1669030</td>\n",
       "      <td>2876950</td>\n",
       "      <td>5617830</td>\n",
       "      <td>3394030</td>\n",
       "      <td>3865830</td>\n",
       "      <td>4653580</td>\n",
       "      <td>5743460</td>\n",
       "      <td>11551880</td>\n",
       "      <td>17656900</td>\n",
       "      <td>2005960</td>\n",
       "      <td>2005960</td>\n",
       "      <td>2005960</td>\n",
       "      <td>2005960</td>\n",
       "    </tr>\n",
       "    <tr>\n",
       "      <th>123</th>\n",
       "      <td>D</td>\n",
       "      <td>6</td>\n",
       "      <td>1816160</td>\n",
       "      <td>3504770</td>\n",
       "      <td>4228060</td>\n",
       "      <td>6170740</td>\n",
       "      <td>6190910</td>\n",
       "      <td>6721100</td>\n",
       "      <td>7103940</td>\n",
       "      <td>10231630</td>\n",
       "      <td>15719730</td>\n",
       "      <td>30247580</td>\n",
       "      <td>4374750</td>\n",
       "      <td>4374750</td>\n",
       "      <td>4374750</td>\n",
       "      <td>4374750</td>\n",
       "    </tr>\n",
       "    <tr>\n",
       "      <th>124</th>\n",
       "      <td>D</td>\n",
       "      <td>7</td>\n",
       "      <td>1504600</td>\n",
       "      <td>2970570</td>\n",
       "      <td>2188700</td>\n",
       "      <td>5676300</td>\n",
       "      <td>4640040</td>\n",
       "      <td>5662740</td>\n",
       "      <td>4640730</td>\n",
       "      <td>6458720</td>\n",
       "      <td>12340170</td>\n",
       "      <td>21402230</td>\n",
       "      <td>3135440</td>\n",
       "      <td>3135440</td>\n",
       "      <td>3135440</td>\n",
       "      <td>3135440</td>\n",
       "    </tr>\n",
       "    <tr>\n",
       "      <th>125</th>\n",
       "      <td>D</td>\n",
       "      <td>8</td>\n",
       "      <td>6277100</td>\n",
       "      <td>8171670</td>\n",
       "      <td>10619090</td>\n",
       "      <td>20666900</td>\n",
       "      <td>23534510</td>\n",
       "      <td>18419110</td>\n",
       "      <td>20203530</td>\n",
       "      <td>24292730</td>\n",
       "      <td>45734760</td>\n",
       "      <td>86449880</td>\n",
       "      <td>17257410</td>\n",
       "      <td>17257410</td>\n",
       "      <td>17257410</td>\n",
       "      <td>17257410</td>\n",
       "    </tr>\n",
       "  </tbody>\n",
       "</table>\n",
       "<p>126 rows × 16 columns</p>\n",
       "</div>"
      ],
      "text/plain": [
       "    제휴사  대분류코드        Q1_14        Q2_14        Q3_14        Q4_14  \\\n",
       "0     A      1   8130669340   7153497950   8951465690   7485342190   \n",
       "1     A      2   8143544140   9953235950   9025336230  11320193380   \n",
       "2     A      3   1908145190   2133991210   1753170960   2511107080   \n",
       "3     A      4  18011684490  16498566560  14287020870  24512867240   \n",
       "4     A      5   3613474040   4116608020   2866761420   5603301310   \n",
       "..   ..    ...          ...          ...          ...          ...   \n",
       "121   D      4      8601950      8624130      9840480     16586080   \n",
       "122   D      5      1388070      1669030      2876950      5617830   \n",
       "123   D      6      1816160      3504770      4228060      6170740   \n",
       "124   D      7      1504600      2970570      2188700      5676300   \n",
       "125   D      8      6277100      8171670     10619090     20666900   \n",
       "\n",
       "           Q1_15        Q2_15        Q3_15        Q4_15       총금액_14  \\\n",
       "0     9246173600   7589921150   9368255240   7624915720  31720975170   \n",
       "1     8800778760  10286355600   8915442640  10567554430  38442309700   \n",
       "2     2098275660   2145458250   1740886520   2484724450   8306414440   \n",
       "3    19037166180  17905906380  15196109930  24910401940  73310139160   \n",
       "4     4083581330   4300572900   2892899170   5384679730  16200144790   \n",
       "..           ...          ...          ...          ...          ...   \n",
       "121     19321200     17543870     17253490     18459710     43652640   \n",
       "122      3394030      3865830      4653580      5743460     11551880   \n",
       "123      6190910      6721100      7103940     10231630     15719730   \n",
       "124      4640040      5662740      4640730      6458720     12340170   \n",
       "125     23534510     18419110     20203530     24292730     45734760   \n",
       "\n",
       "          총금액_15      Q1_DIF      Q2_DIF      Q3_DIF      Q4_DIF  \n",
       "0    33829265710  1115504260  1115504260  1115504260  1115504260  \n",
       "1    38570131430   657234620   657234620   657234620   657234620  \n",
       "2     8469344880   190130470   190130470   190130470   190130470  \n",
       "3    77049584430  1025481690  1025481690  1025481690  1025481690  \n",
       "4    16661733130   470107290   470107290   470107290   470107290  \n",
       "..           ...         ...         ...         ...         ...  \n",
       "121     72578270    10719250    10719250    10719250    10719250  \n",
       "122     17656900     2005960     2005960     2005960     2005960  \n",
       "123     30247580     4374750     4374750     4374750     4374750  \n",
       "124     21402230     3135440     3135440     3135440     3135440  \n",
       "125     86449880    17257410    17257410    17257410    17257410  \n",
       "\n",
       "[126 rows x 16 columns]"
      ]
     },
     "execution_count": 134,
     "metadata": {},
     "output_type": "execute_result"
    }
   ],
   "source": [
    "pro_sub = loaded_data\n",
    "pro_sub"
   ]
  },
  {
   "cell_type": "code",
   "execution_count": 135,
   "id": "a6e08fc5",
   "metadata": {
    "scrolled": true
   },
   "outputs": [
    {
     "data": {
      "text/html": [
       "<div>\n",
       "<style scoped>\n",
       "    .dataframe tbody tr th:only-of-type {\n",
       "        vertical-align: middle;\n",
       "    }\n",
       "\n",
       "    .dataframe tbody tr th {\n",
       "        vertical-align: top;\n",
       "    }\n",
       "\n",
       "    .dataframe thead th {\n",
       "        text-align: right;\n",
       "    }\n",
       "</style>\n",
       "<table border=\"1\" class=\"dataframe\">\n",
       "  <thead>\n",
       "    <tr style=\"text-align: right;\">\n",
       "      <th></th>\n",
       "      <th>Q1_14</th>\n",
       "      <th>Q2_14</th>\n",
       "      <th>Q3_14</th>\n",
       "      <th>Q4_14</th>\n",
       "    </tr>\n",
       "    <tr>\n",
       "      <th>대분류코드</th>\n",
       "      <th></th>\n",
       "      <th></th>\n",
       "      <th></th>\n",
       "      <th></th>\n",
       "    </tr>\n",
       "  </thead>\n",
       "  <tbody>\n",
       "    <tr>\n",
       "      <th>1</th>\n",
       "      <td>8130669340</td>\n",
       "      <td>7153497950</td>\n",
       "      <td>8951465690</td>\n",
       "      <td>7485342190</td>\n",
       "    </tr>\n",
       "    <tr>\n",
       "      <th>2</th>\n",
       "      <td>8143544140</td>\n",
       "      <td>9953235950</td>\n",
       "      <td>9025336230</td>\n",
       "      <td>11320193380</td>\n",
       "    </tr>\n",
       "    <tr>\n",
       "      <th>3</th>\n",
       "      <td>1908145190</td>\n",
       "      <td>2133991210</td>\n",
       "      <td>1753170960</td>\n",
       "      <td>2511107080</td>\n",
       "    </tr>\n",
       "    <tr>\n",
       "      <th>4</th>\n",
       "      <td>18011684490</td>\n",
       "      <td>16498566560</td>\n",
       "      <td>14287020870</td>\n",
       "      <td>24512867240</td>\n",
       "    </tr>\n",
       "    <tr>\n",
       "      <th>5</th>\n",
       "      <td>3613474040</td>\n",
       "      <td>4116608020</td>\n",
       "      <td>2866761420</td>\n",
       "      <td>5603301310</td>\n",
       "    </tr>\n",
       "    <tr>\n",
       "      <th>6</th>\n",
       "      <td>4871555890</td>\n",
       "      <td>6593151970</td>\n",
       "      <td>4567077740</td>\n",
       "      <td>7524291200</td>\n",
       "    </tr>\n",
       "    <tr>\n",
       "      <th>7</th>\n",
       "      <td>3174836680</td>\n",
       "      <td>3313837900</td>\n",
       "      <td>3145996160</td>\n",
       "      <td>3473825780</td>\n",
       "    </tr>\n",
       "    <tr>\n",
       "      <th>8</th>\n",
       "      <td>6647381130</td>\n",
       "      <td>7024598670</td>\n",
       "      <td>5970380150</td>\n",
       "      <td>9161219920</td>\n",
       "    </tr>\n",
       "    <tr>\n",
       "      <th>9</th>\n",
       "      <td>3518023730</td>\n",
       "      <td>3807965050</td>\n",
       "      <td>3580900310</td>\n",
       "      <td>4752684660</td>\n",
       "    </tr>\n",
       "  </tbody>\n",
       "</table>\n",
       "</div>"
      ],
      "text/plain": [
       "             Q1_14        Q2_14        Q3_14        Q4_14\n",
       "대분류코드                                                    \n",
       "1       8130669340   7153497950   8951465690   7485342190\n",
       "2       8143544140   9953235950   9025336230  11320193380\n",
       "3       1908145190   2133991210   1753170960   2511107080\n",
       "4      18011684490  16498566560  14287020870  24512867240\n",
       "5       3613474040   4116608020   2866761420   5603301310\n",
       "6       4871555890   6593151970   4567077740   7524291200\n",
       "7       3174836680   3313837900   3145996160   3473825780\n",
       "8       6647381130   7024598670   5970380150   9161219920\n",
       "9       3518023730   3807965050   3580900310   4752684660"
      ]
     },
     "execution_count": 135,
     "metadata": {},
     "output_type": "execute_result"
    }
   ],
   "source": [
    "apro_q_14 = pro_q_14[pro_q_14['제휴사']=='A']\n",
    "apro_q_14\n",
    "apro_q_14 = apro_q_14.drop(['제휴사','TOTAL','성장변화','CAGR'],axis=1)\n",
    "apro_q_14\n",
    "\n",
    "apro_q_14.set_index('대분류코드')"
   ]
  },
  {
   "cell_type": "code",
   "execution_count": null,
   "id": "9622caa8",
   "metadata": {},
   "outputs": [],
   "source": []
  },
  {
   "cell_type": "code",
   "execution_count": null,
   "id": "0de63bf1",
   "metadata": {},
   "outputs": [],
   "source": []
  },
  {
   "cell_type": "code",
   "execution_count": null,
   "id": "e8354dcb",
   "metadata": {},
   "outputs": [],
   "source": []
  },
  {
   "cell_type": "code",
   "execution_count": null,
   "id": "5f462c68",
   "metadata": {},
   "outputs": [],
   "source": []
  },
  {
   "cell_type": "code",
   "execution_count": null,
   "id": "3c838412",
   "metadata": {},
   "outputs": [],
   "source": []
  },
  {
   "cell_type": "code",
   "execution_count": 108,
   "id": "53f904e2",
   "metadata": {
    "scrolled": true
   },
   "outputs": [
    {
     "data": {
      "text/html": [
       "<div>\n",
       "<style scoped>\n",
       "    .dataframe tbody tr th:only-of-type {\n",
       "        vertical-align: middle;\n",
       "    }\n",
       "\n",
       "    .dataframe tbody tr th {\n",
       "        vertical-align: top;\n",
       "    }\n",
       "\n",
       "    .dataframe thead th {\n",
       "        text-align: right;\n",
       "    }\n",
       "</style>\n",
       "<table border=\"1\" class=\"dataframe\">\n",
       "  <thead>\n",
       "    <tr style=\"text-align: right;\">\n",
       "      <th></th>\n",
       "      <th>대분류코드</th>\n",
       "      <th>Q1_15</th>\n",
       "      <th>Q2_15</th>\n",
       "      <th>Q3_15</th>\n",
       "      <th>Q4_15</th>\n",
       "    </tr>\n",
       "  </thead>\n",
       "  <tbody>\n",
       "    <tr>\n",
       "      <th>0</th>\n",
       "      <td>1</td>\n",
       "      <td>9246173600</td>\n",
       "      <td>7589921150</td>\n",
       "      <td>9368255240</td>\n",
       "      <td>7624915720</td>\n",
       "    </tr>\n",
       "    <tr>\n",
       "      <th>1</th>\n",
       "      <td>2</td>\n",
       "      <td>8800778760</td>\n",
       "      <td>10286355600</td>\n",
       "      <td>8915442640</td>\n",
       "      <td>10567554430</td>\n",
       "    </tr>\n",
       "    <tr>\n",
       "      <th>2</th>\n",
       "      <td>3</td>\n",
       "      <td>2098275660</td>\n",
       "      <td>2145458250</td>\n",
       "      <td>1740886520</td>\n",
       "      <td>2484724450</td>\n",
       "    </tr>\n",
       "    <tr>\n",
       "      <th>3</th>\n",
       "      <td>4</td>\n",
       "      <td>19037166180</td>\n",
       "      <td>17905906380</td>\n",
       "      <td>15196109930</td>\n",
       "      <td>24910401940</td>\n",
       "    </tr>\n",
       "    <tr>\n",
       "      <th>4</th>\n",
       "      <td>5</td>\n",
       "      <td>4083581330</td>\n",
       "      <td>4300572900</td>\n",
       "      <td>2892899170</td>\n",
       "      <td>5384679730</td>\n",
       "    </tr>\n",
       "    <tr>\n",
       "      <th>5</th>\n",
       "      <td>6</td>\n",
       "      <td>4971326320</td>\n",
       "      <td>5830997150</td>\n",
       "      <td>4294024490</td>\n",
       "      <td>7259296940</td>\n",
       "    </tr>\n",
       "    <tr>\n",
       "      <th>6</th>\n",
       "      <td>7</td>\n",
       "      <td>3392573010</td>\n",
       "      <td>3640746470</td>\n",
       "      <td>3851938960</td>\n",
       "      <td>4818652420</td>\n",
       "    </tr>\n",
       "    <tr>\n",
       "      <th>7</th>\n",
       "      <td>8</td>\n",
       "      <td>8158628490</td>\n",
       "      <td>8860682400</td>\n",
       "      <td>7719928180</td>\n",
       "      <td>11059478870</td>\n",
       "    </tr>\n",
       "    <tr>\n",
       "      <th>8</th>\n",
       "      <td>9</td>\n",
       "      <td>4021575000</td>\n",
       "      <td>4340479580</td>\n",
       "      <td>3947851350</td>\n",
       "      <td>4985194620</td>\n",
       "    </tr>\n",
       "  </tbody>\n",
       "</table>\n",
       "</div>"
      ],
      "text/plain": [
       "   대분류코드        Q1_15        Q2_15        Q3_15        Q4_15\n",
       "0      1   9246173600   7589921150   9368255240   7624915720\n",
       "1      2   8800778760  10286355600   8915442640  10567554430\n",
       "2      3   2098275660   2145458250   1740886520   2484724450\n",
       "3      4  19037166180  17905906380  15196109930  24910401940\n",
       "4      5   4083581330   4300572900   2892899170   5384679730\n",
       "5      6   4971326320   5830997150   4294024490   7259296940\n",
       "6      7   3392573010   3640746470   3851938960   4818652420\n",
       "7      8   8158628490   8860682400   7719928180  11059478870\n",
       "8      9   4021575000   4340479580   3947851350   4985194620"
      ]
     },
     "execution_count": 108,
     "metadata": {},
     "output_type": "execute_result"
    }
   ],
   "source": [
    "a_pro_sub = pro_sub[pro_sub['제휴사']=='A']\n",
    "a_pro_sub.drop('제휴사', axis=1, inplace=True)\n",
    "a_pro_sub = a_pro_sub.set_index('대분류코드')\n",
    "a_pro_sub = a_pro_sub.reset_index()\n",
    "a_pro_sub\n",
    "a_14 = a_pro_sub[['대분류코드','Q1_14','Q2_14','Q3_14','Q4_14']]\n",
    "a_14\n",
    "a_15 = a_pro_sub[['대분류코드','Q1_15','Q2_15','Q3_15','Q4_15']]\n",
    "a_15"
   ]
  },
  {
   "cell_type": "code",
   "execution_count": 139,
   "id": "582f139e",
   "metadata": {
    "scrolled": true
   },
   "outputs": [
    {
     "data": {
      "text/plain": [
       "<AxesSubplot:>"
      ]
     },
     "execution_count": 139,
     "metadata": {},
     "output_type": "execute_result"
    },
    {
     "data": {
      "image/png": "[encoded data removed]",
      "text/plain": [
       "<Figure size 640x480 with 1 Axes>"
      ]
     },
     "metadata": {},
     "output_type": "display_data"
    }
   ],
   "source": [
    "#\n",
    "a_14.plot(kind='bar')"
   ]
  },
  {
   "cell_type": "code",
   "execution_count": 140,
   "id": "e182e41a",
   "metadata": {
    "scrolled": true
   },
   "outputs": [
    {
     "data": {
      "text/plain": [
       "<AxesSubplot:>"
      ]
     },
     "execution_count": 140,
     "metadata": {},
     "output_type": "execute_result"
    },
    {
     "data": {
      "image/png": "[encoded data removed]",
      "text/plain": [
       "<Figure size 640x480 with 1 Axes>"
      ]
     },
     "metadata": {},
     "output_type": "display_data"
    }
   ],
   "source": [
    "a_15.plot(kind='bar')"
   ]
  },
  {
   "cell_type": "code",
   "execution_count": null,
   "id": "9e6a6284",
   "metadata": {},
   "outputs": [],
   "source": [
    "df[['제휴사','total']].groupby('제휴사').sum()"
   ]
  },
  {
   "cell_type": "code",
   "execution_count": null,
   "id": "f3bb3ade",
   "metadata": {},
   "outputs": [],
   "source": []
  },
  {
   "cell_type": "code",
   "execution_count": 8,
   "id": "db0bd4b2",
   "metadata": {
    "scrolled": true
   },
   "outputs": [
    {
     "data": {
      "text/html": [
       "<div>\n",
       "<style scoped>\n",
       "    .dataframe tbody tr th:only-of-type {\n",
       "        vertical-align: middle;\n",
       "    }\n",
       "\n",
       "    .dataframe tbody tr th {\n",
       "        vertical-align: top;\n",
       "    }\n",
       "\n",
       "    .dataframe thead th {\n",
       "        text-align: right;\n",
       "    }\n",
       "</style>\n",
       "<table border=\"1\" class=\"dataframe\">\n",
       "  <thead>\n",
       "    <tr style=\"text-align: right;\">\n",
       "      <th></th>\n",
       "      <th>제휴사</th>\n",
       "      <th>성별</th>\n",
       "      <th>이용Q1_14</th>\n",
       "      <th>이용Q2_14</th>\n",
       "      <th>이용Q3_14</th>\n",
       "      <th>이용Q4_14</th>\n",
       "      <th>이용Q1_15</th>\n",
       "      <th>이용Q2_15</th>\n",
       "      <th>이용Q3_15</th>\n",
       "      <th>이용Q4_15</th>\n",
       "      <th>금액Q1_14</th>\n",
       "      <th>금액Q2_14</th>\n",
       "      <th>금액Q3_14</th>\n",
       "      <th>금액Q4_14</th>\n",
       "      <th>금액Q1_15</th>\n",
       "      <th>금액Q2_15</th>\n",
       "      <th>금액Q3_15</th>\n",
       "      <th>금액Q4_15</th>\n",
       "      <th>총금액</th>\n",
       "    </tr>\n",
       "  </thead>\n",
       "  <tbody>\n",
       "    <tr>\n",
       "      <th>0</th>\n",
       "      <td>A</td>\n",
       "      <td>F</td>\n",
       "      <td>535243</td>\n",
       "      <td>627732</td>\n",
       "      <td>591718</td>\n",
       "      <td>629860</td>\n",
       "      <td>579688</td>\n",
       "      <td>643878</td>\n",
       "      <td>591460</td>\n",
       "      <td>600997</td>\n",
       "      <td>46872027620</td>\n",
       "      <td>49270071750</td>\n",
       "      <td>43905780960</td>\n",
       "      <td>60949348420</td>\n",
       "      <td>51442557320</td>\n",
       "      <td>52468950680</td>\n",
       "      <td>46891471710</td>\n",
       "      <td>64449484970</td>\n",
       "      <td>416249693430</td>\n",
       "    </tr>\n",
       "    <tr>\n",
       "      <th>1</th>\n",
       "      <td>A</td>\n",
       "      <td>M</td>\n",
       "      <td>106697</td>\n",
       "      <td>125664</td>\n",
       "      <td>118866</td>\n",
       "      <td>128076</td>\n",
       "      <td>120483</td>\n",
       "      <td>130352</td>\n",
       "      <td>118540</td>\n",
       "      <td>121064</td>\n",
       "      <td>11147287010</td>\n",
       "      <td>11325381530</td>\n",
       "      <td>10242328570</td>\n",
       "      <td>15395484340</td>\n",
       "      <td>12367521030</td>\n",
       "      <td>12432169200</td>\n",
       "      <td>11035864770</td>\n",
       "      <td>14645414150</td>\n",
       "      <td>98591450600</td>\n",
       "    </tr>\n",
       "    <tr>\n",
       "      <th>2</th>\n",
       "      <td>B</td>\n",
       "      <td>F</td>\n",
       "      <td>1232446</td>\n",
       "      <td>1272658</td>\n",
       "      <td>1334701</td>\n",
       "      <td>1359226</td>\n",
       "      <td>1423978</td>\n",
       "      <td>1485099</td>\n",
       "      <td>1491491</td>\n",
       "      <td>1307429</td>\n",
       "      <td>10570578605</td>\n",
       "      <td>10686204356</td>\n",
       "      <td>10977084593</td>\n",
       "      <td>11127188128</td>\n",
       "      <td>11136051678</td>\n",
       "      <td>10986519540</td>\n",
       "      <td>11609995399</td>\n",
       "      <td>10238334970</td>\n",
       "      <td>87331957269</td>\n",
       "    </tr>\n",
       "    <tr>\n",
       "      <th>3</th>\n",
       "      <td>B</td>\n",
       "      <td>M</td>\n",
       "      <td>273143</td>\n",
       "      <td>286846</td>\n",
       "      <td>299676</td>\n",
       "      <td>300730</td>\n",
       "      <td>317517</td>\n",
       "      <td>330896</td>\n",
       "      <td>331955</td>\n",
       "      <td>290283</td>\n",
       "      <td>3216420869</td>\n",
       "      <td>3537847643</td>\n",
       "      <td>3515056180</td>\n",
       "      <td>2740554717</td>\n",
       "      <td>2850752828</td>\n",
       "      <td>2566014110</td>\n",
       "      <td>2936802763</td>\n",
       "      <td>2526280099</td>\n",
       "      <td>23889729209</td>\n",
       "    </tr>\n",
       "    <tr>\n",
       "      <th>4</th>\n",
       "      <td>C</td>\n",
       "      <td>F</td>\n",
       "      <td>867053</td>\n",
       "      <td>947359</td>\n",
       "      <td>982554</td>\n",
       "      <td>944008</td>\n",
       "      <td>942568</td>\n",
       "      <td>1004800</td>\n",
       "      <td>1001632</td>\n",
       "      <td>894508</td>\n",
       "      <td>4499135743</td>\n",
       "      <td>4481294655</td>\n",
       "      <td>4902153106</td>\n",
       "      <td>4923488868</td>\n",
       "      <td>5187811264</td>\n",
       "      <td>5022071705</td>\n",
       "      <td>5288983064</td>\n",
       "      <td>4932606015</td>\n",
       "      <td>39237544420</td>\n",
       "    </tr>\n",
       "  </tbody>\n",
       "</table>\n",
       "</div>"
      ],
      "text/plain": [
       "  제휴사 성별  이용Q1_14  이용Q2_14  이용Q3_14  이용Q4_14  이용Q1_15  이용Q2_15  이용Q3_15  \\\n",
       "0   A  F   535243   627732   591718   629860   579688   643878   591460   \n",
       "1   A  M   106697   125664   118866   128076   120483   130352   118540   \n",
       "2   B  F  1232446  1272658  1334701  1359226  1423978  1485099  1491491   \n",
       "3   B  M   273143   286846   299676   300730   317517   330896   331955   \n",
       "4   C  F   867053   947359   982554   944008   942568  1004800  1001632   \n",
       "\n",
       "   이용Q4_15      금액Q1_14      금액Q2_14      금액Q3_14      금액Q4_14      금액Q1_15  \\\n",
       "0   600997  46872027620  49270071750  43905780960  60949348420  51442557320   \n",
       "1   121064  11147287010  11325381530  10242328570  15395484340  12367521030   \n",
       "2  1307429  10570578605  10686204356  10977084593  11127188128  11136051678   \n",
       "3   290283   3216420869   3537847643   3515056180   2740554717   2850752828   \n",
       "4   894508   4499135743   4481294655   4902153106   4923488868   5187811264   \n",
       "\n",
       "       금액Q2_15      금액Q3_15      금액Q4_15           총금액  \n",
       "0  52468950680  46891471710  64449484970  416249693430  \n",
       "1  12432169200  11035864770  14645414150   98591450600  \n",
       "2  10986519540  11609995399  10238334970   87331957269  \n",
       "3   2566014110   2936802763   2526280099   23889729209  \n",
       "4   5022071705   5288983064   4932606015   39237544420  "
      ]
     },
     "execution_count": 8,
     "metadata": {},
     "output_type": "execute_result"
    }
   ],
   "source": [
    "# 제휴사 성별\n",
    "import cx_Oracle\n",
    "import pandas as pd\n",
    "\n",
    "db = cx_Oracle.connect(\"c##lm\",\"lm\",'localhost:1521/xe')\n",
    "cursor = db.cursor()\n",
    "cursor.execute(\"select * from A1\")\n",
    "x = cursor.fetchall()\n",
    "df = pd.DataFrame(x)\n",
    "cursor.execute(\"select column_name from user_tab_columns where table_name='A1'\")\n",
    "col = cursor.fetchall()\n",
    "\n",
    "list1 = []\n",
    "for i in col:\n",
    "    for j in i:\n",
    "        list1.append(j)\n",
    "df.columns= list1\n",
    "df.head()"
   ]
  },
  {
   "cell_type": "code",
   "execution_count": 30,
   "id": "a047d6db",
   "metadata": {},
   "outputs": [
    {
     "data": {
      "text/html": [
       "<div>\n",
       "<style scoped>\n",
       "    .dataframe tbody tr th:only-of-type {\n",
       "        vertical-align: middle;\n",
       "    }\n",
       "\n",
       "    .dataframe tbody tr th {\n",
       "        vertical-align: top;\n",
       "    }\n",
       "\n",
       "    .dataframe thead th {\n",
       "        text-align: right;\n",
       "    }\n",
       "</style>\n",
       "<table border=\"1\" class=\"dataframe\">\n",
       "  <thead>\n",
       "    <tr style=\"text-align: right;\">\n",
       "      <th></th>\n",
       "      <th>성별</th>\n",
       "      <th>금액Q1_14</th>\n",
       "      <th>금액Q2_14</th>\n",
       "      <th>금액Q3_14</th>\n",
       "      <th>금액Q4_14</th>\n",
       "      <th>금액Q1_15</th>\n",
       "      <th>금액Q2_15</th>\n",
       "      <th>금액Q3_15</th>\n",
       "      <th>금액Q4_15</th>\n",
       "    </tr>\n",
       "  </thead>\n",
       "  <tbody>\n",
       "    <tr>\n",
       "      <th>0</th>\n",
       "      <td>F</td>\n",
       "      <td>46872027620</td>\n",
       "      <td>49270071750</td>\n",
       "      <td>43905780960</td>\n",
       "      <td>60949348420</td>\n",
       "      <td>51442557320</td>\n",
       "      <td>52468950680</td>\n",
       "      <td>46891471710</td>\n",
       "      <td>64449484970</td>\n",
       "    </tr>\n",
       "    <tr>\n",
       "      <th>1</th>\n",
       "      <td>M</td>\n",
       "      <td>11147287010</td>\n",
       "      <td>11325381530</td>\n",
       "      <td>10242328570</td>\n",
       "      <td>15395484340</td>\n",
       "      <td>12367521030</td>\n",
       "      <td>12432169200</td>\n",
       "      <td>11035864770</td>\n",
       "      <td>14645414150</td>\n",
       "    </tr>\n",
       "  </tbody>\n",
       "</table>\n",
       "</div>"
      ],
      "text/plain": [
       "  성별      금액Q1_14      금액Q2_14      금액Q3_14      금액Q4_14      금액Q1_15  \\\n",
       "0  F  46872027620  49270071750  43905780960  60949348420  51442557320   \n",
       "1  M  11147287010  11325381530  10242328570  15395484340  12367521030   \n",
       "\n",
       "       금액Q2_15      금액Q3_15      금액Q4_15  \n",
       "0  52468950680  46891471710  64449484970  \n",
       "1  12432169200  11035864770  14645414150  "
      ]
     },
     "execution_count": 30,
     "metadata": {},
     "output_type": "execute_result"
    }
   ],
   "source": [
    "dfa = df[df['제휴사']=='A'].copy()\n",
    "dfa.drop('제휴사', axis=1, inplace=True)\n",
    "dfa.drop(dfa.columns[[1,2,3,4,5,6,7,8,17]], axis=1, inplace=True)\n",
    "dfa"
   ]
  },
  {
   "cell_type": "code",
   "execution_count": 39,
   "id": "297d37e0",
   "metadata": {},
   "outputs": [
    {
     "data": {
      "image/png": "[encoded data removed]",
      "text/plain": [
       "<Figure size 800x500 with 1 Axes>"
      ]
     },
     "metadata": {},
     "output_type": "display_data"
    }
   ],
   "source": [
    "import matplotlib.pyplot as plt\n",
    "# 분기별 금액 칼럼 리스트\n",
    "quarter_columns = ['금액Q1_14', '금액Q2_14', '금액Q3_14', '금액Q4_14', '금액Q1_15', '금액Q1_15', '금액Q3_15', '금액Q4_15']\n",
    "\n",
    "male_amounts = dfa[dfa['성별'] == 'M'][quarter_columns].values[0]\n",
    "female_amounts = dfa[dfa['성별'] == 'F'][quarter_columns].values[0]\n",
    "quarters = range(1, len(quarter_columns) + 1)\n",
    "\n",
    "# 선 그래프 그리기\n",
    "plt.figure(figsize=(8, 5))\n",
    "plt.plot(quarters, male_amounts, label='남성')\n",
    "plt.plot(quarters, female_amounts, label='여성')\n",
    "\n",
    "# 그래프 제목 및 레이블 설정\n",
    "plt.title('제휴사 A 분기별 성별 금액 차이')\n",
    "plt.xlabel('분기')\n",
    "plt.ylabel('금액')\n",
    "\n",
    "# 범례 표시\n",
    "plt.legend()\n",
    "\n",
    "# 그래프 출력\n",
    "plt.show()"
   ]
  },
  {
   "cell_type": "code",
   "execution_count": 49,
   "id": "88bfc529",
   "metadata": {},
   "outputs": [
    {
     "data": {
      "text/html": [
       "<div>\n",
       "<style scoped>\n",
       "    .dataframe tbody tr th:only-of-type {\n",
       "        vertical-align: middle;\n",
       "    }\n",
       "\n",
       "    .dataframe tbody tr th {\n",
       "        vertical-align: top;\n",
       "    }\n",
       "\n",
       "    .dataframe thead th {\n",
       "        text-align: right;\n",
       "    }\n",
       "</style>\n",
       "<table border=\"1\" class=\"dataframe\">\n",
       "  <thead>\n",
       "    <tr style=\"text-align: right;\">\n",
       "      <th></th>\n",
       "      <th>성별</th>\n",
       "      <th>금액Q1_14</th>\n",
       "      <th>금액Q2_14</th>\n",
       "      <th>금액Q3_14</th>\n",
       "      <th>금액Q4_14</th>\n",
       "      <th>금액Q1_15</th>\n",
       "      <th>금액Q2_15</th>\n",
       "      <th>금액Q3_15</th>\n",
       "      <th>금액Q4_15</th>\n",
       "    </tr>\n",
       "  </thead>\n",
       "  <tbody>\n",
       "    <tr>\n",
       "      <th>2</th>\n",
       "      <td>F</td>\n",
       "      <td>10570578605</td>\n",
       "      <td>10686204356</td>\n",
       "      <td>10977084593</td>\n",
       "      <td>11127188128</td>\n",
       "      <td>11136051678</td>\n",
       "      <td>10986519540</td>\n",
       "      <td>11609995399</td>\n",
       "      <td>10238334970</td>\n",
       "    </tr>\n",
       "    <tr>\n",
       "      <th>3</th>\n",
       "      <td>M</td>\n",
       "      <td>3216420869</td>\n",
       "      <td>3537847643</td>\n",
       "      <td>3515056180</td>\n",
       "      <td>2740554717</td>\n",
       "      <td>2850752828</td>\n",
       "      <td>2566014110</td>\n",
       "      <td>2936802763</td>\n",
       "      <td>2526280099</td>\n",
       "    </tr>\n",
       "  </tbody>\n",
       "</table>\n",
       "</div>"
      ],
      "text/plain": [
       "  성별      금액Q1_14      금액Q2_14      금액Q3_14      금액Q4_14      금액Q1_15  \\\n",
       "2  F  10570578605  10686204356  10977084593  11127188128  11136051678   \n",
       "3  M   3216420869   3537847643   3515056180   2740554717   2850752828   \n",
       "\n",
       "       금액Q2_15      금액Q3_15      금액Q4_15  \n",
       "2  10986519540  11609995399  10238334970  \n",
       "3   2566014110   2936802763   2526280099  "
      ]
     },
     "execution_count": 49,
     "metadata": {},
     "output_type": "execute_result"
    }
   ],
   "source": [
    "dfb = df[df['제휴사']=='B'].copy()\n",
    "dfb.drop('제휴사', axis=1, inplace=True)\n",
    "dfb.drop(dfb.columns[[1,2,3,4,5,6,7,8,17]], axis=1, inplace=True)\n",
    "dfb"
   ]
  },
  {
   "cell_type": "code",
   "execution_count": 51,
   "id": "420d67ae",
   "metadata": {},
   "outputs": [
    {
     "data": {
      "image/png": "[encoded data removed]",
      "text/plain": [
       "<Figure size 800x500 with 1 Axes>"
      ]
     },
     "metadata": {},
     "output_type": "display_data"
    }
   ],
   "source": [
    "import matplotlib.pyplot as plt\n",
    "# 분기별 금액 칼럼 리스트\n",
    "quarter_columns = ['금액Q1_14', '금액Q2_14', '금액Q3_14', '금액Q4_14', '금액Q1_15', '금액Q1_15', '금액Q3_15', '금액Q4_15']\n",
    "\n",
    "male_amounts = dfb[dfb['성별'] == 'M'][quarter_columns].values[0]\n",
    "female_amounts = dfb[dfb['성별'] == 'F'][quarter_columns].values[0]\n",
    "quarters = range(1, len(quarter_columns) + 1)\n",
    "\n",
    "# 선 그래프 그리기\n",
    "plt.figure(figsize=(8, 5))\n",
    "plt.plot(quarters, male_amounts, label='남성')\n",
    "plt.plot(quarters, female_amounts, label='여성')\n",
    "\n",
    "# 그래프 제목 및 레이블 설정\n",
    "plt.title('제휴사 B 분기별 성별 금액 차이')\n",
    "plt.xlabel('분기')\n",
    "plt.ylabel('금액')\n",
    "\n",
    "# 범례 표시\n",
    "plt.legend()\n",
    "\n",
    "# 그래프 출력\n",
    "plt.show()"
   ]
  },
  {
   "cell_type": "code",
   "execution_count": 53,
   "id": "30664ec3",
   "metadata": {},
   "outputs": [
    {
     "data": {
      "image/png": "[encoded data removed]",
      "text/plain": [
       "<Figure size 800x500 with 1 Axes>"
      ]
     },
     "metadata": {},
     "output_type": "display_data"
    }
   ],
   "source": [
    "dfc = df[df['제휴사']=='C'].copy()\n",
    "dfc.drop('제휴사', axis=1, inplace=True)\n",
    "dfc.drop(dfc.columns[[1,2,3,4,5,6,7,8,17]], axis=1, inplace=True)\n",
    "\n",
    "import matplotlib.pyplot as plt\n",
    "# 분기별 금액 칼럼 리스트\n",
    "quarter_columns = ['금액Q1_14', '금액Q2_14', '금액Q3_14', '금액Q4_14', '금액Q1_15', '금액Q1_15', '금액Q3_15', '금액Q4_15']\n",
    "\n",
    "male_amounts = dfc[dfc['성별'] == 'M'][quarter_columns].values[0]\n",
    "female_amounts = dfc[dfc['성별'] == 'F'][quarter_columns].values[0]\n",
    "quarters = range(1, len(quarter_columns) + 1)\n",
    "\n",
    "# 선 그래프 그리기\n",
    "plt.figure(figsize=(8, 5))\n",
    "plt.plot(quarters, male_amounts, label='남성')\n",
    "plt.plot(quarters, female_amounts, label='여성')\n",
    "\n",
    "# 그래프 제목 및 레이블 설정\n",
    "plt.title('제휴사 C 분기별 성별 금액 차이')\n",
    "plt.xlabel('분기')\n",
    "plt.ylabel('금액')\n",
    "\n",
    "# 범례 표시\n",
    "plt.legend()\n",
    "\n",
    "# 그래프 출력\n",
    "plt.show()"
   ]
  },
  {
   "cell_type": "code",
   "execution_count": 54,
   "id": "dc50bfa5",
   "metadata": {},
   "outputs": [
    {
     "data": {
      "image/png": "[encoded data removed]",
      "text/plain": [
       "<Figure size 800x500 with 1 Axes>"
      ]
     },
     "metadata": {},
     "output_type": "display_data"
    }
   ],
   "source": [
    "dfd = df[df['제휴사']=='D'].copy()\n",
    "dfd.drop('제휴사', axis=1, inplace=True)\n",
    "dfd.drop(dfd.columns[[1,2,3,4,5,6,7,8,17]], axis=1, inplace=True)\n",
    "\n",
    "import matplotlib.pyplot as plt\n",
    "# 분기별 금액 칼럼 리스트\n",
    "quarter_columns = ['금액Q1_14', '금액Q2_14', '금액Q3_14', '금액Q4_14', '금액Q1_15', '금액Q1_15', '금액Q3_15', '금액Q4_15']\n",
    "\n",
    "male_amounts = dfd[dfd['성별'] == 'M'][quarter_columns].values[0]\n",
    "female_amounts = dfd[dfd['성별'] == 'F'][quarter_columns].values[0]\n",
    "quarters = range(1, len(quarter_columns) + 1)\n",
    "\n",
    "# 선 그래프 그리기\n",
    "plt.figure(figsize=(8, 5))\n",
    "plt.plot(quarters, male_amounts, label='남성')\n",
    "plt.plot(quarters, female_amounts, label='여성')\n",
    "\n",
    "# 그래프 제목 및 레이블 설정\n",
    "plt.title('제휴사 D 분기별 성별 금액 차이')\n",
    "plt.xlabel('분기')\n",
    "plt.ylabel('금액')\n",
    "\n",
    "# 범례 표시\n",
    "plt.legend()\n",
    "\n",
    "# 그래프 출력\n",
    "plt.show()"
   ]
  },
  {
   "cell_type": "code",
   "execution_count": 39,
   "id": "9b33ef97",
   "metadata": {
    "scrolled": true
   },
   "outputs": [
    {
     "data": {
      "text/html": [
       "<div>\n",
       "<style scoped>\n",
       "    .dataframe tbody tr th:only-of-type {\n",
       "        vertical-align: middle;\n",
       "    }\n",
       "\n",
       "    .dataframe tbody tr th {\n",
       "        vertical-align: top;\n",
       "    }\n",
       "\n",
       "    .dataframe thead th {\n",
       "        text-align: right;\n",
       "    }\n",
       "</style>\n",
       "<table border=\"1\" class=\"dataframe\">\n",
       "  <thead>\n",
       "    <tr style=\"text-align: right;\">\n",
       "      <th></th>\n",
       "      <th>제휴사</th>\n",
       "      <th>구매금액</th>\n",
       "    </tr>\n",
       "  </thead>\n",
       "  <tbody>\n",
       "    <tr>\n",
       "      <th>0</th>\n",
       "      <td>A</td>\n",
       "      <td>8350</td>\n",
       "    </tr>\n",
       "    <tr>\n",
       "      <th>1</th>\n",
       "      <td>A</td>\n",
       "      <td>19800</td>\n",
       "    </tr>\n",
       "    <tr>\n",
       "      <th>2</th>\n",
       "      <td>A</td>\n",
       "      <td>15000</td>\n",
       "    </tr>\n",
       "    <tr>\n",
       "      <th>3</th>\n",
       "      <td>A</td>\n",
       "      <td>11800</td>\n",
       "    </tr>\n",
       "    <tr>\n",
       "      <th>4</th>\n",
       "      <td>A</td>\n",
       "      <td>12000</td>\n",
       "    </tr>\n",
       "  </tbody>\n",
       "</table>\n",
       "</div>"
      ],
      "text/plain": [
       "  제휴사   구매금액\n",
       "0   A   8350\n",
       "1   A  19800\n",
       "2   A  15000\n",
       "3   A  11800\n",
       "4   A  12000"
      ]
     },
     "execution_count": 39,
     "metadata": {},
     "output_type": "execute_result"
    }
   ],
   "source": [
    "import cx_Oracle\n",
    "import pandas as pd\n",
    "\n",
    "db = cx_Oracle.connect(\"c##lm\",\"lm\",'localhost:1521/xe')\n",
    "cursor = db.cursor()\n",
    "cursor.execute(\"select * from AP14\")\n",
    "x = cursor.fetchall()\n",
    "df = pd.DataFrame(x)\n",
    "cursor.execute(\"select column_name from user_tab_columns where table_name='AP14'\")\n",
    "col = cursor.fetchall()\n",
    "\n",
    "list1 = []\n",
    "for i in col:\n",
    "    for j in i:\n",
    "        list1.append(j)\n",
    "df.columns= list1\n",
    "df.head()"
   ]
  },
  {
   "cell_type": "code",
   "execution_count": 40,
   "id": "8b6715a1",
   "metadata": {},
   "outputs": [
    {
     "data": {
      "text/html": [
       "<div>\n",
       "<style scoped>\n",
       "    .dataframe tbody tr th:only-of-type {\n",
       "        vertical-align: middle;\n",
       "    }\n",
       "\n",
       "    .dataframe tbody tr th {\n",
       "        vertical-align: top;\n",
       "    }\n",
       "\n",
       "    .dataframe thead th {\n",
       "        text-align: right;\n",
       "    }\n",
       "</style>\n",
       "<table border=\"1\" class=\"dataframe\">\n",
       "  <thead>\n",
       "    <tr style=\"text-align: right;\">\n",
       "      <th></th>\n",
       "      <th>구매금액</th>\n",
       "    </tr>\n",
       "  </thead>\n",
       "  <tbody>\n",
       "    <tr>\n",
       "      <th>0</th>\n",
       "      <td>8350</td>\n",
       "    </tr>\n",
       "    <tr>\n",
       "      <th>1</th>\n",
       "      <td>19800</td>\n",
       "    </tr>\n",
       "    <tr>\n",
       "      <th>2</th>\n",
       "      <td>15000</td>\n",
       "    </tr>\n",
       "    <tr>\n",
       "      <th>3</th>\n",
       "      <td>11800</td>\n",
       "    </tr>\n",
       "    <tr>\n",
       "      <th>4</th>\n",
       "      <td>12000</td>\n",
       "    </tr>\n",
       "    <tr>\n",
       "      <th>...</th>\n",
       "      <td>...</td>\n",
       "    </tr>\n",
       "    <tr>\n",
       "      <th>2863851</th>\n",
       "      <td>6720</td>\n",
       "    </tr>\n",
       "    <tr>\n",
       "      <th>2863852</th>\n",
       "      <td>9900</td>\n",
       "    </tr>\n",
       "    <tr>\n",
       "      <th>2863853</th>\n",
       "      <td>4200</td>\n",
       "    </tr>\n",
       "    <tr>\n",
       "      <th>2863854</th>\n",
       "      <td>10000</td>\n",
       "    </tr>\n",
       "    <tr>\n",
       "      <th>2863855</th>\n",
       "      <td>2000</td>\n",
       "    </tr>\n",
       "  </tbody>\n",
       "</table>\n",
       "<p>2863856 rows × 1 columns</p>\n",
       "</div>"
      ],
      "text/plain": [
       "          구매금액\n",
       "0         8350\n",
       "1        19800\n",
       "2        15000\n",
       "3        11800\n",
       "4        12000\n",
       "...        ...\n",
       "2863851   6720\n",
       "2863852   9900\n",
       "2863853   4200\n",
       "2863854  10000\n",
       "2863855   2000\n",
       "\n",
       "[2863856 rows x 1 columns]"
      ]
     },
     "execution_count": 40,
     "metadata": {},
     "output_type": "execute_result"
    }
   ],
   "source": [
    "df.drop('제휴사',axis=1, inplace=True)\n",
    "df"
   ]
  },
  {
   "cell_type": "code",
   "execution_count": 11,
   "id": "b1acd99e",
   "metadata": {
    "collapsed": true
   },
   "outputs": [
    {
     "data": {
      "text/plain": [
       "(array([2.83159e+06, 2.03710e+04, 5.62400e+03, 2.25500e+03, 1.61900e+03,\n",
       "        8.18000e+02, 3.24000e+02, 1.73000e+02, 8.30000e+01, 5.08000e+02,\n",
       "        1.41000e+02, 5.00000e+01, 5.90000e+01, 2.10000e+01, 3.70000e+01,\n",
       "        1.80000e+01, 3.00000e+00, 6.00000e+00, 6.00000e+00, 3.60000e+01,\n",
       "        7.00000e+00, 8.00000e+00, 1.30000e+01, 0.00000e+00, 5.00000e+00,\n",
       "        2.00000e+00, 3.00000e+00, 6.00000e+00, 4.00000e+00, 1.30000e+01,\n",
       "        6.00000e+00, 0.00000e+00, 1.00000e+00, 1.00000e+00, 0.00000e+00,\n",
       "        2.00000e+00, 1.00000e+00, 2.00000e+00, 2.00000e+00, 5.00000e+00,\n",
       "        4.00000e+00, 0.00000e+00, 1.00000e+00, 0.00000e+00, 0.00000e+00,\n",
       "        1.00000e+00, 2.00000e+00, 1.00000e+00, 0.00000e+00, 2.00000e+00,\n",
       "        6.00000e+00, 1.00000e+00, 5.00000e+00, 0.00000e+00, 1.00000e+00,\n",
       "        1.00000e+00, 0.00000e+00, 0.00000e+00, 0.00000e+00, 0.00000e+00,\n",
       "        0.00000e+00, 0.00000e+00, 0.00000e+00, 1.00000e+00, 0.00000e+00,\n",
       "        1.00000e+00, 1.00000e+00, 0.00000e+00, 0.00000e+00, 0.00000e+00,\n",
       "        0.00000e+00, 1.00000e+00, 0.00000e+00, 0.00000e+00, 0.00000e+00,\n",
       "        0.00000e+00, 0.00000e+00, 0.00000e+00, 0.00000e+00, 0.00000e+00,\n",
       "        0.00000e+00, 1.00000e+00, 0.00000e+00, 0.00000e+00, 0.00000e+00,\n",
       "        0.00000e+00, 0.00000e+00, 0.00000e+00, 0.00000e+00, 0.00000e+00,\n",
       "        0.00000e+00, 0.00000e+00, 0.00000e+00, 0.00000e+00, 0.00000e+00,\n",
       "        0.00000e+00, 0.00000e+00, 0.00000e+00, 1.00000e+00, 2.00000e+00]),\n",
       " array([1.00000000e+01, 1.01330990e+06, 2.02660980e+06, 3.03990970e+06,\n",
       "        4.05320960e+06, 5.06650950e+06, 6.07980940e+06, 7.09310930e+06,\n",
       "        8.10640920e+06, 9.11970910e+06, 1.01330090e+07, 1.11463089e+07,\n",
       "        1.21596088e+07, 1.31729087e+07, 1.41862086e+07, 1.51995085e+07,\n",
       "        1.62128084e+07, 1.72261083e+07, 1.82394082e+07, 1.92527081e+07,\n",
       "        2.02660080e+07, 2.12793079e+07, 2.22926078e+07, 2.33059077e+07,\n",
       "        2.43192076e+07, 2.53325075e+07, 2.63458074e+07, 2.73591073e+07,\n",
       "        2.83724072e+07, 2.93857071e+07, 3.03990070e+07, 3.14123069e+07,\n",
       "        3.24256068e+07, 3.34389067e+07, 3.44522066e+07, 3.54655065e+07,\n",
       "        3.64788064e+07, 3.74921063e+07, 3.85054062e+07, 3.95187061e+07,\n",
       "        4.05320060e+07, 4.15453059e+07, 4.25586058e+07, 4.35719057e+07,\n",
       "        4.45852056e+07, 4.55985055e+07, 4.66118054e+07, 4.76251053e+07,\n",
       "        4.86384052e+07, 4.96517051e+07, 5.06650050e+07, 5.16783049e+07,\n",
       "        5.26916048e+07, 5.37049047e+07, 5.47182046e+07, 5.57315045e+07,\n",
       "        5.67448044e+07, 5.77581043e+07, 5.87714042e+07, 5.97847041e+07,\n",
       "        6.07980040e+07, 6.18113039e+07, 6.28246038e+07, 6.38379037e+07,\n",
       "        6.48512036e+07, 6.58645035e+07, 6.68778034e+07, 6.78911033e+07,\n",
       "        6.89044032e+07, 6.99177031e+07, 7.09310030e+07, 7.19443029e+07,\n",
       "        7.29576028e+07, 7.39709027e+07, 7.49842026e+07, 7.59975025e+07,\n",
       "        7.70108024e+07, 7.80241023e+07, 7.90374022e+07, 8.00507021e+07,\n",
       "        8.10640020e+07, 8.20773019e+07, 8.30906018e+07, 8.41039017e+07,\n",
       "        8.51172016e+07, 8.61305015e+07, 8.71438014e+07, 8.81571013e+07,\n",
       "        8.91704012e+07, 9.01837011e+07, 9.11970010e+07, 9.22103009e+07,\n",
       "        9.32236008e+07, 9.42369007e+07, 9.52502006e+07, 9.62635005e+07,\n",
       "        9.72768004e+07, 9.82901003e+07, 9.93034002e+07, 1.00316700e+08,\n",
       "        1.01330000e+08]),\n",
       " <BarContainer object of 100 artists>)"
      ]
     },
     "execution_count": 11,
     "metadata": {},
     "output_type": "execute_result"
    },
    {
     "data": {
      "image/png": "[encoded data removed]",
      "text/plain": [
       "<Figure size 640x480 with 1 Axes>"
      ]
     },
     "metadata": {},
     "output_type": "display_data"
    }
   ],
   "source": [
    "plt.hist(df, bins=100)"
   ]
  },
  {
   "cell_type": "code",
   "execution_count": 13,
   "id": "e7870265",
   "metadata": {},
   "outputs": [
    {
     "data": {
      "text/html": [
       "<div>\n",
       "<style scoped>\n",
       "    .dataframe tbody tr th:only-of-type {\n",
       "        vertical-align: middle;\n",
       "    }\n",
       "\n",
       "    .dataframe tbody tr th {\n",
       "        vertical-align: top;\n",
       "    }\n",
       "\n",
       "    .dataframe thead th {\n",
       "        text-align: right;\n",
       "    }\n",
       "</style>\n",
       "<table border=\"1\" class=\"dataframe\">\n",
       "  <thead>\n",
       "    <tr style=\"text-align: right;\">\n",
       "      <th></th>\n",
       "      <th>구매금액</th>\n",
       "    </tr>\n",
       "  </thead>\n",
       "  <tbody>\n",
       "    <tr>\n",
       "      <th>count</th>\n",
       "      <td>2.863856e+06</td>\n",
       "    </tr>\n",
       "    <tr>\n",
       "      <th>mean</th>\n",
       "      <td>8.698332e+04</td>\n",
       "    </tr>\n",
       "    <tr>\n",
       "      <th>std</th>\n",
       "      <td>4.274053e+05</td>\n",
       "    </tr>\n",
       "    <tr>\n",
       "      <th>min</th>\n",
       "      <td>1.000000e+01</td>\n",
       "    </tr>\n",
       "    <tr>\n",
       "      <th>25%</th>\n",
       "      <td>6.880000e+03</td>\n",
       "    </tr>\n",
       "    <tr>\n",
       "      <th>50%</th>\n",
       "      <td>1.590000e+04</td>\n",
       "    </tr>\n",
       "    <tr>\n",
       "      <th>75%</th>\n",
       "      <td>5.570000e+04</td>\n",
       "    </tr>\n",
       "    <tr>\n",
       "      <th>max</th>\n",
       "      <td>1.013300e+08</td>\n",
       "    </tr>\n",
       "  </tbody>\n",
       "</table>\n",
       "</div>"
      ],
      "text/plain": [
       "               구매금액\n",
       "count  2.863856e+06\n",
       "mean   8.698332e+04\n",
       "std    4.274053e+05\n",
       "min    1.000000e+01\n",
       "25%    6.880000e+03\n",
       "50%    1.590000e+04\n",
       "75%    5.570000e+04\n",
       "max    1.013300e+08"
      ]
     },
     "execution_count": 13,
     "metadata": {},
     "output_type": "execute_result"
    }
   ],
   "source": [
    "df.describe()"
   ]
  },
  {
   "cell_type": "code",
   "execution_count": 41,
   "id": "717cf3ae",
   "metadata": {},
   "outputs": [
    {
     "data": {
      "text/plain": [
       "a    756283\n",
       "c    715273\n",
       "b    676511\n",
       "e    373584\n",
       "d    255666\n",
       "f     50509\n",
       "g     33023\n",
       "h      3007\n",
       "Name: price_cate, dtype: int64"
      ]
     },
     "execution_count": 41,
     "metadata": {},
     "output_type": "execute_result"
    }
   ],
   "source": [
    "def get_cate(price):\n",
    "    cat=''\n",
    "    if price <= 7000 : cat='a'\n",
    "    elif price <= 15900 : cat ='b'\n",
    "    elif price <= 55700 : cat ='c'\n",
    "    elif price <= 100000 : cat ='d'\n",
    "    elif price <= 500000 : cat ='e'\n",
    "    elif price <= 1000000 : cat ='f'\n",
    "    elif price <= 5000000 : cat ='g'\n",
    "    else : cat='h'\n",
    "    return cat\n",
    "\n",
    "df['price_cate']=df['구매금액'].apply(lambda x:get_cate(x))\n",
    "df.price_cate.value_counts()"
   ]
  },
  {
   "cell_type": "code",
   "execution_count": 42,
   "id": "2b3243d1",
   "metadata": {
    "scrolled": false
   },
   "outputs": [
    {
     "data": {
      "text/plain": [
       "Text(0.5, 1.0, '2014 A')"
      ]
     },
     "execution_count": 42,
     "metadata": {},
     "output_type": "execute_result"
    },
    {
     "data": {
      "image/png": "[encoded data removed]",
      "text/plain": [
       "<Figure size 640x480 with 1 Axes>"
      ]
     },
     "metadata": {},
     "output_type": "display_data"
    }
   ],
   "source": [
    "df_s=df.sort_values(by='price_cate')\n",
    "df_s\n",
    "sns.histplot(df_s.price_cate,bins=8)\n",
    "plt.title('2014 A')"
   ]
  },
  {
   "cell_type": "code",
   "execution_count": 32,
   "id": "670fe383",
   "metadata": {},
   "outputs": [
    {
     "name": "stdout",
     "output_type": "stream",
     "text": [
      "     구매금액\n",
      "0   59400\n",
      "1   24800\n",
      "2   14800\n",
      "3  139600\n",
      "4   59800\n",
      "               구매금액\n",
      "count  2.906462e+06\n",
      "mean   9.142849e+04\n",
      "std    4.513419e+05\n",
      "min    1.000000e+01\n",
      "25%    6.900000e+03\n",
      "50%    1.600000e+04\n",
      "75%    5.605000e+04\n",
      "max    9.365400e+07\n"
     ]
    }
   ],
   "source": [
    "import cx_Oracle\n",
    "import pandas as pd\n",
    "\n",
    "db = cx_Oracle.connect(\"c##lm\",\"lm\",'localhost:1521/xe')\n",
    "cursor = db.cursor()\n",
    "cursor.execute(\"select * from AP15\")\n",
    "x = cursor.fetchall()\n",
    "df = pd.DataFrame(x)\n",
    "cursor.execute(\"select column_name from user_tab_columns where table_name='AP15'\")\n",
    "col = cursor.fetchall()\n",
    "\n",
    "list1 = []\n",
    "for i in col:\n",
    "    for j in i:\n",
    "        list1.append(j)\n",
    "df.columns= list1\n",
    "print(df.head())\n",
    "\n",
    "print(df.describe())"
   ]
  },
  {
   "cell_type": "code",
   "execution_count": 34,
   "id": "cab99efd",
   "metadata": {},
   "outputs": [
    {
     "data": {
      "text/plain": [
       "a    761654\n",
       "c    721414\n",
       "b    693735\n",
       "e    381228\n",
       "d    255146\n",
       "f     53654\n",
       "g     36070\n",
       "h      3561\n",
       "Name: price_cate, dtype: int64"
      ]
     },
     "execution_count": 34,
     "metadata": {},
     "output_type": "execute_result"
    }
   ],
   "source": [
    "def get_cate(price):\n",
    "    cat=''\n",
    "    if price <= 7000 : cat='a'\n",
    "    elif price <= 16000 : cat ='b'\n",
    "    elif price <= 56000 : cat ='c'\n",
    "    elif price <= 100000 : cat ='d'\n",
    "    elif price <= 500000 : cat ='e'\n",
    "    elif price <= 1000000 : cat ='f'\n",
    "    elif price <= 5000000 : cat ='g'\n",
    "    else : cat='h'\n",
    "    return cat\n",
    "\n",
    "df['price_cate']=df['구매금액'].apply(lambda x:get_cate(x))\n",
    "df.price_cate.value_counts()"
   ]
  },
  {
   "cell_type": "code",
   "execution_count": 38,
   "id": "f03394b7",
   "metadata": {},
   "outputs": [
    {
     "data": {
      "text/plain": [
       "Text(0.5, 1.0, '2015 A')"
      ]
     },
     "execution_count": 38,
     "metadata": {},
     "output_type": "execute_result"
    },
    {
     "data": {
      "image/png": "[encoded data removed]",
      "text/plain": [
       "<Figure size 640x480 with 1 Axes>"
      ]
     },
     "metadata": {},
     "output_type": "display_data"
    }
   ],
   "source": [
    "df_s=df.sort_values(by='price_cate')\n",
    "df_s\n",
    "sns.histplot(df_s.price_cate,bins=8)\n",
    "plt.title('2015 A')"
   ]
  },
  {
   "cell_type": "code",
   "execution_count": 72,
   "id": "7d4dd6a7",
   "metadata": {},
   "outputs": [
    {
     "name": "stdout",
     "output_type": "stream",
     "text": [
      "   구매금액\n",
      "0  1650\n",
      "1  4500\n",
      "2  3360\n",
      "3  1940\n",
      "4  2000\n",
      "               구매금액\n",
      "count  6.359426e+06\n",
      "mean   8.864155e+03\n",
      "std    1.014776e+05\n",
      "min    6.000000e+00\n",
      "25%    2.250000e+03\n",
      "50%    4.120000e+03\n",
      "75%    7.900000e+03\n",
      "max    4.811200e+07\n"
     ]
    }
   ],
   "source": [
    "import cx_Oracle\n",
    "import pandas as pd\n",
    "\n",
    "db = cx_Oracle.connect(\"c##lm\",\"lm\",'localhost:1521/xe')\n",
    "cursor = db.cursor()\n",
    "cursor.execute(\"select * from BP14\")\n",
    "x = cursor.fetchall()\n",
    "df = pd.DataFrame(x)\n",
    "cursor.execute(\"select column_name from user_tab_columns where table_name='BP14'\")\n",
    "col = cursor.fetchall()\n",
    "\n",
    "list1 = []\n",
    "for i in col:\n",
    "    for j in i:\n",
    "        list1.append(j)\n",
    "df.columns= list1\n",
    "print(df.head())\n",
    "\n",
    "print(df.describe())"
   ]
  },
  {
   "cell_type": "code",
   "execution_count": 46,
   "id": "976c02f8",
   "metadata": {},
   "outputs": [
    {
     "data": {
      "text/plain": [
       "c    1623152\n",
       "a    1591168\n",
       "b    1588689\n",
       "e     942615\n",
       "d     512676\n",
       "f      69892\n",
       "g      28459\n",
       "h       1344\n",
       "i       1126\n",
       "j        305\n",
       "Name: price_cate, dtype: int64"
      ]
     },
     "execution_count": 46,
     "metadata": {},
     "output_type": "execute_result"
    }
   ],
   "source": [
    "def get_cate(price):\n",
    "    cat=''\n",
    "    if price <= 2250 : cat='a'\n",
    "    elif price <= 4120 : cat ='b'\n",
    "    elif price <= 7900 : cat ='c'\n",
    "    elif price <= 10000 : cat ='d'\n",
    "    elif price <= 50000 : cat ='e'\n",
    "    elif price <= 100000 : cat ='f'\n",
    "    elif price <= 500000 : cat ='g'\n",
    "    elif price <= 1000000 : cat ='h'\n",
    "    elif price <= 5000000 : cat ='i'\n",
    "    else : cat='j'\n",
    "    return cat\n",
    "\n",
    "df['price_cate']=df['구매금액'].apply(lambda x:get_cate(x))\n",
    "df.price_cate.value_counts()"
   ]
  },
  {
   "cell_type": "code",
   "execution_count": 49,
   "id": "8dfa7081",
   "metadata": {},
   "outputs": [
    {
     "data": {
      "text/plain": [
       "Text(0.5, 1.0, '2014 B')"
      ]
     },
     "execution_count": 49,
     "metadata": {},
     "output_type": "execute_result"
    },
    {
     "data": {
      "image/png": "[encoded data removed]",
      "text/plain": [
       "<Figure size 640x480 with 1 Axes>"
      ]
     },
     "metadata": {},
     "output_type": "display_data"
    }
   ],
   "source": [
    "df_s=df.sort_values(by='price_cate')\n",
    "df_s\n",
    "sns.histplot(df_s.price_cate,bins=10)\n",
    "plt.title('2014 B')"
   ]
  },
  {
   "cell_type": "code",
   "execution_count": 50,
   "id": "d372248b",
   "metadata": {},
   "outputs": [
    {
     "name": "stdout",
     "output_type": "stream",
     "text": [
      "    구매금액\n",
      "0   2000\n",
      "1   1250\n",
      "2  23790\n",
      "3  25600\n",
      "4  12800\n",
      "               구매금액\n",
      "count  6.978648e+06\n",
      "mean   7.859796e+03\n",
      "std    4.060363e+04\n",
      "min    1.000000e+01\n",
      "25%    2.200000e+03\n",
      "50%    4.000000e+03\n",
      "75%    7.800000e+03\n",
      "max    2.180000e+07\n"
     ]
    }
   ],
   "source": [
    "import cx_Oracle\n",
    "import pandas as pd\n",
    "\n",
    "db = cx_Oracle.connect(\"c##lm\",\"lm\",'localhost:1521/xe')\n",
    "cursor = db.cursor()\n",
    "cursor.execute(\"select * from BP15\")\n",
    "x = cursor.fetchall()\n",
    "df = pd.DataFrame(x)\n",
    "cursor.execute(\"select column_name from user_tab_columns where table_name='BP15'\")\n",
    "col = cursor.fetchall()\n",
    "\n",
    "list1 = []\n",
    "for i in col:\n",
    "    for j in i:\n",
    "        list1.append(j)\n",
    "df.columns= list1\n",
    "print(df.head())\n",
    "\n",
    "print(df.describe())"
   ]
  },
  {
   "cell_type": "code",
   "execution_count": 51,
   "id": "6e41a58b",
   "metadata": {},
   "outputs": [
    {
     "data": {
      "text/plain": [
       "a    1788133\n",
       "b    1770285\n",
       "c    1745199\n",
       "e    1020017\n",
       "d     555979\n",
       "f      69218\n",
       "g      28409\n",
       "h        861\n",
       "i        478\n",
       "j         69\n",
       "Name: price_cate, dtype: int64"
      ]
     },
     "execution_count": 51,
     "metadata": {},
     "output_type": "execute_result"
    }
   ],
   "source": [
    "def get_cate(price):\n",
    "    cat=''\n",
    "    if price <= 2250 : cat='a'\n",
    "    elif price <= 4120 : cat ='b'\n",
    "    elif price <= 7900 : cat ='c'\n",
    "    elif price <= 10000 : cat ='d'\n",
    "    elif price <= 50000 : cat ='e'\n",
    "    elif price <= 100000 : cat ='f'\n",
    "    elif price <= 500000 : cat ='g'\n",
    "    elif price <= 1000000 : cat ='h'\n",
    "    elif price <= 5000000 : cat ='i'\n",
    "    else : cat='j'\n",
    "    return cat\n",
    "\n",
    "df['price_cate']=df['구매금액'].apply(lambda x:get_cate(x))\n",
    "df.price_cate.value_counts()\n",
    "\n"
   ]
  },
  {
   "cell_type": "code",
   "execution_count": 53,
   "id": "595e3d53",
   "metadata": {},
   "outputs": [
    {
     "data": {
      "text/plain": [
       "Text(0.5, 1.0, '2015 B')"
      ]
     },
     "execution_count": 53,
     "metadata": {},
     "output_type": "execute_result"
    },
    {
     "data": {
      "image/png": "[encoded data removed]",
      "text/plain": [
       "<Figure size 640x480 with 1 Axes>"
      ]
     },
     "metadata": {},
     "output_type": "display_data"
    }
   ],
   "source": [
    "df_s=df.sort_values(by='price_cate')\n",
    "df_s\n",
    "sns.histplot(df_s.price_cate,bins=10)\n",
    "plt.title('2015 B')"
   ]
  },
  {
   "cell_type": "code",
   "execution_count": 55,
   "id": "32cc6dca",
   "metadata": {},
   "outputs": [
    {
     "name": "stdout",
     "output_type": "stream",
     "text": [
      "    구매금액\n",
      "0   1490\n",
      "1   1290\n",
      "2   9836\n",
      "3  22767\n",
      "4   3650\n",
      "               구매금액\n",
      "count  4.612951e+06\n",
      "mean   5.161770e+03\n",
      "std    4.475532e+04\n",
      "min    1.000000e+01\n",
      "25%    1.443000e+03\n",
      "50%    2.800000e+03\n",
      "75%    4.990000e+03\n",
      "max    2.397600e+07\n"
     ]
    }
   ],
   "source": [
    "import cx_Oracle\n",
    "import pandas as pd\n",
    "\n",
    "db = cx_Oracle.connect(\"c##lm\",\"lm\",'localhost:1521/xe')\n",
    "cursor = db.cursor()\n",
    "cursor.execute(\"select * from CP14\")\n",
    "x = cursor.fetchall()\n",
    "df = pd.DataFrame(x)\n",
    "cursor.execute(\"select column_name from user_tab_columns where table_name='CP14'\")\n",
    "col = cursor.fetchall()\n",
    "\n",
    "list1 = []\n",
    "for i in col:\n",
    "    for j in i:\n",
    "        list1.append(j)\n",
    "df.columns= list1\n",
    "print(df.head())\n",
    "\n",
    "print(df.describe())"
   ]
  },
  {
   "cell_type": "code",
   "execution_count": 57,
   "id": "21f11358",
   "metadata": {},
   "outputs": [
    {
     "data": {
      "text/plain": [
       "b    1408989\n",
       "a    1289208\n",
       "c     938011\n",
       "d     781751\n",
       "e     326261\n",
       "f      14870\n",
       "g       4989\n",
       "i       1220\n",
       "h        878\n",
       "j        108\n",
       "Name: price_cate, dtype: int64"
      ]
     },
     "execution_count": 57,
     "metadata": {},
     "output_type": "execute_result"
    }
   ],
   "source": [
    "def get_cate(price):\n",
    "    cat=''\n",
    "    if price <= 1500 : cat='a'\n",
    "    elif price <= 3000 : cat ='b'\n",
    "    elif price <= 5000 : cat ='c'\n",
    "    elif price <= 10000 : cat ='d'\n",
    "    elif price <= 50000 : cat ='e'\n",
    "    elif price <= 100000 : cat ='f'\n",
    "    elif price <= 500000 : cat ='g'\n",
    "    elif price <= 1000000 : cat ='h'\n",
    "    elif price <= 5000000 : cat ='i'\n",
    "    else : cat='j'\n",
    "    return cat\n",
    "\n",
    "df['price_cate']=df['구매금액'].apply(lambda x:get_cate(x))\n",
    "df.price_cate.value_counts()"
   ]
  },
  {
   "cell_type": "code",
   "execution_count": 58,
   "id": "875dec2b",
   "metadata": {},
   "outputs": [
    {
     "data": {
      "text/plain": [
       "Text(0.5, 1.0, '2014 C')"
      ]
     },
     "execution_count": 58,
     "metadata": {},
     "output_type": "execute_result"
    },
    {
     "data": {
      "image/png": "[encoded data removed]",
      "text/plain": [
       "<Figure size 640x480 with 1 Axes>"
      ]
     },
     "metadata": {},
     "output_type": "display_data"
    }
   ],
   "source": [
    "df_s=df.sort_values(by='price_cate')\n",
    "df_s\n",
    "sns.histplot(df_s.price_cate,bins=10)\n",
    "plt.title('2014 C')"
   ]
  },
  {
   "cell_type": "code",
   "execution_count": 59,
   "id": "38f57e81",
   "metadata": {},
   "outputs": [
    {
     "name": "stdout",
     "output_type": "stream",
     "text": [
      "   구매금액\n",
      "0  2050\n",
      "1  3680\n",
      "2  2600\n",
      "3  2980\n",
      "4  5300\n",
      "               구매금액\n",
      "count  4.766285e+06\n",
      "mean   5.507429e+03\n",
      "std    5.789565e+04\n",
      "min    1.000000e+00\n",
      "25%    1.480000e+03\n",
      "50%    2.800000e+03\n",
      "75%    4.990000e+03\n",
      "max    1.713600e+07\n"
     ]
    }
   ],
   "source": [
    "import cx_Oracle\n",
    "import pandas as pd\n",
    "\n",
    "db = cx_Oracle.connect(\"c##lm\",\"lm\",'localhost:1521/xe')\n",
    "cursor = db.cursor()\n",
    "cursor.execute(\"select * from CP15\")\n",
    "x = cursor.fetchall()\n",
    "df = pd.DataFrame(x)\n",
    "cursor.execute(\"select column_name from user_tab_columns where table_name='CP15'\")\n",
    "col = cursor.fetchall()\n",
    "\n",
    "list1 = []\n",
    "for i in col:\n",
    "    for j in i:\n",
    "        list1.append(j)\n",
    "df.columns= list1\n",
    "print(df.head())\n",
    "\n",
    "print(df.describe())"
   ]
  },
  {
   "cell_type": "code",
   "execution_count": 60,
   "id": "6a0b4997",
   "metadata": {},
   "outputs": [
    {
     "data": {
      "text/plain": [
       "b    1408989\n",
       "a    1289208\n",
       "c     938011\n",
       "d     781751\n",
       "e     326261\n",
       "f      14870\n",
       "g       4989\n",
       "i       1220\n",
       "h        878\n",
       "j        108\n",
       "Name: price_cate, dtype: int64"
      ]
     },
     "execution_count": 60,
     "metadata": {},
     "output_type": "execute_result"
    }
   ],
   "source": [
    "def get_cate(price):\n",
    "    cat=''\n",
    "    if price <= 1500 : cat='a'\n",
    "    elif price <= 3000 : cat ='b'\n",
    "    elif price <= 5000 : cat ='c'\n",
    "    elif price <= 10000 : cat ='d'\n",
    "    elif price <= 50000 : cat ='e'\n",
    "    elif price <= 100000 : cat ='f'\n",
    "    elif price <= 500000 : cat ='g'\n",
    "    elif price <= 1000000 : cat ='h'\n",
    "    elif price <= 5000000 : cat ='i'\n",
    "    else : cat='j'\n",
    "    return cat\n",
    "\n",
    "df['price_cate']=df['구매금액'].apply(lambda x:get_cate(x))\n",
    "df.price_cate.value_counts()"
   ]
  },
  {
   "cell_type": "code",
   "execution_count": 61,
   "id": "14144cfd",
   "metadata": {},
   "outputs": [
    {
     "data": {
      "text/plain": [
       "Text(0.5, 1.0, '2015 C')"
      ]
     },
     "execution_count": 61,
     "metadata": {},
     "output_type": "execute_result"
    },
    {
     "data": {
      "image/png": "[encoded data removed]",
      "text/plain": [
       "<Figure size 640x480 with 1 Axes>"
      ]
     },
     "metadata": {},
     "output_type": "display_data"
    }
   ],
   "source": [
    "df_s=df.sort_values(by='price_cate')\n",
    "df_s\n",
    "sns.histplot(df_s.price_cate,bins=10)\n",
    "plt.title('2015 C')"
   ]
  },
  {
   "cell_type": "code",
   "execution_count": 62,
   "id": "3f76faa9",
   "metadata": {},
   "outputs": [
    {
     "name": "stdout",
     "output_type": "stream",
     "text": [
      "   구매금액\n",
      "0  5500\n",
      "1  6500\n",
      "2  8000\n",
      "3  4000\n",
      "4  2000\n",
      "                구매금액\n",
      "count   35281.000000\n",
      "mean     8849.015164\n",
      "std     14077.265761\n",
      "min       100.000000\n",
      "25%      1750.000000\n",
      "50%      3600.000000\n",
      "75%      9900.000000\n",
      "max    324000.000000\n"
     ]
    }
   ],
   "source": [
    "import cx_Oracle\n",
    "import pandas as pd\n",
    "\n",
    "db = cx_Oracle.connect(\"c##lm\",\"lm\",'localhost:1521/xe')\n",
    "cursor = db.cursor()\n",
    "cursor.execute(\"select * from DP14\")\n",
    "x = cursor.fetchall()\n",
    "df = pd.DataFrame(x)\n",
    "cursor.execute(\"select column_name from user_tab_columns where table_name='DP14'\")\n",
    "col = cursor.fetchall()\n",
    "\n",
    "list1 = []\n",
    "for i in col:\n",
    "    for j in i:\n",
    "        list1.append(j)\n",
    "df.columns= list1\n",
    "print(df.head())\n",
    "\n",
    "print(df.describe())"
   ]
  },
  {
   "cell_type": "code",
   "execution_count": 67,
   "id": "28ba5c34",
   "metadata": {},
   "outputs": [
    {
     "data": {
      "text/plain": [
       "a    19401\n",
       "c    18461\n",
       "b    15821\n",
       "d    15282\n",
       "e      971\n",
       "f      185\n",
       "Name: price_cate, dtype: int64"
      ]
     },
     "execution_count": 67,
     "metadata": {},
     "output_type": "execute_result"
    }
   ],
   "source": [
    "def get_cate(price):\n",
    "    cat=''\n",
    "    if price <= 1750 : cat='a'\n",
    "    elif price <= 3600 : cat ='b'\n",
    "    elif price <= 10000 : cat ='c'\n",
    "    elif price <= 50000 : cat ='d'\n",
    "    elif price <= 100000 : cat ='e'\n",
    "    else : cat='f'\n",
    "    return cat\n",
    "\n",
    "df['price_cate']=df['구매금액'].apply(lambda x:get_cate(x))\n",
    "df.price_cate.value_counts()"
   ]
  },
  {
   "cell_type": "code",
   "execution_count": 68,
   "id": "81ba329d",
   "metadata": {},
   "outputs": [
    {
     "data": {
      "text/plain": [
       "Text(0.5, 1.0, '2014 D')"
      ]
     },
     "execution_count": 68,
     "metadata": {},
     "output_type": "execute_result"
    },
    {
     "data": {
      "image/png": "[encoded data removed]",
      "text/plain": [
       "<Figure size 640x480 with 1 Axes>"
      ]
     },
     "metadata": {},
     "output_type": "display_data"
    }
   ],
   "source": [
    "df_s=df.sort_values(by='price_cate')\n",
    "df_s\n",
    "sns.histplot(df_s.price_cate,bins=10)\n",
    "plt.title('2014 D')"
   ]
  },
  {
   "cell_type": "code",
   "execution_count": 69,
   "id": "85607aee",
   "metadata": {},
   "outputs": [
    {
     "name": "stdout",
     "output_type": "stream",
     "text": [
      "   구매금액\n",
      "0  4500\n",
      "1  7000\n",
      "2   900\n",
      "3  4000\n",
      "4  1000\n",
      "                구매금액\n",
      "count   70121.000000\n",
      "mean     8316.387958\n",
      "std     12853.868177\n",
      "min       100.000000\n",
      "25%      1500.000000\n",
      "50%      3600.000000\n",
      "75%      9900.000000\n",
      "max    306400.000000\n"
     ]
    }
   ],
   "source": [
    "import cx_Oracle\n",
    "import pandas as pd\n",
    "\n",
    "db = cx_Oracle.connect(\"c##lm\",\"lm\",'localhost:1521/xe')\n",
    "cursor = db.cursor()\n",
    "cursor.execute(\"select * from DP15\")\n",
    "x = cursor.fetchall()\n",
    "df = pd.DataFrame(x)\n",
    "cursor.execute(\"select column_name from user_tab_columns where table_name='DP15'\")\n",
    "col = cursor.fetchall()\n",
    "\n",
    "list1 = []\n",
    "for i in col:\n",
    "    for j in i:\n",
    "        list1.append(j)\n",
    "df.columns= list1\n",
    "print(df.head())\n",
    "\n",
    "print(df.describe())"
   ]
  },
  {
   "cell_type": "code",
   "execution_count": 70,
   "id": "dba18dbf",
   "metadata": {},
   "outputs": [
    {
     "data": {
      "text/plain": [
       "a    19401\n",
       "c    18461\n",
       "b    15821\n",
       "d    15282\n",
       "e      971\n",
       "f      185\n",
       "Name: price_cate, dtype: int64"
      ]
     },
     "execution_count": 70,
     "metadata": {},
     "output_type": "execute_result"
    }
   ],
   "source": [
    "def get_cate(price):\n",
    "    cat=''\n",
    "    if price <= 1750 : cat='a'\n",
    "    elif price <= 3600 : cat ='b'\n",
    "    elif price <= 10000 : cat ='c'\n",
    "    elif price <= 50000 : cat ='d'\n",
    "    elif price <= 100000 : cat ='e'\n",
    "    else : cat='f'\n",
    "    return cat\n",
    "\n",
    "df['price_cate']=df['구매금액'].apply(lambda x:get_cate(x))\n",
    "df.price_cate.value_counts()"
   ]
  },
  {
   "cell_type": "code",
   "execution_count": 71,
   "id": "d9971926",
   "metadata": {},
   "outputs": [
    {
     "data": {
      "text/plain": [
       "Text(0.5, 1.0, '2015 D')"
      ]
     },
     "execution_count": 71,
     "metadata": {},
     "output_type": "execute_result"
    },
    {
     "data": {
      "image/png": "[encoded data removed]",
      "text/plain": [
       "<Figure size 640x480 with 1 Axes>"
      ]
     },
     "metadata": {},
     "output_type": "display_data"
    }
   ],
   "source": [
    "df_s=df.sort_values(by='price_cate')\n",
    "df_s\n",
    "sns.histplot(df_s.price_cate,bins=10)\n",
    "plt.title('2015 D')"
   ]
  },
  {
   "cell_type": "code",
   "execution_count": 75,
   "id": "2d332d9c",
   "metadata": {},
   "outputs": [
    {
     "data": {
      "text/html": [
       "<div>\n",
       "<style scoped>\n",
       "    .dataframe tbody tr th:only-of-type {\n",
       "        vertical-align: middle;\n",
       "    }\n",
       "\n",
       "    .dataframe tbody tr th {\n",
       "        vertical-align: top;\n",
       "    }\n",
       "\n",
       "    .dataframe thead th {\n",
       "        text-align: right;\n",
       "    }\n",
       "</style>\n",
       "<table border=\"1\" class=\"dataframe\">\n",
       "  <thead>\n",
       "    <tr style=\"text-align: right;\">\n",
       "      <th></th>\n",
       "      <th>고객번호</th>\n",
       "      <th>Q2_DIFF</th>\n",
       "      <th>Q3_DIFF</th>\n",
       "      <th>Q4_DIFF</th>\n",
       "      <th>Q5_DIFF</th>\n",
       "      <th>Q6_DIFF</th>\n",
       "      <th>Q7_DIFF</th>\n",
       "      <th>Q8_DIFF</th>\n",
       "      <th>구매차이합</th>\n",
       "      <th>구매감소여부</th>\n",
       "    </tr>\n",
       "  </thead>\n",
       "  <tbody>\n",
       "    <tr>\n",
       "      <th>0</th>\n",
       "      <td>00001</td>\n",
       "      <td>1642175</td>\n",
       "      <td>-2215</td>\n",
       "      <td>12553212</td>\n",
       "      <td>-14031777</td>\n",
       "      <td>-707605</td>\n",
       "      <td>-788800</td>\n",
       "      <td>-2510642</td>\n",
       "      <td>-3845652</td>\n",
       "      <td>1</td>\n",
       "    </tr>\n",
       "    <tr>\n",
       "      <th>1</th>\n",
       "      <td>00002</td>\n",
       "      <td>-3923710</td>\n",
       "      <td>4641420</td>\n",
       "      <td>-7760260</td>\n",
       "      <td>11400560</td>\n",
       "      <td>-9171350</td>\n",
       "      <td>4532470</td>\n",
       "      <td>-1841380</td>\n",
       "      <td>-2122250</td>\n",
       "      <td>1</td>\n",
       "    </tr>\n",
       "    <tr>\n",
       "      <th>2</th>\n",
       "      <td>00003</td>\n",
       "      <td>245651</td>\n",
       "      <td>99755</td>\n",
       "      <td>-253822</td>\n",
       "      <td>-115056</td>\n",
       "      <td>33660</td>\n",
       "      <td>108047</td>\n",
       "      <td>-162916</td>\n",
       "      <td>-44681</td>\n",
       "      <td>1</td>\n",
       "    </tr>\n",
       "    <tr>\n",
       "      <th>3</th>\n",
       "      <td>00004</td>\n",
       "      <td>2422820</td>\n",
       "      <td>-1298053</td>\n",
       "      <td>-611310</td>\n",
       "      <td>-85808</td>\n",
       "      <td>182353</td>\n",
       "      <td>207467</td>\n",
       "      <td>-516967</td>\n",
       "      <td>300502</td>\n",
       "      <td>0</td>\n",
       "    </tr>\n",
       "    <tr>\n",
       "      <th>4</th>\n",
       "      <td>00005</td>\n",
       "      <td>-830510</td>\n",
       "      <td>-487530</td>\n",
       "      <td>-1428850</td>\n",
       "      <td>1725990</td>\n",
       "      <td>-1313930</td>\n",
       "      <td>-810500</td>\n",
       "      <td>2616260</td>\n",
       "      <td>-529070</td>\n",
       "      <td>1</td>\n",
       "    </tr>\n",
       "  </tbody>\n",
       "</table>\n",
       "</div>"
      ],
      "text/plain": [
       "    고객번호  Q2_DIFF  Q3_DIFF   Q4_DIFF   Q5_DIFF  Q6_DIFF  Q7_DIFF  Q8_DIFF  \\\n",
       "0  00001  1642175    -2215  12553212 -14031777  -707605  -788800 -2510642   \n",
       "1  00002 -3923710  4641420  -7760260  11400560 -9171350  4532470 -1841380   \n",
       "2  00003   245651    99755   -253822   -115056    33660   108047  -162916   \n",
       "3  00004  2422820 -1298053   -611310    -85808   182353   207467  -516967   \n",
       "4  00005  -830510  -487530  -1428850   1725990 -1313930  -810500  2616260   \n",
       "\n",
       "     구매차이합  구매감소여부  \n",
       "0 -3845652       1  \n",
       "1 -2122250       1  \n",
       "2   -44681       1  \n",
       "3   300502       0  \n",
       "4  -529070       1  "
      ]
     },
     "execution_count": 75,
     "metadata": {},
     "output_type": "execute_result"
    }
   ],
   "source": [
    "import cx_Oracle\n",
    "import pandas as pd\n",
    "\n",
    "db = cx_Oracle.connect(\"c##lm\",\"lm\",'localhost:1521/xe')\n",
    "cursor = db.cursor()\n",
    "cursor.execute(\"select * from CUS_Q_DIFF\")\n",
    "x = cursor.fetchall()\n",
    "df = pd.DataFrame(x)\n",
    "cursor.execute(\"select column_name from user_tab_columns where table_name='CUS_Q_DIFF'\")\n",
    "col = cursor.fetchall()\n",
    "\n",
    "list1 = []\n",
    "for i in col:\n",
    "    for j in i:\n",
    "        list1.append(j)\n",
    "df.columns= list1\n",
    "df.head()\n"
   ]
  },
  {
   "cell_type": "code",
   "execution_count": 80,
   "id": "994ee2c3",
   "metadata": {},
   "outputs": [
    {
     "data": {
      "image/png": "[encoded data removed]",
      "text/plain": [
       "<Figure size 640x480 with 1 Axes>"
      ]
     },
     "metadata": {},
     "output_type": "display_data"
    }
   ],
   "source": [
    "counts = df['구매감소여부'].value_counts()\n",
    "\n",
    "plt.pie(counts, labels=counts.index, autopct='%1.1f%%')\n",
    "plt.title('구매감소여부 비율')\n",
    "plt.legend(['증가', '감소'])\n",
    "plt.show()"
   ]
  },
  {
   "cell_type": "code",
   "execution_count": 81,
   "id": "9a8bf99a",
   "metadata": {},
   "outputs": [
    {
     "data": {
      "text/plain": [
       "0    11213\n",
       "1     8170\n",
       "Name: 구매감소여부, dtype: int64"
      ]
     },
     "execution_count": 81,
     "metadata": {},
     "output_type": "execute_result"
    }
   ],
   "source": [
    "counts"
   ]
  },
  {
   "cell_type": "code",
   "execution_count": 83,
   "id": "a7691e58",
   "metadata": {},
   "outputs": [
    {
     "data": {
      "text/plain": [
       "57.84966207501419"
      ]
     },
     "execution_count": 83,
     "metadata": {},
     "output_type": "execute_result"
    }
   ],
   "source": [
    "11213/19383*100"
   ]
  },
  {
   "cell_type": "code",
   "execution_count": null,
   "id": "518c7c8f",
   "metadata": {},
   "outputs": [],
   "source": [
    "counts = df['구매감소여부'].value_counts()\n",
    "\n",
    "plt.bar(counts, labels=counts.index, autopct='%1.1f%%')\n",
    "plt.bar(counts)\n",
    "plt.title('구매감소여부 비율')\n",
    "plt.legend(['증가', '감소'])\n",
    "plt.show()"
   ]
  },
  {
   "cell_type": "code",
   "execution_count": 2,
   "id": "b345dc0e",
   "metadata": {},
   "outputs": [
    {
     "data": {
      "text/html": [
       "<div>\n",
       "<style scoped>\n",
       "    .dataframe tbody tr th:only-of-type {\n",
       "        vertical-align: middle;\n",
       "    }\n",
       "\n",
       "    .dataframe tbody tr th {\n",
       "        vertical-align: top;\n",
       "    }\n",
       "\n",
       "    .dataframe thead th {\n",
       "        text-align: right;\n",
       "    }\n",
       "</style>\n",
       "<table border=\"1\" class=\"dataframe\">\n",
       "  <thead>\n",
       "    <tr style=\"text-align: right;\">\n",
       "      <th></th>\n",
       "      <th>구매감소고객</th>\n",
       "      <th>구매증가고객</th>\n",
       "      <th>구매감소금액</th>\n",
       "      <th>구매증가금액</th>\n",
       "      <th>퍼센트</th>\n",
       "    </tr>\n",
       "  </thead>\n",
       "  <tbody>\n",
       "    <tr>\n",
       "      <th>0</th>\n",
       "      <td>8170</td>\n",
       "      <td>11213</td>\n",
       "      <td>19976846970</td>\n",
       "      <td>40873699442</td>\n",
       "      <td>48.87</td>\n",
       "    </tr>\n",
       "  </tbody>\n",
       "</table>\n",
       "</div>"
      ],
      "text/plain": [
       "   구매감소고객  구매증가고객       구매감소금액       구매증가금액    퍼센트\n",
       "0    8170   11213  19976846970  40873699442  48.87"
      ]
     },
     "execution_count": 2,
     "metadata": {},
     "output_type": "execute_result"
    }
   ],
   "source": [
    "import cx_Oracle\n",
    "import pandas as pd\n",
    "\n",
    "db = cx_Oracle.connect(\"c##lm\",\"lm\",'localhost:1521/xe')\n",
    "cursor = db.cursor()\n",
    "cursor.execute(\"select * from CUS_Q_DF\")\n",
    "x = cursor.fetchall()\n",
    "df = pd.DataFrame(x)\n",
    "cursor.execute(\"select column_name from user_tab_columns where table_name='CUS_Q_DF'\")\n",
    "col = cursor.fetchall()\n",
    "\n",
    "list1 = []\n",
    "for i in col:\n",
    "    for j in i:\n",
    "        list1.append(j)\n",
    "df.columns= list1\n",
    "df.head()"
   ]
  },
  {
   "cell_type": "code",
   "execution_count": 6,
   "id": "41b90feb",
   "metadata": {},
   "outputs": [],
   "source": [
    "import matplotlib.pyplot as plt\n",
    "import seaborn as sns"
   ]
  },
  {
   "cell_type": "code",
   "execution_count": 12,
   "id": "464d3e36",
   "metadata": {},
   "outputs": [
    {
     "data": {
      "text/plain": [
       "<AxesSubplot:>"
      ]
     },
     "execution_count": 12,
     "metadata": {},
     "output_type": "execute_result"
    },
    {
     "data": {
      "image/png": "[encoded data removed]",
      "text/plain": [
       "<Figure size 640x480 with 1 Axes>"
      ]
     },
     "metadata": {},
     "output_type": "display_data"
    }
   ],
   "source": [
    "d1 = [8170,11213]\n",
    "d2 = [19976846970,40873699442 ]\n",
    "a1 = ['구매감소고객','구매증가고객']\n",
    "a2 = ['구매감소금액','구매증가금액']\n",
    "\n",
    "sns.barplot(y= d1, x=a1)"
   ]
  },
  {
   "cell_type": "code",
   "execution_count": 13,
   "id": "0e4e761e",
   "metadata": {
    "scrolled": true
   },
   "outputs": [
    {
     "data": {
      "text/plain": [
       "<AxesSubplot:>"
      ]
     },
     "execution_count": 13,
     "metadata": {},
     "output_type": "execute_result"
    },
    {
     "data": {
      "image/png": "[encoded data removed]",
      "text/plain": [
       "<Figure size 640x480 with 1 Axes>"
      ]
     },
     "metadata": {},
     "output_type": "display_data"
    }
   ],
   "source": [
    "sns.barplot(y= d2, x=a2)"
   ]
  },
  {
   "cell_type": "code",
   "execution_count": 14,
   "id": "c4f31ef8",
   "metadata": {},
   "outputs": [
    {
     "data": {
      "image/png": "[encoded data removed]",
      "text/plain": [
       "<Figure size 640x480 with 1 Axes>"
      ]
     },
     "metadata": {},
     "output_type": "display_data"
    }
   ],
   "source": [
    "import matplotlib.pyplot as plt\n",
    "\n",
    "data = [8170, 11213]\n",
    "labels = ['구매감소고객', '구매증가고객']\n",
    "\n",
    "# 데이터를 퍼센트로 변환\n",
    "total = sum(data)\n",
    "percentages = [(value / total) * 100 for value in data]\n",
    "\n",
    "# 파이차트 그리기\n",
    "plt.pie(percentages, labels=labels, autopct='%1.1f%%')\n",
    "plt.axis('equal')  # 원형으로 표시\n",
    "plt.show()"
   ]
  },
  {
   "cell_type": "code",
   "execution_count": null,
   "id": "f31d3d86",
   "metadata": {},
   "outputs": [],
   "source": [
    "fig, (ax1, ax2) = plt.subplots(1, 2, figsize = (10, 10))\n",
    "\n",
    "ax1.pie(df4.iloc[0].abs(), labels = df4.columns,\n",
    "           autopct='%1.1f%%', startangle=90)\n",
    "\n",
    "ax1.set_title('구매감소고객의 감소금액 비율')\n",
    "\n",
    "ax2.pie(df7.iloc[0].abs(), labels = df7.columns,\n",
    "           autopct='%1.1f%%', startangle=90)\n",
    "\n",
    "ax2.set_title('구매증가고객의 증가금액 비율')\n",
    "\n",
    "plt.show()"
   ]
  },
  {
   "cell_type": "code",
   "execution_count": 44,
   "id": "fdbf08b6",
   "metadata": {},
   "outputs": [
    {
     "data": {
      "image/png": "[encoded data removed]",
      "text/plain": [
       "<Figure size 800x400 with 2 Axes>"
      ]
     },
     "metadata": {},
     "output_type": "display_data"
    }
   ],
   "source": [
    "import matplotlib.pyplot as plt\n",
    "\n",
    "data = [2.95, 6.04]\n",
    "labels = ['2.95%', '6.04%']\n",
    "\n",
    "# 파이차트 그리기\n",
    "fig, ax = plt.subplots(1, 2, figsize=(8, 4))\n",
    "\n",
    "# 첫 번째 파이차트\n",
    "ax[0].pie([data[0], 100-data[0]], labels=[labels[0], ''], autopct='%1.2f%%',startangle=70,colors=['orange','lightblue'])\n",
    "ax[0].set_title('구매감소금액의 비율')\n",
    "\n",
    "# 두 번째 파이차트\n",
    "ax[1].pie([data[1], 100-data[1]], labels=[labels[1], ''], autopct='%1.2f%%',startangle=70,colors=['orange','lightblue'])\n",
    "ax[1].set_title('구매증가금액의 비율')\n",
    "\n",
    "plt.tight_layout()\n",
    "plt.show()"
   ]
  },
  {
   "cell_type": "code",
   "execution_count": 46,
   "id": "d4133362",
   "metadata": {},
   "outputs": [
    {
     "data": {
      "image/png": "[encoded data removed]",
      "text/plain": [
       "<Figure size 800x400 with 2 Axes>"
      ]
     },
     "metadata": {},
     "output_type": "display_data"
    }
   ],
   "source": [
    "import matplotlib.pyplot as plt\n",
    "\n",
    "data = [0.46, 0.98]\n",
    "labels = ['0.46%', '0.98%']\n",
    "\n",
    "# 파이차트 그리기\n",
    "fig, ax = plt.subplots(1, 2, figsize=(8, 4))\n",
    "\n",
    "# 첫 번째 파이차트\n",
    "ax[0].pie([data[0], 100-data[0]], labels=[labels[0], ''], autopct='%1.2f%%',startangle=70,colors=['orange','gray'])\n",
    "ax[0].set_title('상위등급 감소금액 비율')\n",
    "\n",
    "# 두 번째 파이차트\n",
    "ax[1].pie([data[1], 100-data[1]], labels=[labels[1], ''], autopct='%1.2f%%',startangle=70,colors=['orange','gray'])\n",
    "ax[1].set_title('상위등급 증가금액 비율')\n",
    "\n",
    "plt.tight_layout()\n",
    "plt.show()"
   ]
  },
  {
   "cell_type": "code",
   "execution_count": null,
   "id": "50cef10b",
   "metadata": {},
   "outputs": [],
   "source": []
  },
  {
   "cell_type": "code",
   "execution_count": null,
   "id": "356d9378",
   "metadata": {},
   "outputs": [],
   "source": []
  },
  {
   "cell_type": "code",
   "execution_count": null,
   "id": "7e3e3003",
   "metadata": {},
   "outputs": [],
   "source": []
  },
  {
   "cell_type": "code",
   "execution_count": null,
   "id": "59ad3dc6",
   "metadata": {},
   "outputs": [],
   "source": []
  },
  {
   "cell_type": "code",
   "execution_count": null,
   "id": "e5c237d9",
   "metadata": {},
   "outputs": [],
   "source": []
  },
  {
   "cell_type": "code",
   "execution_count": null,
   "id": "0f23c110",
   "metadata": {},
   "outputs": [],
   "source": []
  },
  {
   "cell_type": "code",
   "execution_count": null,
   "id": "adfe1571",
   "metadata": {},
   "outputs": [],
   "source": []
  }
 ],
 "metadata": {
  "kernelspec": {
   "display_name": "Python 3 (ipykernel)",
   "language": "python",
   "name": "python3"
  },
  "language_info": {
   "codemirror_mode": {
    "name": "ipython",
    "version": 3
   },
   "file_extension": ".py",
   "mimetype": "text/x-python",
   "name": "python",
   "nbconvert_exporter": "python",
   "pygments_lexer": "ipython3",
   "version": "3.9.13"
  }
 },
 "nbformat": 4,
 "nbformat_minor": 5
}
