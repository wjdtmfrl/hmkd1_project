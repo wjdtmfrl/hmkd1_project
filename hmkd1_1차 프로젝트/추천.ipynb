{
 "cells": [
  {
   "cell_type": "code",
   "execution_count": 1,
   "id": "8e1309ac",
   "metadata": {},
   "outputs": [],
   "source": [
    "import surprise\n",
    "import pandas as pd\n",
    "from surprise import SVD\n",
    "from surprise import Dataset\n",
    "from surprise import accuracy\n",
    "from surprise.model_selection import train_test_split\n",
    "from surprise.model_selection import cross_validate"
   ]
  },
  {
   "cell_type": "code",
   "execution_count": 8,
   "id": "ca222e96",
   "metadata": {},
   "outputs": [
    {
     "data": {
      "text/html": [
       "<div>\n",
       "<style scoped>\n",
       "    .dataframe tbody tr th:only-of-type {\n",
       "        vertical-align: middle;\n",
       "    }\n",
       "\n",
       "    .dataframe tbody tr th {\n",
       "        vertical-align: top;\n",
       "    }\n",
       "\n",
       "    .dataframe thead th {\n",
       "        text-align: right;\n",
       "    }\n",
       "</style>\n",
       "<table border=\"1\" class=\"dataframe\">\n",
       "  <thead>\n",
       "    <tr style=\"text-align: right;\">\n",
       "      <th></th>\n",
       "      <th>고객번호</th>\n",
       "      <th>제휴사</th>\n",
       "      <th>임의코드</th>\n",
       "      <th>통합코드</th>\n",
       "      <th>구매빈도</th>\n",
       "      <th>RANK0</th>\n",
       "      <th>RANK1</th>\n",
       "    </tr>\n",
       "  </thead>\n",
       "  <tbody>\n",
       "    <tr>\n",
       "      <th>0</th>\n",
       "      <td>00001</td>\n",
       "      <td>A</td>\n",
       "      <td>A01</td>\n",
       "      <td>01</td>\n",
       "      <td>304</td>\n",
       "      <td>1</td>\n",
       "      <td>5</td>\n",
       "    </tr>\n",
       "    <tr>\n",
       "      <th>1</th>\n",
       "      <td>00001</td>\n",
       "      <td>A</td>\n",
       "      <td>A02</td>\n",
       "      <td>02</td>\n",
       "      <td>202</td>\n",
       "      <td>2</td>\n",
       "      <td>5</td>\n",
       "    </tr>\n",
       "    <tr>\n",
       "      <th>2</th>\n",
       "      <td>00001</td>\n",
       "      <td>A</td>\n",
       "      <td>A09</td>\n",
       "      <td>09</td>\n",
       "      <td>147</td>\n",
       "      <td>3</td>\n",
       "      <td>4</td>\n",
       "    </tr>\n",
       "    <tr>\n",
       "      <th>3</th>\n",
       "      <td>00001</td>\n",
       "      <td>A</td>\n",
       "      <td>A03</td>\n",
       "      <td>03</td>\n",
       "      <td>86</td>\n",
       "      <td>4</td>\n",
       "      <td>4</td>\n",
       "    </tr>\n",
       "    <tr>\n",
       "      <th>4</th>\n",
       "      <td>00001</td>\n",
       "      <td>A</td>\n",
       "      <td>A11</td>\n",
       "      <td>11</td>\n",
       "      <td>53</td>\n",
       "      <td>5</td>\n",
       "      <td>3</td>\n",
       "    </tr>\n",
       "  </tbody>\n",
       "</table>\n",
       "</div>"
      ],
      "text/plain": [
       "    고객번호 제휴사 임의코드 통합코드  구매빈도  RANK0  RANK1\n",
       "0  00001   A  A01   01   304      1      5\n",
       "1  00001   A  A02   02   202      2      5\n",
       "2  00001   A  A09   09   147      3      4\n",
       "3  00001   A  A03   03    86      4      4\n",
       "4  00001   A  A11   11    53      5      3"
      ]
     },
     "execution_count": 8,
     "metadata": {},
     "output_type": "execute_result"
    }
   ],
   "source": [
    "# db = cx_Oracle.connect('c##my', 'my', 'localhost:1521/xe')\n",
    "# cursor = db.cursor()\n",
    "# cursor.execute('select *from PURPROD1')\n",
    "# x = cursor.fetchall()\n",
    "# df = pd.DataFrame(x)\n",
    "# cursor.execute(\"select column_name from user_tab_columns where table_name = 'PURPROD1'\")\n",
    "# col = cursor.fetchall()\n",
    "# list1 = []\n",
    "# for i in col :\n",
    "#     for j in i:\n",
    "#         list1.append(j)\n",
    "# df.columns = list1\n",
    "# df.head()"
   ]
  },
  {
   "cell_type": "code",
   "execution_count": 28,
   "id": "21d686eb",
   "metadata": {
    "scrolled": true
   },
   "outputs": [
    {
     "data": {
      "text/html": [
       "<div>\n",
       "<style scoped>\n",
       "    .dataframe tbody tr th:only-of-type {\n",
       "        vertical-align: middle;\n",
       "    }\n",
       "\n",
       "    .dataframe tbody tr th {\n",
       "        vertical-align: top;\n",
       "    }\n",
       "\n",
       "    .dataframe thead th {\n",
       "        text-align: right;\n",
       "    }\n",
       "</style>\n",
       "<table border=\"1\" class=\"dataframe\">\n",
       "  <thead>\n",
       "    <tr style=\"text-align: right;\">\n",
       "      <th></th>\n",
       "      <th>임의코드</th>\n",
       "      <th>임의분류명</th>\n",
       "      <th>구매빈도</th>\n",
       "    </tr>\n",
       "  </thead>\n",
       "  <tbody>\n",
       "    <tr>\n",
       "      <th>0</th>\n",
       "      <td>A01</td>\n",
       "      <td>가공식품</td>\n",
       "      <td>304</td>\n",
       "    </tr>\n",
       "    <tr>\n",
       "      <th>1</th>\n",
       "      <td>A02</td>\n",
       "      <td>신선식품</td>\n",
       "      <td>202</td>\n",
       "    </tr>\n",
       "    <tr>\n",
       "      <th>2</th>\n",
       "      <td>A03</td>\n",
       "      <td>일상용품</td>\n",
       "      <td>86</td>\n",
       "    </tr>\n",
       "    <tr>\n",
       "      <th>3</th>\n",
       "      <td>A07</td>\n",
       "      <td>디지털/가전</td>\n",
       "      <td>13</td>\n",
       "    </tr>\n",
       "    <tr>\n",
       "      <th>4</th>\n",
       "      <td>A08</td>\n",
       "      <td>가구/인테리어</td>\n",
       "      <td>20</td>\n",
       "    </tr>\n",
       "  </tbody>\n",
       "</table>\n",
       "</div>"
      ],
      "text/plain": [
       "  임의코드    임의분류명  구매빈도\n",
       "0  A01     가공식품   304\n",
       "1  A02     신선식품   202\n",
       "2  A03     일상용품    86\n",
       "3  A07   디지털/가전    13\n",
       "4  A08  가구/인테리어    20"
      ]
     },
     "execution_count": 28,
     "metadata": {},
     "output_type": "execute_result"
    }
   ],
   "source": [
    "# db = cx_Oracle.connect('c##my', 'my', 'localhost:1521/xe')\n",
    "# cursor = db.cursor()\n",
    "# cursor.execute('select *from PURPROD2')\n",
    "# x = cursor.fetchall()\n",
    "# df1 = pd.DataFrame(x)\n",
    "# cursor.execute(\"select column_name from user_tab_columns where table_name = 'PURPROD2'\")\n",
    "# col = cursor.fetchall()\n",
    "# list1 = []\n",
    "# for i in col :\n",
    "#     for j in i:\n",
    "#         list1.append(j)\n",
    "# df1.columns = list1\n",
    "# df1.head()"
   ]
  },
  {
   "cell_type": "code",
   "execution_count": 3,
   "id": "2393b797",
   "metadata": {},
   "outputs": [
    {
     "data": {
      "text/html": [
       "<div>\n",
       "<style scoped>\n",
       "    .dataframe tbody tr th:only-of-type {\n",
       "        vertical-align: middle;\n",
       "    }\n",
       "\n",
       "    .dataframe tbody tr th {\n",
       "        vertical-align: top;\n",
       "    }\n",
       "\n",
       "    .dataframe thead th {\n",
       "        text-align: right;\n",
       "    }\n",
       "</style>\n",
       "<table border=\"1\" class=\"dataframe\">\n",
       "  <thead>\n",
       "    <tr style=\"text-align: right;\">\n",
       "      <th></th>\n",
       "      <th>고객번호</th>\n",
       "      <th>제휴사</th>\n",
       "      <th>소분류코드</th>\n",
       "      <th>임의코드</th>\n",
       "      <th>통합코드</th>\n",
       "      <th>구매빈도</th>\n",
       "      <th>RANK0</th>\n",
       "      <th>RANK1</th>\n",
       "    </tr>\n",
       "  </thead>\n",
       "  <tbody>\n",
       "    <tr>\n",
       "      <th>0</th>\n",
       "      <td>00001</td>\n",
       "      <td>A</td>\n",
       "      <td>A010401</td>\n",
       "      <td>A02</td>\n",
       "      <td>02</td>\n",
       "      <td>60</td>\n",
       "      <td>1</td>\n",
       "      <td>5</td>\n",
       "    </tr>\n",
       "    <tr>\n",
       "      <th>1</th>\n",
       "      <td>00001</td>\n",
       "      <td>A</td>\n",
       "      <td>A010404</td>\n",
       "      <td>A02</td>\n",
       "      <td>02</td>\n",
       "      <td>59</td>\n",
       "      <td>2</td>\n",
       "      <td>5</td>\n",
       "    </tr>\n",
       "    <tr>\n",
       "      <th>2</th>\n",
       "      <td>00001</td>\n",
       "      <td>A</td>\n",
       "      <td>A010302</td>\n",
       "      <td>A01</td>\n",
       "      <td>01</td>\n",
       "      <td>40</td>\n",
       "      <td>3</td>\n",
       "      <td>5</td>\n",
       "    </tr>\n",
       "    <tr>\n",
       "      <th>3</th>\n",
       "      <td>00001</td>\n",
       "      <td>A</td>\n",
       "      <td>A040222</td>\n",
       "      <td>A09</td>\n",
       "      <td>09</td>\n",
       "      <td>29</td>\n",
       "      <td>4</td>\n",
       "      <td>5</td>\n",
       "    </tr>\n",
       "    <tr>\n",
       "      <th>4</th>\n",
       "      <td>00001</td>\n",
       "      <td>A</td>\n",
       "      <td>A020302</td>\n",
       "      <td>A03</td>\n",
       "      <td>03</td>\n",
       "      <td>28</td>\n",
       "      <td>5</td>\n",
       "      <td>5</td>\n",
       "    </tr>\n",
       "    <tr>\n",
       "      <th>...</th>\n",
       "      <td>...</td>\n",
       "      <td>...</td>\n",
       "      <td>...</td>\n",
       "      <td>...</td>\n",
       "      <td>...</td>\n",
       "      <td>...</td>\n",
       "      <td>...</td>\n",
       "      <td>...</td>\n",
       "    </tr>\n",
       "    <tr>\n",
       "      <th>6527915</th>\n",
       "      <td>19383</td>\n",
       "      <td>D</td>\n",
       "      <td>D030206</td>\n",
       "      <td>D01</td>\n",
       "      <td>01</td>\n",
       "      <td>1</td>\n",
       "      <td>52</td>\n",
       "      <td>1</td>\n",
       "    </tr>\n",
       "    <tr>\n",
       "      <th>6527916</th>\n",
       "      <td>19383</td>\n",
       "      <td>D</td>\n",
       "      <td>D010505</td>\n",
       "      <td>D03</td>\n",
       "      <td>03</td>\n",
       "      <td>1</td>\n",
       "      <td>53</td>\n",
       "      <td>1</td>\n",
       "    </tr>\n",
       "    <tr>\n",
       "      <th>6527917</th>\n",
       "      <td>19383</td>\n",
       "      <td>D</td>\n",
       "      <td>D010103</td>\n",
       "      <td>D03</td>\n",
       "      <td>03</td>\n",
       "      <td>1</td>\n",
       "      <td>54</td>\n",
       "      <td>1</td>\n",
       "    </tr>\n",
       "    <tr>\n",
       "      <th>6527918</th>\n",
       "      <td>19383</td>\n",
       "      <td>D</td>\n",
       "      <td>D040101</td>\n",
       "      <td>D01</td>\n",
       "      <td>01</td>\n",
       "      <td>1</td>\n",
       "      <td>55</td>\n",
       "      <td>1</td>\n",
       "    </tr>\n",
       "    <tr>\n",
       "      <th>6527919</th>\n",
       "      <td>19383</td>\n",
       "      <td>D</td>\n",
       "      <td>D010102</td>\n",
       "      <td>D03</td>\n",
       "      <td>03</td>\n",
       "      <td>1</td>\n",
       "      <td>56</td>\n",
       "      <td>1</td>\n",
       "    </tr>\n",
       "  </tbody>\n",
       "</table>\n",
       "<p>6527920 rows × 8 columns</p>\n",
       "</div>"
      ],
      "text/plain": [
       "          고객번호 제휴사    소분류코드 임의코드 통합코드  구매빈도  RANK0  RANK1\n",
       "0        00001   A  A010401  A02   02    60      1      5\n",
       "1        00001   A  A010404  A02   02    59      2      5\n",
       "2        00001   A  A010302  A01   01    40      3      5\n",
       "3        00001   A  A040222  A09   09    29      4      5\n",
       "4        00001   A  A020302  A03   03    28      5      5\n",
       "...        ...  ..      ...  ...  ...   ...    ...    ...\n",
       "6527915  19383   D  D030206  D01   01     1     52      1\n",
       "6527916  19383   D  D010505  D03   03     1     53      1\n",
       "6527917  19383   D  D010103  D03   03     1     54      1\n",
       "6527918  19383   D  D040101  D01   01     1     55      1\n",
       "6527919  19383   D  D010102  D03   03     1     56      1\n",
       "\n",
       "[6527920 rows x 8 columns]"
      ]
     },
     "execution_count": 3,
     "metadata": {},
     "output_type": "execute_result"
    }
   ],
   "source": [
    "df = pd.read_pickle('D:\\/purprod3.pkl')\n",
    "df"
   ]
  },
  {
   "cell_type": "code",
   "execution_count": 11,
   "id": "40b621bb",
   "metadata": {},
   "outputs": [
    {
     "ename": "MemoryError",
     "evalue": "",
     "output_type": "error",
     "traceback": [
      "\u001b[1;31m---------------------------------------------------------------------------\u001b[0m",
      "\u001b[1;31mMemoryError\u001b[0m                               Traceback (most recent call last)",
      "\u001b[1;32m~\\AppData\\Local\\Temp\\ipykernel_17056\\1327883273.py\u001b[0m in \u001b[0;36m<module>\u001b[1;34m\u001b[0m\n\u001b[1;32m----> 1\u001b[1;33m \u001b[0mdf1\u001b[0m \u001b[1;33m=\u001b[0m \u001b[0mpd\u001b[0m\u001b[1;33m.\u001b[0m\u001b[0mread_pickle\u001b[0m\u001b[1;33m(\u001b[0m\u001b[1;34m'D:\\/purprod2.pkl'\u001b[0m\u001b[1;33m)\u001b[0m\u001b[1;33m\u001b[0m\u001b[1;33m\u001b[0m\u001b[0m\n\u001b[0m\u001b[0;32m      2\u001b[0m \u001b[0mdf1\u001b[0m\u001b[1;33m\u001b[0m\u001b[1;33m\u001b[0m\u001b[0m\n",
      "\u001b[1;32m~\\anaconda3\\lib\\site-packages\\pandas\\io\\pickle.py\u001b[0m in \u001b[0;36mread_pickle\u001b[1;34m(filepath_or_buffer, compression, storage_options)\u001b[0m\n\u001b[0;32m    203\u001b[0m                     \u001b[1;31m# We want to silence any warnings about, e.g. moved modules.\u001b[0m\u001b[1;33m\u001b[0m\u001b[1;33m\u001b[0m\u001b[0m\n\u001b[0;32m    204\u001b[0m                     \u001b[0mwarnings\u001b[0m\u001b[1;33m.\u001b[0m\u001b[0msimplefilter\u001b[0m\u001b[1;33m(\u001b[0m\u001b[1;34m\"ignore\"\u001b[0m\u001b[1;33m,\u001b[0m \u001b[0mWarning\u001b[0m\u001b[1;33m)\u001b[0m\u001b[1;33m\u001b[0m\u001b[1;33m\u001b[0m\u001b[0m\n\u001b[1;32m--> 205\u001b[1;33m                     \u001b[1;32mreturn\u001b[0m \u001b[0mpickle\u001b[0m\u001b[1;33m.\u001b[0m\u001b[0mload\u001b[0m\u001b[1;33m(\u001b[0m\u001b[0mhandles\u001b[0m\u001b[1;33m.\u001b[0m\u001b[0mhandle\u001b[0m\u001b[1;33m)\u001b[0m\u001b[1;33m\u001b[0m\u001b[1;33m\u001b[0m\u001b[0m\n\u001b[0m\u001b[0;32m    206\u001b[0m             \u001b[1;32mexcept\u001b[0m \u001b[0mexcs_to_catch\u001b[0m\u001b[1;33m:\u001b[0m\u001b[1;33m\u001b[0m\u001b[1;33m\u001b[0m\u001b[0m\n\u001b[0;32m    207\u001b[0m                 \u001b[1;31m# e.g.\u001b[0m\u001b[1;33m\u001b[0m\u001b[1;33m\u001b[0m\u001b[0m\n",
      "\u001b[1;31mMemoryError\u001b[0m: "
     ]
    }
   ],
   "source": [
    "df1 = pd.read_pickle('D:\\/purprod2.pkl')\n",
    "df1"
   ]
  },
  {
   "cell_type": "code",
   "execution_count": 4,
   "id": "3f7bf936",
   "metadata": {
    "scrolled": true
   },
   "outputs": [
    {
     "name": "stdout",
     "output_type": "stream",
     "text": [
      "Evaluating RMSE, MAE of algorithm SVD on 5 split(s).\n",
      "\n",
      "                  Fold 1  Fold 2  Fold 3  Fold 4  Fold 5  Mean    Std     \n",
      "RMSE (testset)    1.4561  1.4570  1.4564  1.4567  1.4564  1.4566  0.0003  \n",
      "MAE (testset)     1.1873  1.1876  1.1872  1.1876  1.1872  1.1874  0.0002  \n",
      "Fit time          62.71   59.59   58.31   66.04   64.50   62.23   2.91    \n",
      "Test time         24.15   24.60   20.05   20.81   19.72   21.86   2.08    \n"
     ]
    },
    {
     "data": {
      "text/plain": [
       "{'test_rmse': array([1.45611003, 1.45704703, 1.45644339, 1.45674227, 1.45642497]),\n",
       " 'test_mae': array([1.1873317 , 1.18757636, 1.18715488, 1.18759902, 1.18723713]),\n",
       " 'fit_time': (62.71316862106323,\n",
       "  59.58602285385132,\n",
       "  58.30770134925842,\n",
       "  66.04425072669983,\n",
       "  64.49675750732422),\n",
       " 'test_time': (24.14819049835205,\n",
       "  24.599945545196533,\n",
       "  20.04795265197754,\n",
       "  20.810110569000244,\n",
       "  19.718740224838257)}"
      ]
     },
     "execution_count": 4,
     "metadata": {},
     "output_type": "execute_result"
    }
   ],
   "source": [
    "reader = surprise.Reader(rating_scale = (1, 5))\n",
    "\n",
    "data  = Dataset.load_from_df(df[['고객번호', '소분류코드', 'RANK1']], reader)\n",
    "\n",
    "trainset, testset = train_test_split(data, test_size = .25, random_state = 0)\n",
    "\n",
    "algo = SVD(random_state = 0)\n",
    "algo.fit(trainset)\n",
    "\n",
    "cross_validate(algo, data, measures = ['RMSE', 'MAE'], cv = 5, verbose = True)"
   ]
  },
  {
   "cell_type": "code",
   "execution_count": null,
   "id": "01036d44",
   "metadata": {},
   "outputs": [],
   "source": [
    "from surprise.model_selection import GridSearchCV\n",
    "\n",
    "param_grid = {'n_epochs' : [20, 40, 60, 80, 100], 'n_factors' :  [50, 100, 200]}\n",
    "\n",
    "gs = GridSearchCV(SVD, param_grid, measures = ['rmse', 'mae'], cv = 3)\n",
    "gs.fit(data)\n",
    "\n",
    "print(gs.best_score['rmse'])\n",
    "print(gs.best_params['rmse'])"
   ]
  },
  {
   "cell_type": "code",
   "execution_count": 15,
   "id": "76e78eec",
   "metadata": {},
   "outputs": [
    {
     "data": {
      "text/plain": [
       "<surprise.prediction_algorithms.matrix_factorization.SVD at 0x2620a1bb5b0>"
      ]
     },
     "execution_count": 15,
     "metadata": {},
     "output_type": "execute_result"
    }
   ],
   "source": [
    "algo = SVD(n_epochs = 100, n_factors = 100, random_state = 0)\n",
    "algo.fit(trainset)"
   ]
  },
  {
   "cell_type": "code",
   "execution_count": 16,
   "id": "37bfa360",
   "metadata": {},
   "outputs": [
    {
     "name": "stdout",
     "output_type": "stream",
     "text": [
      "평점 매긴 제품수 :  19 추천대상 제품수 :  95721 전체 제품수 :  346340\n"
     ]
    }
   ],
   "source": [
    "def get_unpur_surprise(df, df1, 고객번호) :\n",
    "    \n",
    "    purs = df[df['고객번호'] == 고객번호]['임의코드'].tolist()\n",
    "    \n",
    "    total_pur = df['임의코드'].tolist()\n",
    "    \n",
    "    unpurs = [pur for pur in total_pur if pur not in purs]\n",
    "    \n",
    "    print('평점 매긴 제품수 : ', len(purs), '추천대상 제품수 : ', len(unpurs),\n",
    "         '전체 제품수 : ', len(total_pur))\n",
    "    \n",
    "    return unpurs\n",
    "\n",
    "unpurs = get_unpur_surprise(df, df, '00001')"
   ]
  },
  {
   "cell_type": "code",
   "execution_count": 29,
   "id": "04124097",
   "metadata": {},
   "outputs": [
    {
     "name": "stdout",
     "output_type": "stream",
     "text": [
      "평점 매긴 제품수 :  19 추천대상 제품수 :  95721 전체 제품수 :  346340\n",
      "#### Top-5 추천 제품 리스트 ####\n",
      "교육/문화 용품 : 2.5209413543812342\n",
      "교육/문화 용품 : 2.5209413543812342\n",
      "교육/문화 용품 : 2.5209413543812342\n",
      "교육/문화 용품 : 2.5209413543812342\n",
      "교육/문화 용품 : 2.5209413543812342\n"
     ]
    }
   ],
   "source": [
    "def recomm_pur_by_surprise(algo, 고객번호, unpurs, top_n = 5) :\n",
    "    \n",
    "    preds = [algo.predict(str(고객번호), str(임의코드)) for 임의코드 in unpurs]\n",
    "    \n",
    "    \n",
    "    def sortkey_est(pred) :\n",
    "        \n",
    "        return pred.est\n",
    "    \n",
    "    preds.sort(key = sortkey_est, reverse = True)\n",
    "    top_predictions = preds[:top_n]\n",
    "    \n",
    "    top_pur_ids = [str(pred.iid) for pred in top_predictions]\n",
    "    top_pur_rating = [pred.est for pred in top_predictions]\n",
    "    top_pur_titles = df1[df1.임의코드.isin(top_pur_ids)]['임의분류명']\n",
    "    top_pur_preds = [(id, title, rating) for id, title, rating in zip(top_pur_ids, top_pur_titles, top_pur_rating)]\n",
    "    \n",
    "    return top_pur_preds\n",
    "\n",
    "unpurs = get_unpur_surprise(df, df, '00001')\n",
    "top_pur_preds = recomm_pur_by_surprise(algo, '00001', unpurs, top_n = 5)\n",
    "print('#### Top-5 추천 제품 리스트 ####')\n",
    "\n",
    "for top_pur in top_pur_preds:\n",
    "    print(top_pur[1], ':', top_pur[2])"
   ]
  },
  {
   "cell_type": "code",
   "execution_count": 30,
   "id": "7139fdef",
   "metadata": {},
   "outputs": [
    {
     "data": {
      "text/plain": [
       "array([5, 4, 3, 2, 1], dtype=int64)"
      ]
     },
     "execution_count": 30,
     "metadata": {},
     "output_type": "execute_result"
    }
   ],
   "source": [
    "df.RANK1.unique()"
   ]
  }
 ],
 "metadata": {
  "kernelspec": {
   "display_name": "Python 3 (ipykernel)",
   "language": "python",
   "name": "python3"
  },
  "language_info": {
   "codemirror_mode": {
    "name": "ipython",
    "version": 3
   },
   "file_extension": ".py",
   "mimetype": "text/x-python",
   "name": "python",
   "nbconvert_exporter": "python",
   "pygments_lexer": "ipython3",
   "version": "3.9.13"
  }
 },
 "nbformat": 4,
 "nbformat_minor": 5
}
