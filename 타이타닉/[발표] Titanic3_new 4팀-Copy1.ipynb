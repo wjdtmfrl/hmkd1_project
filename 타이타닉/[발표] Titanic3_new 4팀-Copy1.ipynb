{
 "cells": [
  {
   "cell_type": "markdown",
   "id": "2e0b7974",
   "metadata": {},
   "source": [
    "# 인사이트 정리\n",
    "\n",
    "1. 동승자 관련 생존률 -> 혼자보단 가족과 함께 탑승한 승객의 생존률이 높다.(단, 4명 이상부터는 오히려 떨어지는 편)\n",
    "\n",
    "2. 승선지 관련 생존률 -> S, C, Q 승선지중 C(쉘부르크)가 가장 생존률이 높다.\n",
    "    - 사우스햄튼은 탑승자수가 가장 많고, 3등급 승객의 비율도 매우 높은 편\n",
    "    - 퀸즈타운은 탑승자 수는 적은 편이나, 비율적으로 3등급 승객이 거의 대부분을 차지함\n",
    "    - 쉘부르크는 1등급 승객의 비율이 가장 많음 -> 생존률 높음\n",
    "    \n",
    "3. 가격 관련 생존률 -> 가격/객실등급이 높을수록 생존률이 높다.\n",
    "\n",
    "4. 성별 관련 생존률 -> 여성이 생존률이 높다.\n",
    "\n",
    "5. 연령 관련 생존률 -> 아기, 아이들이 생존률이 높은데에 비해 노인들은 생존률이 낮다.\n",
    "    - Elder는 1등급 승객조차도 절반밖에 못 살음(다른 나이대 1등급에 비해 훨씬 낮은 수치)\n",
    "    - 2,3등급 전원 사망\n",
    "    - Old는 1등급 사람 비율이 워낙 많아서 생존률이 높게 나옴\n",
    "    - Old의 2,3등급 생존률만 떼어 놓고 보면 다른 그룹에 비해 낮은 편\n",
    "\n",
    "< 추가적인 배경 설명 >\n",
    "- 1912년 당시 여자와 아이가 우선되는 사회적인 분위기로 인한 결과.\n",
    "- 타이타닉 사건때에는 승객들에 대한 승무원들의 통제도가 높았고, 승무원또한 상관에 대한 명령복종도가 높았음.\n",
    "    => 상관의 원칙에 철저하게 따를 수 있었다.\n",
    "- 타이타닉 사건 직전에 다른 배 침몰 사건(군인들이 민간인을 살리기 위해 희생한 사건)이 있어 희생정신이 부각되었다.\n",
    "- 말을 듣지 않는 승객은 총으로 다스린 모양...\n"
   ]
  },
  {
   "cell_type": "markdown",
   "id": "0f2f4a88",
   "metadata": {
    "id": "0f2f4a88"
   },
   "source": [
    "## Titanic3\n",
    "- 생존자 예측 모델 개발을 위한 분석 셋"
   ]
  },
  {
   "cell_type": "code",
   "execution_count": 93,
   "id": "dbb3326f",
   "metadata": {
    "id": "dbb3326f"
   },
   "outputs": [],
   "source": [
    "import warnings\n",
    "warnings.filterwarnings('ignore')\n",
    "\n",
    "import random\n",
    "import numpy as np\n",
    "from numpy import random as npr\n",
    "import pandas as pd\n",
    "import matplotlib.pyplot as plt\n",
    "import seaborn as sns\n",
    "\n",
    "from matplotlib import rc\n",
    "rc('font', family='Malgun Gothic')      #한글 폰트설정\n",
    "plt.rcParams['axes.unicode_minus']=False      #마이너스 부호 출력 설정"
   ]
  },
  {
   "cell_type": "markdown",
   "id": "2ab8947a",
   "metadata": {
    "id": "2ab8947a"
   },
   "source": [
    "### 과제\n",
    ": 타이타닉 생존자 예측모델 개발을 위한 전처리 및 통계적 시각적 탐색을 통하여 최적의 분석용 데이터셋을 작성하세요.\n",
    "\n",
    "#### Titanic data 전처리\n",
    "- 분석 데이터 : titanic3.csv\n",
    "- 재사용 가능한 전처리 사용자 함수 작성 하여 전처리\n",
    "    - Null 값 처리 : Age는 평균나이, 나머지 칼럼은 'N'값으로 변경\n",
    "    - 불필요한 속성 칼럼 삭제\n",
    "    - 문자열 칼럼 레이블 인코딩\n",
    "- 통계적, 시각적 탐색을 통한 다양한 인사이트 도출\n",
    "- 탐색적 분석을 통한 feature engineering, 파생변수 \n",
    "\n",
    "#### 컬럼 정보\n",
    "\n",
    "- survived : 생존여부(1: 생존, 0 : 사망)\n",
    "- pclass : 승선권 클래스(1 : 1st, 2 : 2nd ,3 : 3rd)\n",
    "- name : 승객 이름\n",
    "- sex : 승객 성별\n",
    "- age : 승객 나이\n",
    "- sibsp : 동반한 형제자매, 배우자 수\n",
    "- parch : 동반한 부모, 자식 수\n",
    "- ticket : 티켓의 고유 넘버\n",
    "- fare 티켓의 요금\n",
    "- cabin : 객실 번호\n",
    "- embarked : 승선한 항구명(C : Cherbourg, Q : Queenstown, S : Southampton)\n",
    "- boat : 탈출한 보트가 있다면 boat 번호\n",
    "- body : 사망자 확인 번호\n",
    "- home.dest :고향/목적지"
   ]
  },
  {
   "cell_type": "code",
   "execution_count": 94,
   "id": "73808aae",
   "metadata": {
    "id": "73808aae"
   },
   "outputs": [],
   "source": [
    "df = pd.read_csv('../dataset/titanic3.csv',encoding='euc-kr')\n",
    "\n",
    "# 분석용 데이터 셋\n",
    "df.to_pickle('../dataset/tt3.pkl')\n",
    "df = pd.read_pickle('../dataset/tt3.pkl')"
   ]
  },
  {
   "cell_type": "code",
   "execution_count": 95,
   "id": "efd82e1d",
   "metadata": {
    "id": "efd82e1d",
    "outputId": "807e25a5-d826-4fe3-afe2-65c477d48708"
   },
   "outputs": [
    {
     "data": {
      "text/plain": [
       "pclass          0\n",
       "survived        0\n",
       "name            0\n",
       "sex             0\n",
       "age           263\n",
       "sibsp           0\n",
       "parch           0\n",
       "ticket          0\n",
       "fare            1\n",
       "cabin        1014\n",
       "embarked        2\n",
       "boat          823\n",
       "body         1188\n",
       "home.dest     564\n",
       "dtype: int64"
      ]
     },
     "execution_count": 95,
     "metadata": {},
     "output_type": "execute_result"
    }
   ],
   "source": [
    "df.isnull().sum()"
   ]
  },
  {
   "cell_type": "code",
   "execution_count": 96,
   "id": "2796ebfe",
   "metadata": {
    "id": "2796ebfe"
   },
   "outputs": [],
   "source": [
    "#### fare열 결측치 해당 객실 등급의 평균 가격으로 치환\n",
    "df['fare'].replace(np.nan, 999999,inplace=True)\n",
    "idx = df['fare']==999999\n",
    "df['pclass'][idx]     #3등급 객실\n",
    "\n",
    "idx2 = (df['pclass']==3) & (df['fare']!=999999)\n",
    "df['fare'][idx]=df['fare'][idx2].mean()"
   ]
  },
  {
   "cell_type": "code",
   "execution_count": 97,
   "id": "2cc6e04a",
   "metadata": {
    "id": "2cc6e04a"
   },
   "outputs": [],
   "source": [
    "# body','ticket', 'home.dest','boat' 열 삭제\n",
    "# family: sibsp + parch 동승한 가족들 수\n",
    "df = df.drop(['body','ticket', 'home.dest','boat'], axis=1)\n",
    "df['family'] = df['sibsp'] + df['parch']"
   ]
  },
  {
   "cell_type": "code",
   "execution_count": 98,
   "id": "17b65dd1",
   "metadata": {
    "id": "17b65dd1"
   },
   "outputs": [],
   "source": [
    "#### 항구: 가장 많이 나온 값으로 변경\n",
    "mvalue = df['embarked'].value_counts(dropna=True).idxmax()\n",
    "df['embarked'].fillna(mvalue, inplace=True)"
   ]
  },
  {
   "cell_type": "code",
   "execution_count": 99,
   "id": "25d83095",
   "metadata": {
    "id": "25d83095",
    "outputId": "2644a932-78d6-433b-ec00-f858775d9b91",
    "scrolled": false
   },
   "outputs": [
    {
     "data": {
      "text/html": [
       "<div>\n",
       "<style scoped>\n",
       "    .dataframe tbody tr th:only-of-type {\n",
       "        vertical-align: middle;\n",
       "    }\n",
       "\n",
       "    .dataframe tbody tr th {\n",
       "        vertical-align: top;\n",
       "    }\n",
       "\n",
       "    .dataframe thead th {\n",
       "        text-align: right;\n",
       "    }\n",
       "</style>\n",
       "<table border=\"1\" class=\"dataframe\">\n",
       "  <thead>\n",
       "    <tr style=\"text-align: right;\">\n",
       "      <th></th>\n",
       "      <th>pclass</th>\n",
       "      <th>survived</th>\n",
       "      <th>name</th>\n",
       "      <th>sex</th>\n",
       "      <th>age</th>\n",
       "      <th>sibsp</th>\n",
       "      <th>parch</th>\n",
       "      <th>fare</th>\n",
       "      <th>cabin</th>\n",
       "      <th>embarked</th>\n",
       "      <th>family</th>\n",
       "    </tr>\n",
       "  </thead>\n",
       "  <tbody>\n",
       "    <tr>\n",
       "      <th>0</th>\n",
       "      <td>1</td>\n",
       "      <td>1</td>\n",
       "      <td>Allen, Miss. Elisabeth Walton</td>\n",
       "      <td>female</td>\n",
       "      <td>29.00</td>\n",
       "      <td>0</td>\n",
       "      <td>0</td>\n",
       "      <td>211.3375</td>\n",
       "      <td>B5</td>\n",
       "      <td>S</td>\n",
       "      <td>0</td>\n",
       "    </tr>\n",
       "    <tr>\n",
       "      <th>1</th>\n",
       "      <td>1</td>\n",
       "      <td>1</td>\n",
       "      <td>Allison, Master. Hudson Trevor</td>\n",
       "      <td>male</td>\n",
       "      <td>0.92</td>\n",
       "      <td>1</td>\n",
       "      <td>2</td>\n",
       "      <td>151.5500</td>\n",
       "      <td>C22 C26</td>\n",
       "      <td>S</td>\n",
       "      <td>3</td>\n",
       "    </tr>\n",
       "    <tr>\n",
       "      <th>2</th>\n",
       "      <td>1</td>\n",
       "      <td>0</td>\n",
       "      <td>Allison, Miss. Helen Loraine</td>\n",
       "      <td>female</td>\n",
       "      <td>2.00</td>\n",
       "      <td>1</td>\n",
       "      <td>2</td>\n",
       "      <td>151.5500</td>\n",
       "      <td>C22 C26</td>\n",
       "      <td>S</td>\n",
       "      <td>3</td>\n",
       "    </tr>\n",
       "    <tr>\n",
       "      <th>3</th>\n",
       "      <td>1</td>\n",
       "      <td>0</td>\n",
       "      <td>Allison, Mr. Hudson Joshua Creighton</td>\n",
       "      <td>male</td>\n",
       "      <td>30.00</td>\n",
       "      <td>1</td>\n",
       "      <td>2</td>\n",
       "      <td>151.5500</td>\n",
       "      <td>C22 C26</td>\n",
       "      <td>S</td>\n",
       "      <td>3</td>\n",
       "    </tr>\n",
       "    <tr>\n",
       "      <th>4</th>\n",
       "      <td>1</td>\n",
       "      <td>0</td>\n",
       "      <td>Allison, Mrs. Hudson J C (Bessie Waldo Daniels)</td>\n",
       "      <td>female</td>\n",
       "      <td>25.00</td>\n",
       "      <td>1</td>\n",
       "      <td>2</td>\n",
       "      <td>151.5500</td>\n",
       "      <td>C22 C26</td>\n",
       "      <td>S</td>\n",
       "      <td>3</td>\n",
       "    </tr>\n",
       "  </tbody>\n",
       "</table>\n",
       "</div>"
      ],
      "text/plain": [
       "   pclass  survived                                             name     sex  \\\n",
       "0       1         1                    Allen, Miss. Elisabeth Walton  female   \n",
       "1       1         1                   Allison, Master. Hudson Trevor    male   \n",
       "2       1         0                     Allison, Miss. Helen Loraine  female   \n",
       "3       1         0             Allison, Mr. Hudson Joshua Creighton    male   \n",
       "4       1         0  Allison, Mrs. Hudson J C (Bessie Waldo Daniels)  female   \n",
       "\n",
       "     age  sibsp  parch      fare    cabin embarked  family  \n",
       "0  29.00      0      0  211.3375       B5        S       0  \n",
       "1   0.92      1      2  151.5500  C22 C26        S       3  \n",
       "2   2.00      1      2  151.5500  C22 C26        S       3  \n",
       "3  30.00      1      2  151.5500  C22 C26        S       3  \n",
       "4  25.00      1      2  151.5500  C22 C26        S       3  "
      ]
     },
     "execution_count": 99,
     "metadata": {},
     "output_type": "execute_result"
    }
   ],
   "source": [
    "df.head()"
   ]
  },
  {
   "cell_type": "code",
   "execution_count": 100,
   "id": "f9609452",
   "metadata": {
    "id": "f9609452"
   },
   "outputs": [],
   "source": [
    "#### 이름 구분 -> 나이 nan처리\n",
    "\n",
    "df['age'].replace(np.nan, 1000, inplace=True)\n",
    "ix = df['age']!=1000      #정상값\n",
    "ix2 = df['age']==1000     #결측치\n",
    "ix3 = df['sex']=='female'\n",
    "ix4 = df['sex']=='male'\n",
    "\n",
    "# 이름에서 보여지는 특징에 따라 구분\n",
    "idx1 = df['name'].str.contains('Miss. ')   #미혼 여성\n",
    "idx2 = df['name'].str.contains('Mrs. ')    #기혼 여성\n",
    "idx3 = df['name'].str.contains('Dr. ')     #의사\n",
    "idx4 = df['name'].str.contains('Master. ') #남자\n",
    "idx6 = df['name'].str.contains('Mr. ')     #남자\n",
    "idx7 = df['name'].str.contains('Ms. ')     #여자\n",
    "\n",
    "# 구분된 특징들의 평균값 구하기\n",
    "miss = df['age'][idx1&ix].mean()\n",
    "mrs = df['age'][idx2&ix].mean()\n",
    "dr1 = df['age'][idx3&ix&ix3].mean()\n",
    "dr2 = df['age'][idx3&ix&ix4].mean()\n",
    "master = df['age'][idx4&ix].mean()\n",
    "mr = df['age'][idx6&ix].mean()\n",
    "ms = df['age'][idx7&ix].mean()\n",
    "\n",
    "# 구한 평균값을 결측치에 넣어주기\n",
    "df['age'][idx1&ix2] = miss\n",
    "df['age'][idx2&ix2] = mrs\n",
    "df['age'][idx3&ix2&ix3] = dr1\n",
    "df['age'][idx3&ix2&ix4] = dr2\n",
    "df['age'][idx4&ix2] = master\n",
    "df['age'][idx6&ix2] = mr\n",
    "df['age'][idx7&ix2] = ms"
   ]
  },
  {
   "cell_type": "code",
   "execution_count": 101,
   "id": "4931e7c8",
   "metadata": {
    "id": "4931e7c8"
   },
   "outputs": [],
   "source": [
    "df = df.drop(['name'], axis=1)"
   ]
  },
  {
   "cell_type": "code",
   "execution_count": 102,
   "id": "2d82f1c4",
   "metadata": {
    "id": "2d82f1c4",
    "outputId": "d64cb6b5-4f6a-4a13-dfd1-e9e03d0f83e1",
    "scrolled": false
   },
   "outputs": [
    {
     "data": {
      "text/plain": [
       "<AxesSubplot:ylabel='Frequency'>"
      ]
     },
     "execution_count": 102,
     "metadata": {},
     "output_type": "execute_result"
    },
    {
     "data": {
      "image/png": "[encoded data removed]",
      "text/plain": [
       "<Figure size 640x480 with 1 Axes>"
      ]
     },
     "metadata": {},
     "output_type": "display_data"
    }
   ],
   "source": [
    "df.age.plot(kind='hist')"
   ]
  },
  {
   "cell_type": "code",
   "execution_count": 103,
   "id": "63f0f5df",
   "metadata": {
    "id": "63f0f5df",
    "outputId": "3e62f11c-aaff-4525-889b-4fd1d23f77b1"
   },
   "outputs": [
    {
     "data": {
      "text/plain": [
       "count    1309.000000\n",
       "mean       33.280206\n",
       "std        51.741830\n",
       "min         0.000000\n",
       "25%         7.895800\n",
       "50%        14.454200\n",
       "75%        31.275000\n",
       "max       512.329200\n",
       "Name: fare, dtype: float64"
      ]
     },
     "execution_count": 103,
     "metadata": {},
     "output_type": "execute_result"
    }
   ],
   "source": [
    "df.fare.describe()"
   ]
  },
  {
   "cell_type": "code",
   "execution_count": 105,
   "id": "d36b46ff",
   "metadata": {
    "id": "d36b46ff",
    "outputId": "c8628844-81a0-4cd6-d726-5a4387d552bd"
   },
   "outputs": [
    {
     "data": {
      "text/plain": [
       "<AxesSubplot:ylabel='Frequency'>"
      ]
     },
     "execution_count": 105,
     "metadata": {},
     "output_type": "execute_result"
    },
    {
     "data": {
      "image/png": "[encoded data removed]",
      "text/plain": [
       "<Figure size 640x480 with 1 Axes>"
      ]
     },
     "metadata": {},
     "output_type": "display_data"
    }
   ],
   "source": [
    "df.fare.plot(kind='hist')"
   ]
  },
  {
   "cell_type": "code",
   "execution_count": 106,
   "id": "af92d146",
   "metadata": {
    "id": "af92d146",
    "outputId": "8798b386-e15a-4abd-ace8-1115e57cda7e",
    "scrolled": true
   },
   "outputs": [
    {
     "data": {
      "text/plain": [
       "저가      674\n",
       "중가      451\n",
       "고가      146\n",
       "프리미엄     38\n",
       "Name: fare_cat, dtype: int64"
      ]
     },
     "execution_count": 106,
     "metadata": {},
     "output_type": "execute_result"
    }
   ],
   "source": [
    "#### 가격 범주화\n",
    "def get_cate(fare):\n",
    "    cat=''\n",
    "    if fare<=15: cat='저가'\n",
    "    elif fare<=60: cat='중가'\n",
    "    elif fare<=200: cat='고가'\n",
    "    else: cat='프리미엄'\n",
    "    return cat\n",
    "\n",
    "df['fare_cat']=df.fare.apply(lambda x: get_cate(x))\n",
    "df.fare_cat.value_counts()"
   ]
  },
  {
   "cell_type": "code",
   "execution_count": 107,
   "id": "6cd7aa26",
   "metadata": {
    "id": "6cd7aa26"
   },
   "outputs": [],
   "source": [
    "#### 나이 범주화\n",
    "def get_age(age):\n",
    "    cat = ''\n",
    "    if age < 5: cat='Baby'\n",
    "    elif age < 15: cat= 'Child'\n",
    "    elif age < 21: cat= 'Young Adult'\n",
    "    elif age < 49: cat='Adult'\n",
    "    elif age < 70: cat='Old'\n",
    "    else: cat = 'Elder'\n",
    "    return cat\n",
    "\n",
    "df['age_cat'] = df.age.apply(lambda x: get_age(x))"
   ]
  },
  {
   "cell_type": "code",
   "execution_count": 108,
   "id": "16b8241a",
   "metadata": {
    "id": "16b8241a"
   },
   "outputs": [],
   "source": [
    "#### 객실 구역 나누기\n",
    "df['cabin'].replace(np.nan, 'X', inplace=True)\n",
    "idx1 = df['cabin'].str.contains('A')\n",
    "idx2 = df['cabin'].str.contains('B')\n",
    "idx3 = df['cabin'].str.contains('C')\n",
    "idx4 = df['cabin'].str.contains('D')\n",
    "idx5 = df['cabin'].str.contains('E')\n",
    "idx6 = df['cabin'].str.contains('F')\n",
    "idx7 = df['cabin'].str.contains('G')\n",
    "\n",
    "df['cabin'][idx1] = 'A'\n",
    "df['cabin'][idx2] = 'B'\n",
    "df['cabin'][idx3] = 'C'\n",
    "df['cabin'][idx4] = 'D'\n",
    "df['cabin'][idx5] = 'E'\n",
    "df['cabin'][idx6] = 'F'\n",
    "df['cabin'][idx7] = 'G'"
   ]
  },
  {
   "cell_type": "code",
   "execution_count": 109,
   "id": "171cc315",
   "metadata": {
    "id": "171cc315",
    "outputId": "1553144a-278d-45c2-d077-0daaf4f40049",
    "scrolled": true
   },
   "outputs": [
    {
     "data": {
      "text/html": [
       "<div>\n",
       "<style scoped>\n",
       "    .dataframe tbody tr th:only-of-type {\n",
       "        vertical-align: middle;\n",
       "    }\n",
       "\n",
       "    .dataframe tbody tr th {\n",
       "        vertical-align: top;\n",
       "    }\n",
       "\n",
       "    .dataframe thead th {\n",
       "        text-align: right;\n",
       "    }\n",
       "</style>\n",
       "<table border=\"1\" class=\"dataframe\">\n",
       "  <thead>\n",
       "    <tr style=\"text-align: right;\">\n",
       "      <th></th>\n",
       "      <th>pclass</th>\n",
       "      <th>survived</th>\n",
       "      <th>sex</th>\n",
       "      <th>age</th>\n",
       "      <th>sibsp</th>\n",
       "      <th>parch</th>\n",
       "      <th>fare</th>\n",
       "      <th>cabin</th>\n",
       "      <th>embarked</th>\n",
       "      <th>family</th>\n",
       "      <th>fare_cat</th>\n",
       "      <th>age_cat</th>\n",
       "    </tr>\n",
       "  </thead>\n",
       "  <tbody>\n",
       "    <tr>\n",
       "      <th>0</th>\n",
       "      <td>1</td>\n",
       "      <td>1</td>\n",
       "      <td>female</td>\n",
       "      <td>29.00</td>\n",
       "      <td>0</td>\n",
       "      <td>0</td>\n",
       "      <td>211.3375</td>\n",
       "      <td>B</td>\n",
       "      <td>S</td>\n",
       "      <td>0</td>\n",
       "      <td>프리미엄</td>\n",
       "      <td>Adult</td>\n",
       "    </tr>\n",
       "    <tr>\n",
       "      <th>1</th>\n",
       "      <td>1</td>\n",
       "      <td>1</td>\n",
       "      <td>male</td>\n",
       "      <td>0.92</td>\n",
       "      <td>1</td>\n",
       "      <td>2</td>\n",
       "      <td>151.5500</td>\n",
       "      <td>C</td>\n",
       "      <td>S</td>\n",
       "      <td>3</td>\n",
       "      <td>고가</td>\n",
       "      <td>Baby</td>\n",
       "    </tr>\n",
       "    <tr>\n",
       "      <th>2</th>\n",
       "      <td>1</td>\n",
       "      <td>0</td>\n",
       "      <td>female</td>\n",
       "      <td>2.00</td>\n",
       "      <td>1</td>\n",
       "      <td>2</td>\n",
       "      <td>151.5500</td>\n",
       "      <td>C</td>\n",
       "      <td>S</td>\n",
       "      <td>3</td>\n",
       "      <td>고가</td>\n",
       "      <td>Baby</td>\n",
       "    </tr>\n",
       "    <tr>\n",
       "      <th>3</th>\n",
       "      <td>1</td>\n",
       "      <td>0</td>\n",
       "      <td>male</td>\n",
       "      <td>30.00</td>\n",
       "      <td>1</td>\n",
       "      <td>2</td>\n",
       "      <td>151.5500</td>\n",
       "      <td>C</td>\n",
       "      <td>S</td>\n",
       "      <td>3</td>\n",
       "      <td>고가</td>\n",
       "      <td>Adult</td>\n",
       "    </tr>\n",
       "    <tr>\n",
       "      <th>4</th>\n",
       "      <td>1</td>\n",
       "      <td>0</td>\n",
       "      <td>female</td>\n",
       "      <td>25.00</td>\n",
       "      <td>1</td>\n",
       "      <td>2</td>\n",
       "      <td>151.5500</td>\n",
       "      <td>C</td>\n",
       "      <td>S</td>\n",
       "      <td>3</td>\n",
       "      <td>고가</td>\n",
       "      <td>Adult</td>\n",
       "    </tr>\n",
       "  </tbody>\n",
       "</table>\n",
       "</div>"
      ],
      "text/plain": [
       "   pclass  survived     sex    age  sibsp  parch      fare cabin embarked  \\\n",
       "0       1         1  female  29.00      0      0  211.3375     B        S   \n",
       "1       1         1    male   0.92      1      2  151.5500     C        S   \n",
       "2       1         0  female   2.00      1      2  151.5500     C        S   \n",
       "3       1         0    male  30.00      1      2  151.5500     C        S   \n",
       "4       1         0  female  25.00      1      2  151.5500     C        S   \n",
       "\n",
       "   family fare_cat age_cat  \n",
       "0       0     프리미엄   Adult  \n",
       "1       3       고가    Baby  \n",
       "2       3       고가    Baby  \n",
       "3       3       고가   Adult  \n",
       "4       3       고가   Adult  "
      ]
     },
     "execution_count": 109,
     "metadata": {},
     "output_type": "execute_result"
    }
   ],
   "source": [
    "df.head()"
   ]
  },
  {
   "cell_type": "code",
   "execution_count": null,
   "id": "b170e450",
   "metadata": {
    "id": "b170e450"
   },
   "outputs": [],
   "source": []
  },
  {
   "cell_type": "code",
   "execution_count": null,
   "id": "9b6950cc",
   "metadata": {
    "id": "9b6950cc"
   },
   "outputs": [],
   "source": []
  },
  {
   "cell_type": "markdown",
   "id": "a53c4011",
   "metadata": {
    "id": "a53c4011"
   },
   "source": [
    "### 나이대에 따른 생존률"
   ]
  },
  {
   "cell_type": "code",
   "execution_count": 70,
   "id": "e2559ad8",
   "metadata": {
    "id": "e2559ad8",
    "outputId": "db6df422-b483-457e-93f4-901f7ad20566"
   },
   "outputs": [
    {
     "data": {
      "text/plain": [
       "<AxesSubplot:xlabel='age_cat', ylabel='survived'>"
      ]
     },
     "execution_count": 70,
     "metadata": {},
     "output_type": "execute_result"
    },
    {
     "data": {
      "image/png": "[encoded data removed]",
      "text/plain": [
       "<Figure size 640x480 with 1 Axes>"
      ]
     },
     "metadata": {},
     "output_type": "display_data"
    }
   ],
   "source": [
    "sns.barplot(x='age_cat',y='survived',data=df)\n",
    "# Elder는 1등급 승객조차도 절반밖에 못 살음 (다른 나이대 1등급에 비해 훨씬 낮은 수치)\n",
    "# Elder의 2,3등급 전원 사망\n",
    "# Old는 1등급 사람 비율이 워낙 많아서 생존률이 높게 나옴\n",
    "# Old의 2,3등급 생존률만 떼어 놓고 보면 다른 그룹에 비해 낮은 편"
   ]
  },
  {
   "cell_type": "code",
   "execution_count": 71,
   "id": "8482f251",
   "metadata": {
    "id": "8482f251",
    "outputId": "765387bc-c30a-4f19-f0e7-7ad7fbdfad47"
   },
   "outputs": [
    {
     "data": {
      "text/plain": [
       "<AxesSubplot:xlabel='age_cat', ylabel='survived'>"
      ]
     },
     "execution_count": 71,
     "metadata": {},
     "output_type": "execute_result"
    },
    {
     "data": {
      "image/png": "[encoded data removed]",
      "text/plain": [
       "<Figure size 640x480 with 1 Axes>"
      ]
     },
     "metadata": {},
     "output_type": "display_data"
    }
   ],
   "source": [
    "sns.barplot(x='age_cat',y='survived',hue='pclass',data=df)"
   ]
  },
  {
   "cell_type": "code",
   "execution_count": 72,
   "id": "ec303010",
   "metadata": {
    "id": "ec303010",
    "outputId": "5aace96c-4a94-42a8-b65a-01cbb00ac3f3"
   },
   "outputs": [
    {
     "data": {
      "text/plain": [
       "<AxesSubplot:xlabel='age_cat', ylabel='count'>"
      ]
     },
     "execution_count": 72,
     "metadata": {},
     "output_type": "execute_result"
    },
    {
     "data": {
      "image/png": "[encoded data removed]",
      "text/plain": [
       "<Figure size 640x480 with 1 Axes>"
      ]
     },
     "metadata": {},
     "output_type": "display_data"
    }
   ],
   "source": [
    "sns.countplot(x='age_cat',hue='pclass',data=df)"
   ]
  },
  {
   "cell_type": "markdown",
   "id": "7a402eb9",
   "metadata": {
    "id": "7a402eb9"
   },
   "source": [
    "### 객실 구역에 따른 생존률"
   ]
  },
  {
   "cell_type": "code",
   "execution_count": 73,
   "id": "64fdbc2b",
   "metadata": {
    "id": "64fdbc2b",
    "outputId": "5c5740d8-b766-407c-c014-e6fb7f58c570",
    "scrolled": true
   },
   "outputs": [
    {
     "data": {
      "text/plain": [
       "X    1014\n",
       "C      94\n",
       "B      65\n",
       "D      46\n",
       "E      41\n",
       "A      22\n",
       "F      17\n",
       "G       9\n",
       "T       1\n",
       "Name: cabin, dtype: int64"
      ]
     },
     "execution_count": 73,
     "metadata": {},
     "output_type": "execute_result"
    }
   ],
   "source": [
    "df.cabin.value_counts()\n",
    "# 알수 없음(X)값이 매우 많음"
   ]
  },
  {
   "cell_type": "code",
   "execution_count": 74,
   "id": "208ba0a4",
   "metadata": {
    "id": "208ba0a4",
    "outputId": "5d0bbc52-653f-484e-f876-3bcd7ac3154b"
   },
   "outputs": [
    {
     "data": {
      "text/html": [
       "<div>\n",
       "<style scoped>\n",
       "    .dataframe tbody tr th:only-of-type {\n",
       "        vertical-align: middle;\n",
       "    }\n",
       "\n",
       "    .dataframe tbody tr th {\n",
       "        vertical-align: top;\n",
       "    }\n",
       "\n",
       "    .dataframe thead th {\n",
       "        text-align: right;\n",
       "    }\n",
       "</style>\n",
       "<table border=\"1\" class=\"dataframe\">\n",
       "  <thead>\n",
       "    <tr style=\"text-align: right;\">\n",
       "      <th></th>\n",
       "      <th></th>\n",
       "      <th>pclass</th>\n",
       "      <th>survived</th>\n",
       "    </tr>\n",
       "    <tr>\n",
       "      <th>cabin</th>\n",
       "      <th>pclass</th>\n",
       "      <th></th>\n",
       "      <th></th>\n",
       "    </tr>\n",
       "  </thead>\n",
       "  <tbody>\n",
       "    <tr>\n",
       "      <th>A</th>\n",
       "      <th>1</th>\n",
       "      <td>22</td>\n",
       "      <td>11</td>\n",
       "    </tr>\n",
       "    <tr>\n",
       "      <th>B</th>\n",
       "      <th>1</th>\n",
       "      <td>65</td>\n",
       "      <td>47</td>\n",
       "    </tr>\n",
       "    <tr>\n",
       "      <th>C</th>\n",
       "      <th>1</th>\n",
       "      <td>94</td>\n",
       "      <td>57</td>\n",
       "    </tr>\n",
       "    <tr>\n",
       "      <th rowspan=\"2\" valign=\"top\">D</th>\n",
       "      <th>1</th>\n",
       "      <td>40</td>\n",
       "      <td>28</td>\n",
       "    </tr>\n",
       "    <tr>\n",
       "      <th>2</th>\n",
       "      <td>6</td>\n",
       "      <td>4</td>\n",
       "    </tr>\n",
       "    <tr>\n",
       "      <th rowspan=\"3\" valign=\"top\">E</th>\n",
       "      <th>1</th>\n",
       "      <td>34</td>\n",
       "      <td>24</td>\n",
       "    </tr>\n",
       "    <tr>\n",
       "      <th>2</th>\n",
       "      <td>4</td>\n",
       "      <td>3</td>\n",
       "    </tr>\n",
       "    <tr>\n",
       "      <th>3</th>\n",
       "      <td>3</td>\n",
       "      <td>3</td>\n",
       "    </tr>\n",
       "    <tr>\n",
       "      <th rowspan=\"2\" valign=\"top\">F</th>\n",
       "      <th>2</th>\n",
       "      <td>13</td>\n",
       "      <td>10</td>\n",
       "    </tr>\n",
       "    <tr>\n",
       "      <th>3</th>\n",
       "      <td>4</td>\n",
       "      <td>2</td>\n",
       "    </tr>\n",
       "    <tr>\n",
       "      <th>G</th>\n",
       "      <th>3</th>\n",
       "      <td>9</td>\n",
       "      <td>4</td>\n",
       "    </tr>\n",
       "    <tr>\n",
       "      <th>T</th>\n",
       "      <th>1</th>\n",
       "      <td>1</td>\n",
       "      <td>0</td>\n",
       "    </tr>\n",
       "    <tr>\n",
       "      <th rowspan=\"3\" valign=\"top\">X</th>\n",
       "      <th>1</th>\n",
       "      <td>67</td>\n",
       "      <td>33</td>\n",
       "    </tr>\n",
       "    <tr>\n",
       "      <th>2</th>\n",
       "      <td>254</td>\n",
       "      <td>102</td>\n",
       "    </tr>\n",
       "    <tr>\n",
       "      <th>3</th>\n",
       "      <td>693</td>\n",
       "      <td>172</td>\n",
       "    </tr>\n",
       "  </tbody>\n",
       "</table>\n",
       "</div>"
      ],
      "text/plain": [
       "              pclass  survived\n",
       "cabin pclass                  \n",
       "A     1           22        11\n",
       "B     1           65        47\n",
       "C     1           94        57\n",
       "D     1           40        28\n",
       "      2            6         4\n",
       "E     1           34        24\n",
       "      2            4         3\n",
       "      3            3         3\n",
       "F     2           13        10\n",
       "      3            4         2\n",
       "G     3            9         4\n",
       "T     1            1         0\n",
       "X     1           67        33\n",
       "      2          254       102\n",
       "      3          693       172"
      ]
     },
     "execution_count": 74,
     "metadata": {},
     "output_type": "execute_result"
    }
   ],
   "source": [
    "##### 객실별 pclass #####\n",
    "a = df.groupby(['cabin','pclass']).agg({'pclass':'count', 'survived':'sum'})\n",
    "a\n",
    "\n",
    "# A,B,C는 1등급 객실만/ 그 외 나머지 객실도 거의 1,2,등급 사람들이 많음\n",
    "# A~G까지, 등록되어 있는 객실 인원은 기본적으로 생존률이 매우 높은 편\n",
    "# NAN값(X)은 거의다 3등급 사람들 -> 생존률 낮음"
   ]
  },
  {
   "cell_type": "code",
   "execution_count": 75,
   "id": "c9bf6cce",
   "metadata": {
    "id": "c9bf6cce",
    "outputId": "55fe8a4d-3867-4a04-d2f2-1fbebcd76a2b"
   },
   "outputs": [
    {
     "data": {
      "text/plain": [
       "<AxesSubplot:xlabel='cabin', ylabel='survived'>"
      ]
     },
     "execution_count": 75,
     "metadata": {},
     "output_type": "execute_result"
    },
    {
     "data": {
      "image/png": "[encoded data removed]",
      "text/plain": [
       "<Figure size 1000x600 with 1 Axes>"
      ]
     },
     "metadata": {},
     "output_type": "display_data"
    }
   ],
   "source": [
    "# 객실 구역\n",
    "plt.figure(figsize=(10,6))\n",
    "order=['A','B','C','D','E','F','G','T','X']\n",
    "sns.barplot(x='cabin',y='survived',order=order,data=df)\n",
    "\n",
    "# 모든 구역의 생존률이 높아서 확인해보니 1,2등급의 비율이 높고,\n",
    "# nan값이 너무 많아서 유의미하지 않은 결과다."
   ]
  },
  {
   "cell_type": "code",
   "execution_count": 112,
   "id": "4f864f83",
   "metadata": {
    "id": "4f864f83",
    "outputId": "078a8bfa-52da-4cf3-b820-9296c458750d"
   },
   "outputs": [
    {
     "data": {
      "text/plain": [
       "<AxesSubplot:xlabel='cabin', ylabel='count'>"
      ]
     },
     "execution_count": 112,
     "metadata": {},
     "output_type": "execute_result"
    },
    {
     "data": {
      "image/png": "[encoded data removed]",
      "text/plain": [
       "<Figure size 2000x1000 with 1 Axes>"
      ]
     },
     "metadata": {},
     "output_type": "display_data"
    }
   ],
   "source": [
    "plt.figure(figsize=(20,10))\n",
    "sns.countplot(x='cabin',hue='survived',data=df)"
   ]
  },
  {
   "cell_type": "markdown",
   "id": "c056426d",
   "metadata": {
    "id": "c056426d"
   },
   "source": [
    "### 승선항에 따른 생존률"
   ]
  },
  {
   "cell_type": "code",
   "execution_count": 77,
   "id": "657dc0d1",
   "metadata": {
    "id": "657dc0d1",
    "outputId": "8d5fbf00-9938-4b01-de42-70b06db152fe"
   },
   "outputs": [
    {
     "data": {
      "text/plain": [
       "Text(1.0, 1.0, '승선항/객실등급 별 생존률')"
      ]
     },
     "execution_count": 77,
     "metadata": {},
     "output_type": "execute_result"
    },
    {
     "data": {
      "image/png": "[encoded data removed]",
      "text/plain": [
       "<Figure size 1400x600 with 2 Axes>"
      ]
     },
     "metadata": {},
     "output_type": "display_data"
    }
   ],
   "source": [
    "# 승선항\n",
    "fig, ax = plt.subplots(ncols=2, figsize=(14,6), constrained_layout=True)\n",
    "sns.barplot(x='embarked',y='survived',data=df, ax=ax[0])\n",
    "sns.barplot(x='embarked',y='survived',hue='pclass',data=df, ax=ax[1])\n",
    "\n",
    "ax[0].set_title(\"승선항에 따른 생존률\",loc='right',size=20)\n",
    "ax[1].set_title(\"승선항/객실등급 별 생존률\",loc='right',size=20)\n",
    "\n",
    "# 1,2,3 등급 모두 통틀어 'C'항구의 생존률이 가장 높은 편"
   ]
  },
  {
   "cell_type": "code",
   "execution_count": 78,
   "id": "1891b7c0",
   "metadata": {
    "id": "1891b7c0",
    "outputId": "20dd7636-cec3-4956-d3cc-d33261f36ee9"
   },
   "outputs": [
    {
     "data": {
      "text/plain": [
       "<AxesSubplot:xlabel='embarked', ylabel='count'>"
      ]
     },
     "execution_count": 78,
     "metadata": {},
     "output_type": "execute_result"
    },
    {
     "data": {
      "image/png": "[encoded data removed]",
      "text/plain": [
       "<Figure size 640x480 with 1 Axes>"
      ]
     },
     "metadata": {},
     "output_type": "display_data"
    }
   ],
   "source": [
    "sns.countplot(x='embarked',hue='pclass', data=df)\n",
    "# sns.countplot(x='embarked', data=df)\n",
    "\n",
    "# 생존률이 낮은 'S'와 'Q'항구는 3등급 객실 사람들이 많음\n",
    "# 'S'항구의 경우 1등급 객실 사람들의 비율이 높은 편 (인원수도 압도적으로 많음 S>C>Q)"
   ]
  },
  {
   "cell_type": "markdown",
   "id": "afbd84d0",
   "metadata": {
    "id": "afbd84d0"
   },
   "source": [
    "### 동승 가족 수에 따른 생존률"
   ]
  },
  {
   "cell_type": "code",
   "execution_count": 79,
   "id": "ba687c7b",
   "metadata": {
    "id": "ba687c7b",
    "outputId": "20754230-8edd-47cc-a694-846aaa2b0084"
   },
   "outputs": [
    {
     "data": {
      "text/plain": [
       "Text(1.0, 1.0, '동승한 형제/배우자 수에 따른 생존률')"
      ]
     },
     "execution_count": 79,
     "metadata": {},
     "output_type": "execute_result"
    },
    {
     "data": {
      "image/png": "[encoded data removed]",
      "text/plain": [
       "<Figure size 1400x600 with 2 Axes>"
      ]
     },
     "metadata": {},
     "output_type": "display_data"
    }
   ],
   "source": [
    "# 동승한 부모 또는 자녀 수/ 형제 도는 배우자 수\n",
    "fig, ax = plt.subplots(ncols=2, figsize=(14,6), constrained_layout=True)\n",
    "sns.barplot(x='parch',y='survived',data=df, ax=ax[0])\n",
    "sns.barplot(x='sibsp',y='survived',data=df, ax=ax[1])\n",
    "\n",
    "ax[0].set_title(\"동승한 부모/자녀 수에 따른 생존률\",loc='right',size=20)\n",
    "ax[1].set_title(\"동승한 형제/배우자 수에 따른 생존률\",loc='right',size=20)\n",
    "\n",
    "# 아예 없는 것보단 가족과 함께 탔을 때가 더 생존률이 높음(1~3명)\n",
    "# 그러나 4명 이상부턴 오히려 생존률이 떨어지는 편"
   ]
  },
  {
   "cell_type": "code",
   "execution_count": 80,
   "id": "bb9d2ed3",
   "metadata": {
    "id": "bb9d2ed3",
    "outputId": "2940700c-8249-4d4a-cf3f-f52fbb2ac81d"
   },
   "outputs": [
    {
     "data": {
      "text/plain": [
       "Text(1.0, 1.0, '동승한 가족 수/객실 등급에 따른 생존률')"
      ]
     },
     "execution_count": 80,
     "metadata": {},
     "output_type": "execute_result"
    },
    {
     "data": {
      "image/png": "[encoded data removed]",
      "text/plain": [
       "<Figure size 1800x800 with 2 Axes>"
      ]
     },
     "metadata": {},
     "output_type": "display_data"
    }
   ],
   "source": [
    "# 동승한 부모, 자녀, 형제, 배우자 등 총합\n",
    "fig, ax = plt.subplots(ncols=2, figsize=(18,8), constrained_layout=True)\n",
    "sns.barplot(x='family',y='survived',data=df, ax=ax[0])\n",
    "sns.barplot(x='family',y='survived',hue='pclass',data=df, ax=ax[1])\n",
    "\n",
    "ax[0].set_title(\"동승한 가족 수에 따른 생존률\",loc='right',size=20)\n",
    "ax[1].set_title(\"동승한 가족 수/객실 등급에 따른 생존률\",loc='right',size=20)\n",
    "\n",
    "# 전체적으로 동승한 가족이 있을수록 생존률이 높아짐\n",
    "# 다만 가족 수가 너무 많아도 생존률이 떨어지는 추세\n",
    "# 4,5에서 전체 생존률에 비해 1, 2등급의 생존률이 매우 높게 나온 것은 \n",
    "# 3등급에 비해 1,2등급 탑승자가 얼마 없어서 그러한 결과가 나온것으로 추측."
   ]
  },
  {
   "cell_type": "code",
   "execution_count": 81,
   "id": "44ec2236",
   "metadata": {
    "id": "44ec2236",
    "outputId": "5e14870e-1f0c-467d-8335-fe63e7b262b8"
   },
   "outputs": [
    {
     "data": {
      "text/plain": [
       "<AxesSubplot:xlabel='family', ylabel='survived'>"
      ]
     },
     "execution_count": 81,
     "metadata": {},
     "output_type": "execute_result"
    },
    {
     "data": {
      "image/png": "[encoded data removed]",
      "text/plain": [
       "<Figure size 2000x600 with 1 Axes>"
      ]
     },
     "metadata": {},
     "output_type": "display_data"
    }
   ],
   "source": [
    "plt.figure(figsize=(20,6))\n",
    "sns.barplot(x='family',y='survived',hue='sex',data=df)"
   ]
  },
  {
   "cell_type": "code",
   "execution_count": 111,
   "id": "09109689",
   "metadata": {
    "id": "09109689",
    "outputId": "a8bc6d36-ead0-43a2-cb7c-1d3557703baa",
    "scrolled": true
   },
   "outputs": [
    {
     "data": {
      "text/plain": [
       "<AxesSubplot:xlabel='family', ylabel='count'>"
      ]
     },
     "execution_count": 111,
     "metadata": {},
     "output_type": "execute_result"
    },
    {
     "data": {
      "image/png": "[encoded data removed]",
      "text/plain": [
       "<Figure size 2000x1000 with 1 Axes>"
      ]
     },
     "metadata": {},
     "output_type": "display_data"
    }
   ],
   "source": [
    "plt.figure(figsize=(20,10))\n",
    "sns.countplot(x='family',hue='survived',data=df)"
   ]
  },
  {
   "cell_type": "code",
   "execution_count": 83,
   "id": "358213cd",
   "metadata": {
    "id": "358213cd",
    "outputId": "67cdd5b7-74ca-4e55-bb4e-6fcbb95410bf",
    "scrolled": false
   },
   "outputs": [
    {
     "data": {
      "text/plain": [
       "<AxesSubplot:xlabel='family', ylabel='count'>"
      ]
     },
     "execution_count": 83,
     "metadata": {},
     "output_type": "execute_result"
    },
    {
     "data": {
      "image/png": "[encoded data removed]",
      "text/plain": [
       "<Figure size 640x480 with 1 Axes>"
      ]
     },
     "metadata": {},
     "output_type": "display_data"
    }
   ],
   "source": [
    "sns.countplot(x='family',hue='pclass',data=df)"
   ]
  },
  {
   "cell_type": "markdown",
   "id": "89173ba7",
   "metadata": {
    "id": "89173ba7"
   },
   "source": [
    "### 객실 가격에 따른 생존률"
   ]
  },
  {
   "cell_type": "code",
   "execution_count": 84,
   "id": "66b592c1",
   "metadata": {
    "id": "66b592c1",
    "outputId": "b3c4cfe7-0ad9-49db-b49f-2666f4cb83ad"
   },
   "outputs": [
    {
     "data": {
      "text/plain": [
       "Text(1.0, 1.0, '객실 등급에 따른 생존률')"
      ]
     },
     "execution_count": 84,
     "metadata": {},
     "output_type": "execute_result"
    },
    {
     "data": {
      "image/png": "[encoded data removed]",
      "text/plain": [
       "<Figure size 1400x600 with 2 Axes>"
      ]
     },
     "metadata": {},
     "output_type": "display_data"
    }
   ],
   "source": [
    "# 가격에 따른 생존률\n",
    "fig, ax = plt.subplots(ncols=2, figsize=(14,6), constrained_layout=True)\n",
    "\n",
    "order=['저가','중가','고가','프리미엄']\n",
    "sns.barplot(x='fare_cat',y='survived', order=order, data=df, ax=ax[0])\n",
    "order=[3,2,1]\n",
    "sns.barplot(x='pclass',y='survived', order=order, data=df, ax=ax[1])\n",
    "\n",
    "ax[0].set_title(\"객실 가격에 따른 생존률\",loc='right',size=20)\n",
    "ax[1].set_title(\"객실 등급에 따른 생존률\",loc='right',size=20)\n",
    "\n",
    "# 비싼 객실에 묶고 있을 수록 생존률 높음\n",
    "# 찾아보니 -> 당시 높은 등급 객실들의 위치가 탈출이 용이한 곳이었고, \n",
    "# 낮은 등급 객실 사람들이 나오지 못하게 바리게이트를 쳐 놔서 탈출이 늦어졌다고 함"
   ]
  },
  {
   "cell_type": "code",
   "execution_count": 85,
   "id": "1c8fac9e",
   "metadata": {
    "id": "1c8fac9e",
    "outputId": "cb1ee29d-6e08-4f57-eaab-cf48cbe234ea"
   },
   "outputs": [
    {
     "data": {
      "text/plain": [
       "<AxesSubplot:xlabel='fare_cat', ylabel='survived'>"
      ]
     },
     "execution_count": 85,
     "metadata": {},
     "output_type": "execute_result"
    },
    {
     "data": {
      "image/png": "[encoded data removed]",
      "text/plain": [
       "<Figure size 640x480 with 1 Axes>"
      ]
     },
     "metadata": {},
     "output_type": "display_data"
    }
   ],
   "source": [
    "# 가격/객실등급 별 생존률\n",
    "order=['저가','중가','고가','프리미엄']\n",
    "sns.barplot(x='fare_cat',y='survived', hue='pclass',order=order, data=df)"
   ]
  },
  {
   "cell_type": "code",
   "execution_count": null,
   "id": "aa4a0234",
   "metadata": {
    "id": "aa4a0234"
   },
   "outputs": [],
   "source": []
  },
  {
   "cell_type": "code",
   "execution_count": null,
   "id": "9f137774",
   "metadata": {
    "id": "9f137774"
   },
   "outputs": [],
   "source": []
  },
  {
   "cell_type": "code",
   "execution_count": null,
   "id": "d251deff",
   "metadata": {
    "id": "d251deff"
   },
   "outputs": [],
   "source": []
  },
  {
   "cell_type": "code",
   "execution_count": 86,
   "id": "f0709363",
   "metadata": {
    "id": "f0709363"
   },
   "outputs": [],
   "source": [
    "#### 원핫 인코딩: 승선 항구\n",
    "df = pd.get_dummies(df, columns=['embarked'])\n",
    "\n",
    "#### 원핫 인코딩: 성별\n",
    "df = pd.get_dummies(df, columns=['sex'])\n",
    "\n",
    "#### 원핫 인코딩: 가격\n",
    "df = pd.get_dummies(df, columns=['fare_cat'])\n",
    "\n",
    "#### 원핫 인코딩: 나이\n",
    "df = pd.get_dummies(df, columns=['age_cat'])\n",
    "\n",
    "#### 원핫 인코딩: 클래스\n",
    "# df = pd.get_dummies(df, columns=['pclass'])\n",
    "\n",
    "#### 원핫 인코딩: 객실\n",
    "# df = pd.get_dummies(df, columns=['cabin'])"
   ]
  },
  {
   "cell_type": "code",
   "execution_count": 87,
   "id": "e042966b",
   "metadata": {
    "id": "e042966b"
   },
   "outputs": [],
   "source": [
    "# df.drop(['age', 'fare','fare_cat','cabin'], axis=1, inplace=True)\n",
    "df.drop(['age', 'fare','pclass','cabin'], axis=1, inplace=True)"
   ]
  },
  {
   "cell_type": "code",
   "execution_count": 88,
   "id": "0d5c675a",
   "metadata": {
    "id": "0d5c675a",
    "outputId": "703482da-30d1-41b0-df80-f9997da165dc"
   },
   "outputs": [
    {
     "data": {
      "text/html": [
       "<div>\n",
       "<style scoped>\n",
       "    .dataframe tbody tr th:only-of-type {\n",
       "        vertical-align: middle;\n",
       "    }\n",
       "\n",
       "    .dataframe tbody tr th {\n",
       "        vertical-align: top;\n",
       "    }\n",
       "\n",
       "    .dataframe thead th {\n",
       "        text-align: right;\n",
       "    }\n",
       "</style>\n",
       "<table border=\"1\" class=\"dataframe\">\n",
       "  <thead>\n",
       "    <tr style=\"text-align: right;\">\n",
       "      <th></th>\n",
       "      <th>survived</th>\n",
       "      <th>sibsp</th>\n",
       "      <th>parch</th>\n",
       "      <th>family</th>\n",
       "      <th>embarked_C</th>\n",
       "      <th>embarked_Q</th>\n",
       "      <th>embarked_S</th>\n",
       "      <th>sex_female</th>\n",
       "      <th>sex_male</th>\n",
       "      <th>fare_cat_고가</th>\n",
       "      <th>fare_cat_저가</th>\n",
       "      <th>fare_cat_중가</th>\n",
       "      <th>fare_cat_프리미엄</th>\n",
       "      <th>age_cat_Adult</th>\n",
       "      <th>age_cat_Baby</th>\n",
       "      <th>age_cat_Child</th>\n",
       "      <th>age_cat_Elder</th>\n",
       "      <th>age_cat_Old</th>\n",
       "      <th>age_cat_Young Adult</th>\n",
       "    </tr>\n",
       "  </thead>\n",
       "  <tbody>\n",
       "    <tr>\n",
       "      <th>0</th>\n",
       "      <td>1</td>\n",
       "      <td>0</td>\n",
       "      <td>0</td>\n",
       "      <td>0</td>\n",
       "      <td>0</td>\n",
       "      <td>0</td>\n",
       "      <td>1</td>\n",
       "      <td>1</td>\n",
       "      <td>0</td>\n",
       "      <td>0</td>\n",
       "      <td>0</td>\n",
       "      <td>0</td>\n",
       "      <td>1</td>\n",
       "      <td>1</td>\n",
       "      <td>0</td>\n",
       "      <td>0</td>\n",
       "      <td>0</td>\n",
       "      <td>0</td>\n",
       "      <td>0</td>\n",
       "    </tr>\n",
       "    <tr>\n",
       "      <th>1</th>\n",
       "      <td>1</td>\n",
       "      <td>1</td>\n",
       "      <td>2</td>\n",
       "      <td>3</td>\n",
       "      <td>0</td>\n",
       "      <td>0</td>\n",
       "      <td>1</td>\n",
       "      <td>0</td>\n",
       "      <td>1</td>\n",
       "      <td>1</td>\n",
       "      <td>0</td>\n",
       "      <td>0</td>\n",
       "      <td>0</td>\n",
       "      <td>0</td>\n",
       "      <td>1</td>\n",
       "      <td>0</td>\n",
       "      <td>0</td>\n",
       "      <td>0</td>\n",
       "      <td>0</td>\n",
       "    </tr>\n",
       "    <tr>\n",
       "      <th>2</th>\n",
       "      <td>0</td>\n",
       "      <td>1</td>\n",
       "      <td>2</td>\n",
       "      <td>3</td>\n",
       "      <td>0</td>\n",
       "      <td>0</td>\n",
       "      <td>1</td>\n",
       "      <td>1</td>\n",
       "      <td>0</td>\n",
       "      <td>1</td>\n",
       "      <td>0</td>\n",
       "      <td>0</td>\n",
       "      <td>0</td>\n",
       "      <td>0</td>\n",
       "      <td>1</td>\n",
       "      <td>0</td>\n",
       "      <td>0</td>\n",
       "      <td>0</td>\n",
       "      <td>0</td>\n",
       "    </tr>\n",
       "    <tr>\n",
       "      <th>3</th>\n",
       "      <td>0</td>\n",
       "      <td>1</td>\n",
       "      <td>2</td>\n",
       "      <td>3</td>\n",
       "      <td>0</td>\n",
       "      <td>0</td>\n",
       "      <td>1</td>\n",
       "      <td>0</td>\n",
       "      <td>1</td>\n",
       "      <td>1</td>\n",
       "      <td>0</td>\n",
       "      <td>0</td>\n",
       "      <td>0</td>\n",
       "      <td>1</td>\n",
       "      <td>0</td>\n",
       "      <td>0</td>\n",
       "      <td>0</td>\n",
       "      <td>0</td>\n",
       "      <td>0</td>\n",
       "    </tr>\n",
       "    <tr>\n",
       "      <th>4</th>\n",
       "      <td>0</td>\n",
       "      <td>1</td>\n",
       "      <td>2</td>\n",
       "      <td>3</td>\n",
       "      <td>0</td>\n",
       "      <td>0</td>\n",
       "      <td>1</td>\n",
       "      <td>1</td>\n",
       "      <td>0</td>\n",
       "      <td>1</td>\n",
       "      <td>0</td>\n",
       "      <td>0</td>\n",
       "      <td>0</td>\n",
       "      <td>1</td>\n",
       "      <td>0</td>\n",
       "      <td>0</td>\n",
       "      <td>0</td>\n",
       "      <td>0</td>\n",
       "      <td>0</td>\n",
       "    </tr>\n",
       "    <tr>\n",
       "      <th>...</th>\n",
       "      <td>...</td>\n",
       "      <td>...</td>\n",
       "      <td>...</td>\n",
       "      <td>...</td>\n",
       "      <td>...</td>\n",
       "      <td>...</td>\n",
       "      <td>...</td>\n",
       "      <td>...</td>\n",
       "      <td>...</td>\n",
       "      <td>...</td>\n",
       "      <td>...</td>\n",
       "      <td>...</td>\n",
       "      <td>...</td>\n",
       "      <td>...</td>\n",
       "      <td>...</td>\n",
       "      <td>...</td>\n",
       "      <td>...</td>\n",
       "      <td>...</td>\n",
       "      <td>...</td>\n",
       "    </tr>\n",
       "    <tr>\n",
       "      <th>1304</th>\n",
       "      <td>0</td>\n",
       "      <td>1</td>\n",
       "      <td>0</td>\n",
       "      <td>1</td>\n",
       "      <td>1</td>\n",
       "      <td>0</td>\n",
       "      <td>0</td>\n",
       "      <td>1</td>\n",
       "      <td>0</td>\n",
       "      <td>0</td>\n",
       "      <td>1</td>\n",
       "      <td>0</td>\n",
       "      <td>0</td>\n",
       "      <td>0</td>\n",
       "      <td>0</td>\n",
       "      <td>1</td>\n",
       "      <td>0</td>\n",
       "      <td>0</td>\n",
       "      <td>0</td>\n",
       "    </tr>\n",
       "    <tr>\n",
       "      <th>1305</th>\n",
       "      <td>0</td>\n",
       "      <td>1</td>\n",
       "      <td>0</td>\n",
       "      <td>1</td>\n",
       "      <td>1</td>\n",
       "      <td>0</td>\n",
       "      <td>0</td>\n",
       "      <td>1</td>\n",
       "      <td>0</td>\n",
       "      <td>0</td>\n",
       "      <td>1</td>\n",
       "      <td>0</td>\n",
       "      <td>0</td>\n",
       "      <td>1</td>\n",
       "      <td>0</td>\n",
       "      <td>0</td>\n",
       "      <td>0</td>\n",
       "      <td>0</td>\n",
       "      <td>0</td>\n",
       "    </tr>\n",
       "    <tr>\n",
       "      <th>1306</th>\n",
       "      <td>0</td>\n",
       "      <td>0</td>\n",
       "      <td>0</td>\n",
       "      <td>0</td>\n",
       "      <td>1</td>\n",
       "      <td>0</td>\n",
       "      <td>0</td>\n",
       "      <td>0</td>\n",
       "      <td>1</td>\n",
       "      <td>0</td>\n",
       "      <td>1</td>\n",
       "      <td>0</td>\n",
       "      <td>0</td>\n",
       "      <td>1</td>\n",
       "      <td>0</td>\n",
       "      <td>0</td>\n",
       "      <td>0</td>\n",
       "      <td>0</td>\n",
       "      <td>0</td>\n",
       "    </tr>\n",
       "    <tr>\n",
       "      <th>1307</th>\n",
       "      <td>0</td>\n",
       "      <td>0</td>\n",
       "      <td>0</td>\n",
       "      <td>0</td>\n",
       "      <td>1</td>\n",
       "      <td>0</td>\n",
       "      <td>0</td>\n",
       "      <td>0</td>\n",
       "      <td>1</td>\n",
       "      <td>0</td>\n",
       "      <td>1</td>\n",
       "      <td>0</td>\n",
       "      <td>0</td>\n",
       "      <td>1</td>\n",
       "      <td>0</td>\n",
       "      <td>0</td>\n",
       "      <td>0</td>\n",
       "      <td>0</td>\n",
       "      <td>0</td>\n",
       "    </tr>\n",
       "    <tr>\n",
       "      <th>1308</th>\n",
       "      <td>0</td>\n",
       "      <td>0</td>\n",
       "      <td>0</td>\n",
       "      <td>0</td>\n",
       "      <td>0</td>\n",
       "      <td>0</td>\n",
       "      <td>1</td>\n",
       "      <td>0</td>\n",
       "      <td>1</td>\n",
       "      <td>0</td>\n",
       "      <td>1</td>\n",
       "      <td>0</td>\n",
       "      <td>0</td>\n",
       "      <td>1</td>\n",
       "      <td>0</td>\n",
       "      <td>0</td>\n",
       "      <td>0</td>\n",
       "      <td>0</td>\n",
       "      <td>0</td>\n",
       "    </tr>\n",
       "  </tbody>\n",
       "</table>\n",
       "<p>1309 rows × 19 columns</p>\n",
       "</div>"
      ],
      "text/plain": [
       "      survived  sibsp  parch  family  embarked_C  embarked_Q  embarked_S  \\\n",
       "0            1      0      0       0           0           0           1   \n",
       "1            1      1      2       3           0           0           1   \n",
       "2            0      1      2       3           0           0           1   \n",
       "3            0      1      2       3           0           0           1   \n",
       "4            0      1      2       3           0           0           1   \n",
       "...        ...    ...    ...     ...         ...         ...         ...   \n",
       "1304         0      1      0       1           1           0           0   \n",
       "1305         0      1      0       1           1           0           0   \n",
       "1306         0      0      0       0           1           0           0   \n",
       "1307         0      0      0       0           1           0           0   \n",
       "1308         0      0      0       0           0           0           1   \n",
       "\n",
       "      sex_female  sex_male  fare_cat_고가  fare_cat_저가  fare_cat_중가  \\\n",
       "0              1         0            0            0            0   \n",
       "1              0         1            1            0            0   \n",
       "2              1         0            1            0            0   \n",
       "3              0         1            1            0            0   \n",
       "4              1         0            1            0            0   \n",
       "...          ...       ...          ...          ...          ...   \n",
       "1304           1         0            0            1            0   \n",
       "1305           1         0            0            1            0   \n",
       "1306           0         1            0            1            0   \n",
       "1307           0         1            0            1            0   \n",
       "1308           0         1            0            1            0   \n",
       "\n",
       "      fare_cat_프리미엄  age_cat_Adult  age_cat_Baby  age_cat_Child  \\\n",
       "0                 1              1             0              0   \n",
       "1                 0              0             1              0   \n",
       "2                 0              0             1              0   \n",
       "3                 0              1             0              0   \n",
       "4                 0              1             0              0   \n",
       "...             ...            ...           ...            ...   \n",
       "1304              0              0             0              1   \n",
       "1305              0              1             0              0   \n",
       "1306              0              1             0              0   \n",
       "1307              0              1             0              0   \n",
       "1308              0              1             0              0   \n",
       "\n",
       "      age_cat_Elder  age_cat_Old  age_cat_Young Adult  \n",
       "0                 0            0                    0  \n",
       "1                 0            0                    0  \n",
       "2                 0            0                    0  \n",
       "3                 0            0                    0  \n",
       "4                 0            0                    0  \n",
       "...             ...          ...                  ...  \n",
       "1304              0            0                    0  \n",
       "1305              0            0                    0  \n",
       "1306              0            0                    0  \n",
       "1307              0            0                    0  \n",
       "1308              0            0                    0  \n",
       "\n",
       "[1309 rows x 19 columns]"
      ]
     },
     "execution_count": 88,
     "metadata": {},
     "output_type": "execute_result"
    }
   ],
   "source": [
    "df"
   ]
  },
  {
   "cell_type": "code",
   "execution_count": 89,
   "id": "0d184e0c",
   "metadata": {
    "id": "0d184e0c",
    "outputId": "6acbc90b-93a8-4d24-b793-ed67f17d0cf4"
   },
   "outputs": [
    {
     "name": "stdout",
     "output_type": "stream",
     "text": [
      "(1047, 18)\n",
      "(262, 18)\n"
     ]
    }
   ],
   "source": [
    "from sklearn import preprocessing\n",
    "from sklearn.model_selection import train_test_split\n",
    "\n",
    "# 독립변수, 종속변수 분리\n",
    "y_t_df = df['survived'] # 종속변수\n",
    "X_t_df = df.drop('survived', axis = 1) # 독립변수\n",
    "\n",
    "# 독립변수 정규화\n",
    "# X_t_df = preprocessing.StandardScaler().fit(X_t_df).transform(X_t_df)\n",
    "\n",
    "# 학습용 데이터와 평가용 데이터를 8:2 혹은 7:3으로 분리\n",
    "X_train, X_test, y_train, y_test = train_test_split(X_t_df, y_t_df, test_size = 0.2,\n",
    "                                                   random_state = 11)\n",
    "\n",
    "print(X_train.shape)\n",
    "print(X_test.shape)"
   ]
  },
  {
   "cell_type": "code",
   "execution_count": 90,
   "id": "8d22a3ac",
   "metadata": {
    "id": "8d22a3ac",
    "outputId": "b1a0f8b2-fefc-4b44-f1cb-977c072b6856",
    "scrolled": true
   },
   "outputs": [
    {
     "name": "stdout",
     "output_type": "stream",
     "text": [
      "rf 정확도:0.81, lr 정확도:0.82\n"
     ]
    }
   ],
   "source": [
    "# 모델 학습 및 평가\n",
    "from sklearn.metrics import accuracy_score\n",
    "from sklearn.linear_model import LogisticRegression\n",
    "from sklearn.ensemble import RandomForestClassifier\n",
    "\n",
    "rf_model = RandomForestClassifier()\n",
    "rf_model.fit(X_train, y_train)\n",
    "rf_pred = rf_model.predict(X_test)\n",
    "accuracy_rf = accuracy_score(y_test, rf_pred).round(2)\n",
    "\n",
    "lr_model = LogisticRegression()\n",
    "lr_model.fit(X_train,y_train)\n",
    "lr_pred = lr_model.predict(X_test)\n",
    "accuracy_lr = accuracy_score(y_test,lr_pred).round(2)\n",
    "\n",
    "print('rf 정확도:{}, lr 정확도:{}'.format(accuracy_rf,accuracy_lr))"
   ]
  },
  {
   "cell_type": "code",
   "execution_count": null,
   "id": "1d88c6b2",
   "metadata": {
    "id": "1d88c6b2"
   },
   "outputs": [],
   "source": []
  },
  {
   "cell_type": "markdown",
   "id": "3fc0b3be",
   "metadata": {
    "id": "3fc0b3be"
   },
   "source": []
  },
  {
   "cell_type": "markdown",
   "id": "3c39b763",
   "metadata": {},
   "source": [
    "<< age >>\n",
    "나이에 결측치가 200몇개가 잇음\n",
    "-> 다 평균이나 삭제하기 보다는 name 칼럼에서 보여지는 특징을 가지고\n",
    "그 특징들의 평균값으로 결측치를 대체하기로 했습니다.\n",
    "\n",
    "첫 번째 문단에서는 age의 결측값을 1000으로 치환하고, 정상값, nan값으로 구분을 했습니다.\n",
    "여기서 male female로 나눈 이유는 나중에 doctor의 값을 넣을 때 여자남자를 구분하기 위함입니다.\n",
    "\n",
    "두번째 문단에서는 name칼럼에서 보여지는 특징(miss, mrs, doctor,,,)으로 구분하는 과정이구요,\n",
    "\n",
    "세번째문단은 age칼럼의 (정상적인 값들의) 평균을 내는 과정.\n",
    "첫번째, 두번째 문단에서 구분한 것들을 결합한것인데, \n",
    "miss라는 변수에는 \n",
    "name에서 miss가 들어간 것들과 , age가 정상값인것들의 평균값을 내는 과정입니다.\n",
    "이런식으로 모든 특징에 대한 평균값을 내줬고,\n",
    "\n",
    "마지막 문단은\n",
    "세번째 문단에서 구한 평균치를/ 해당되는 결측치에 넣어주는 과정입니다.\n",
    "\n",
    "결과적으로, 이름에서 보여지는 특징에 맞는 평균치가 들어갔습니다. \n",
    "\n",
    "\n",
    "\n",
    "<<객실구역나누기>>\n",
    "저희가 객실 구역에 따른 생존률도 확인해봤는데\n",
    "큰 영향을 미치지 않는 것으로 판단되어 그 인사이트는 삭제를 했습니다.\n",
    "그래도 밑에 그래프 뽑은 게 있어서 얘는 지우지 않았구요,\n",
    "\n",
    "사우스햄튼은 탑승자수가 가장 많고, 3등급 승객의 비율도 매우 높은 편\n",
    "퀸즈타운은 탑승자 수는 적은 편이나, 비율적으로 3등급 승객이 거의 대부분을 차지함\n",
    "쉘부르크는 1등급 승객의 비율이 가장 많음 -> 생존률 높음\n",
    "\n",
    "\n",
    "\n",
    "\n",
    "<<나이에 따른 생존률>>\n",
    "old랑 elder를 좀 주의깊게 봤는데요\n",
    "Elder의 2,3등급 전원 사망\n",
    "Elder는 1등급 승객조차도 절반밖에 못 살음 (다른 나이대 1등급에 비해 훨씬 낮은 수치)\n",
    "Old쪽을 보면 1등급 사람 비율이 워낙 많아서 생존률이 높게 나옴\n",
    "Old의 2,3등급 생존률만 떼어 놓고 보면 다른 그룹에 비해 낮은 편\n",
    "\n",
    "해당 나이대에, 어떤 클래스로 탑승했는지 카운트 해주는 그래프인데, \n",
    "elder, 2,3등급 사람이 탑승하긴 했지만 생존률이 없다는 것을 알 수 있습니다.\n",
    "\n",
    "@질문목록\n",
    "3. 객실별 pclass -> a구역 1등급의 사람들,생존자 => 구역별로 생존률 확인하고 싶었ㄴㄴ데 변별력이 없다.\n",
    "\n",
    "\n",
    "\n",
    "혼자 탄 사라미 ㅁ많다."
   ]
  }
 ],
 "metadata": {
  "colab": {
   "provenance": []
  },
  "kernelspec": {
   "display_name": "Python 3 (ipykernel)",
   "language": "python",
   "name": "python3"
  },
  "language_info": {
   "codemirror_mode": {
    "name": "ipython",
    "version": 3
   },
   "file_extension": ".py",
   "mimetype": "text/x-python",
   "name": "python",
   "nbconvert_exporter": "python",
   "pygments_lexer": "ipython3",
   "version": "3.9.13"
  }
 },
 "nbformat": 4,
 "nbformat_minor": 5
}
